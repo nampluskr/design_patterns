{
 "cells": [
  {
   "cell_type": "markdown",
   "metadata": {},
   "source": [
    "## Observer Pattern: NoCodeProgram\n",
    "\n",
    "- https://github.com/NoCodeProgram/DesignPatterns/blob/main/Behavioral/observerP.ipynb"
   ]
  },
  {
   "cell_type": "code",
   "execution_count": 3,
   "metadata": {},
   "outputs": [],
   "source": [
    "## Obserber Interface\n",
    "class Observer:\n",
    "    def update(self):\n",
    "        pass\n",
    "\n",
    "class Cat(Observer):\n",
    "    def update(self):\n",
    "        print('meow')\n",
    "\n",
    "class Dog(Observer):\n",
    "    def update(self):\n",
    "        print('bark')\n",
    "\n",
    "\n",
    "## Subject\n",
    "class Owner:\n",
    "    def __init__(self):\n",
    "        self.animals = []\n",
    "\n",
    "    def register(self, animal: Observer):\n",
    "        self.animals.append(animal)\n",
    "\n",
    "    def notify(self):\n",
    "        for animal in self.animals:\n",
    "            animal.update()"
   ]
  },
  {
   "cell_type": "code",
   "execution_count": null,
   "metadata": {},
   "outputs": [],
   "source": [
    "owner = Owner()\n",
    "cat = Cat()\n",
    "dog = Dog()\n",
    "\n",
    "owner.register(cat)\n",
    "owner.register(dog)\n",
    "\n",
    "owner.notify()"
   ]
  },
  {
   "cell_type": "markdown",
   "metadata": {},
   "source": [
    "## Observer : Refactoring Guru\n",
    "\n",
    "- https://refactoring.guru/ko/design-patterns/observer\n",
    "- https://refactoring.guru/ko/design-patterns/observer/python/example"
   ]
  },
  {
   "cell_type": "code",
   "execution_count": 2,
   "metadata": {},
   "outputs": [],
   "source": [
    "from __future__ import annotations\n",
    "from abc import ABC, abstractmethod\n",
    "from random import randrange\n",
    "from typing import List"
   ]
  },
  {
   "cell_type": "code",
   "execution_count": 14,
   "metadata": {},
   "outputs": [],
   "source": [
    "## Subject Interface\n",
    "class Subject(ABC):\n",
    "    @abstractmethod\n",
    "    def attach(self, observer: Observer) -> None:\n",
    "        pass\n",
    "\n",
    "    @abstractmethod\n",
    "    def detach(self, observer: Observer) -> None:\n",
    "        pass\n",
    "\n",
    "    @abstractmethod\n",
    "    def notify(self) -> None:\n",
    "        pass\n",
    "\n",
    "\n",
    "class ConcreteSubject(Subject):\n",
    "    _state: int = None\n",
    "    _observers: List[Observer] = []\n",
    "\n",
    "    def attach(self, observer: Observer) -> None:\n",
    "        print(\"Subject: Attached an observer.\")\n",
    "        self._observers.append(observer)\n",
    "\n",
    "    def detach(self, observer: Observer) -> None:\n",
    "        self._observers.remove(observer)\n",
    "\n",
    "    def notify(self) -> None:\n",
    "        print(\"Subject: Notifying observers...\")\n",
    "        for observer in self._observers:\n",
    "            observer.update(self)\n",
    "\n",
    "    def some_business_logic(self) -> None:\n",
    "        print(\"\\nSubject: I'm doing something important.\")\n",
    "        self._state = randrange(0, 10)\n",
    "\n",
    "        print(f\"Subject: My state has just changed to: {self._state}\")\n",
    "        self.notify()\n",
    "\n",
    "\n",
    "## Observer Interface\n",
    "class Observer(ABC):\n",
    "    @abstractmethod\n",
    "    def update(self, subject: Subject) -> None:\n",
    "        pass\n",
    "\n",
    "\n",
    "class ConcreteObserverA(Observer):\n",
    "    def update(self, subject: Subject) -> None:\n",
    "        if subject._state < 3:\n",
    "            print(\"ConcreteObserverA: Reacted to the event\")\n",
    "\n",
    "\n",
    "class ConcreteObserverB(Observer):\n",
    "    def update(self, subject: Subject) -> None:\n",
    "        if subject._state == 0 or subject._state >= 2:\n",
    "            print(\"ConcreteObserverB: Reacted to the event\")"
   ]
  },
  {
   "cell_type": "code",
   "execution_count": 15,
   "metadata": {},
   "outputs": [
    {
     "name": "stdout",
     "output_type": "stream",
     "text": [
      "Subject: Attached an observer.\n",
      "\n",
      "Subject: I'm doing something important.\n",
      "Subject: My state has just changed to: 2\n",
      "Subject: Notifying observers...\n",
      "ConcreteObserverA: Reacted to the event\n"
     ]
    }
   ],
   "source": [
    "subject = ConcreteSubject()\n",
    "\n",
    "observer_a = ConcreteObserverA()\n",
    "subject.attach(observer_a)\n",
    "subject.some_business_logic()"
   ]
  },
  {
   "cell_type": "code",
   "execution_count": 16,
   "metadata": {},
   "outputs": [
    {
     "name": "stdout",
     "output_type": "stream",
     "text": [
      "Subject: Attached an observer.\n",
      "\n",
      "Subject: I'm doing something important.\n",
      "Subject: My state has just changed to: 7\n",
      "Subject: Notifying observers...\n",
      "ConcreteObserverB: Reacted to the event\n"
     ]
    }
   ],
   "source": [
    "observer_b = ConcreteObserverB()\n",
    "subject.attach(observer_b)\n",
    "subject.some_business_logic()"
   ]
  },
  {
   "cell_type": "code",
   "execution_count": 17,
   "metadata": {},
   "outputs": [
    {
     "name": "stdout",
     "output_type": "stream",
     "text": [
      "\n",
      "Subject: I'm doing something important.\n",
      "Subject: My state has just changed to: 8\n",
      "Subject: Notifying observers...\n",
      "ConcreteObserverB: Reacted to the event\n"
     ]
    }
   ],
   "source": [
    "subject.detach(observer_a)\n",
    "subject.some_business_logic()"
   ]
  },
  {
   "cell_type": "markdown",
   "metadata": {},
   "source": [
    "## Observer Pattern: python101.tistory.com\n",
    "\n",
    "- [[디자인 패턴] 옵저버 패턴 (Observer Pattern) - python 예제 코드](https://python101.tistory.com/entry/%EB%94%94%EC%9E%90%EC%9D%B8-%ED%8C%A8%ED%84%B4-%EC%98%B5%EC%A0%80%EB%B2%84-%ED%8C%A8%ED%84%B4-Observer-Pattern-python-%EC%98%88%EC%A0%9C-%EC%BD%94%EB%93%9C?category=1347766)"
   ]
  },
  {
   "cell_type": "code",
   "execution_count": 18,
   "metadata": {},
   "outputs": [],
   "source": [
    "## Subject Interface\n",
    "class Subject:\n",
    "    def __init__(self):\n",
    "        self._observers = []\n",
    "\n",
    "    def attach(self, observer):\n",
    "        if observer not in self._observers:\n",
    "            self._observers.append(observer)\n",
    "\n",
    "    def detach(self, observer):\n",
    "        try:\n",
    "            self._observers.remove(observer)\n",
    "        except ValueError:\n",
    "            pass\n",
    "\n",
    "    def notify(self, message):\n",
    "        for observer in self._observers:\n",
    "            observer.update(message)\n",
    "\n",
    "\n",
    "class ConcreteSubject(Subject):\n",
    "    def __init__(self):\n",
    "        super().__init__()\n",
    "        self._state = None\n",
    "\n",
    "    @property\n",
    "    def state(self):\n",
    "        return self._state\n",
    "\n",
    "    @state.setter\n",
    "    def state(self, value):\n",
    "        self._state = value\n",
    "        self.notify(value)\n",
    "        \n",
    "\n",
    "## Observer Interface\n",
    "class Observer:\n",
    "    def update(self, message):\n",
    "        raise NotImplementedError()\n",
    "\n",
    "    \n",
    "class ConcreteObserver(Observer):\n",
    "    def __init__(self, name):\n",
    "        self._name = name\n",
    "\n",
    "    def update(self, message):\n",
    "        print(f\"{self._name} received message: {message}\")"
   ]
  },
  {
   "cell_type": "code",
   "execution_count": 23,
   "metadata": {},
   "outputs": [
    {
     "name": "stdout",
     "output_type": "stream",
     "text": [
      "Observer 1 received message: new state 1\n"
     ]
    }
   ],
   "source": [
    "subject = ConcreteSubject()\n",
    "observer1 = ConcreteObserver(\"Observer 1\")\n",
    "subject.attach(observer1)\n",
    "subject.state = \"new state 1\""
   ]
  },
  {
   "cell_type": "code",
   "execution_count": 24,
   "metadata": {},
   "outputs": [
    {
     "name": "stdout",
     "output_type": "stream",
     "text": [
      "Observer 1 received message: new state 2\n",
      "Observer 2 received message: new state 2\n"
     ]
    }
   ],
   "source": [
    "observer2 = ConcreteObserver(\"Observer 2\")\n",
    "subject.attach(observer2)\n",
    "subject.state = \"new state 2\""
   ]
  }
 ],
 "metadata": {
  "kernelspec": {
   "display_name": "base",
   "language": "python",
   "name": "python3"
  },
  "language_info": {
   "codemirror_mode": {
    "name": "ipython",
    "version": 3
   },
   "file_extension": ".py",
   "mimetype": "text/x-python",
   "name": "python",
   "nbconvert_exporter": "python",
   "pygments_lexer": "ipython3",
   "version": "3.12.7"
  }
 },
 "nbformat": 4,
 "nbformat_minor": 2
}
