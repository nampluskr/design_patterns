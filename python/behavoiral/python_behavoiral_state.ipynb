{
 "cells": [
  {
   "cell_type": "markdown",
   "metadata": {},
   "source": [
    "## State Pattern: NoCodeProgram\n",
    "\n",
    "- https://github.com/NoCodeProgram/DesignPatterns/blob/main/Behavioral/stateP.ipynb"
   ]
  },
  {
   "cell_type": "code",
   "execution_count": 16,
   "metadata": {},
   "outputs": [
    {
     "name": "stdout",
     "output_type": "stream",
     "text": [
      "green light\n",
      "wait.. the light changed\n",
      "red light\n",
      "wait.. the light changed\n",
      "green light\n"
     ]
    }
   ],
   "source": [
    "## Without State Pattern (if/elif)\n",
    "class TrafficLight:\n",
    "    def __init__(self):\n",
    "        self.state = \"green\"\n",
    "\n",
    "    def set_state(self, state):\n",
    "        self.state = state\n",
    "\n",
    "    def speak(self):\n",
    "        if self.state == \"green\":\n",
    "            print(\"green light\")\n",
    "        elif self.state == \"red\":\n",
    "            print(\"red light\")\n",
    "\n",
    "    def wait(self):\n",
    "        print(\"wait.. the light changed\")\n",
    "        if self.state == \"green\":\n",
    "            self.state = \"red\"\n",
    "        elif self.state == \"red\":\n",
    "            self.state = \"green\"\n",
    "\n",
    "\n",
    "traffic_light = TrafficLight()\n",
    "traffic_light.speak()\n",
    "\n",
    "traffic_light.wait()\n",
    "traffic_light.speak()\n",
    "\n",
    "traffic_light.wait()\n",
    "traffic_light.speak()"
   ]
  },
  {
   "cell_type": "code",
   "execution_count": 19,
   "metadata": {},
   "outputs": [],
   "source": [
    "## State Interface\n",
    "class LightState:\n",
    "    def status(self):\n",
    "        pass\n",
    "    \n",
    "    def change_light(self, traffic_light):\n",
    "        pass\n",
    "\n",
    "\n",
    "class GreenLight(LightState):\n",
    "    def status(self):\n",
    "        print(\"green light\")\n",
    "    \n",
    "    def change_light(self, traffic_light):\n",
    "        print(\"wait.. the light changed\")\n",
    "        traffic_light.set_state(RedLight())\n",
    "\n",
    "\n",
    "class RedLight(LightState):\n",
    "    def status(self):\n",
    "        print(\"red light\")\n",
    "    \n",
    "    def change_light(self, traffic_light):\n",
    "        print(\"wait.. the light changed\")\n",
    "        traffic_light.set_state(GreenLight())\n",
    "\n",
    "## Context\n",
    "class TrafficLight:\n",
    "    def __init__(self):\n",
    "        self.state = GreenLight()\n",
    "\n",
    "    def set_state(self,state):\n",
    "        self.state = state\n",
    "  \n",
    "    def speak(self):\n",
    "        self.state.status()\n",
    "\n",
    "    def wait(self):\n",
    "        self.state.change_light(self)"
   ]
  },
  {
   "cell_type": "code",
   "execution_count": 18,
   "metadata": {},
   "outputs": [
    {
     "name": "stdout",
     "output_type": "stream",
     "text": [
      "green light\n",
      "wait.. the light changed\n",
      "red light\n",
      "wait.. the light changed\n",
      "green light\n"
     ]
    }
   ],
   "source": [
    "traffic_light = TrafficLight()\n",
    "traffic_light.speak()\n",
    "\n",
    "traffic_light.wait()\n",
    "traffic_light.speak()\n",
    "\n",
    "traffic_light.wait()\n",
    "traffic_light.speak()"
   ]
  },
  {
   "cell_type": "markdown",
   "metadata": {},
   "source": [
    "## State Pattern: Refactoring Guru\n",
    "\n",
    "- https://refactoring.guru/ko/design-patterns/state\n",
    "- https://refactoring.guru/ko/design-patterns/state/python/example"
   ]
  },
  {
   "cell_type": "code",
   "execution_count": 25,
   "metadata": {},
   "outputs": [],
   "source": [
    "from __future__ import annotations\n",
    "from abc import ABC, abstractmethod\n",
    "\n",
    "## State Interface\n",
    "class State(ABC):\n",
    "    @property\n",
    "    def context(self) -> Context:\n",
    "        return self._context\n",
    "\n",
    "    @context.setter\n",
    "    def context(self, context: Context) -> None:\n",
    "        self._context = context\n",
    "\n",
    "    @abstractmethod\n",
    "    def handle1(self) -> None:\n",
    "        pass\n",
    "\n",
    "    @abstractmethod\n",
    "    def handle2(self) -> None:\n",
    "        pass\n",
    "\n",
    "\n",
    "class ConcreteStateA(State):\n",
    "    def handle1(self) -> None:\n",
    "        print(\"ConcreteStateA handles request1.\")\n",
    "        print(\"ConcreteStateA wants to change the state of the context.\")\n",
    "        self.context.transition_to(ConcreteStateB())\n",
    "\n",
    "    def handle2(self) -> None:\n",
    "        print(\"ConcreteStateA handles request2.\")\n",
    "\n",
    "\n",
    "class ConcreteStateB(State):\n",
    "    def handle1(self) -> None:\n",
    "        print(\"ConcreteStateB handles request1.\")\n",
    "\n",
    "    def handle2(self) -> None:\n",
    "        print(\"ConcreteStateB handles request2.\")\n",
    "        print(\"ConcreteStateB wants to change the state of the context.\")\n",
    "        self.context.transition_to(ConcreteStateA())\n",
    "        \n",
    "## Context\n",
    "class Context:\n",
    "    _state = None\n",
    "\n",
    "    def __init__(self, state: State) -> None:\n",
    "        self.transition_to(state)\n",
    "\n",
    "    def transition_to(self, state: State):\n",
    "        print(f\"Context: Transition to {type(state).__name__}\")\n",
    "        self._state = state\n",
    "        self._state.context = self\n",
    "\n",
    "    def request1(self):\n",
    "        self._state.handle1()\n",
    "\n",
    "    def request2(self):\n",
    "        self._state.handle2()"
   ]
  },
  {
   "cell_type": "code",
   "execution_count": 26,
   "metadata": {},
   "outputs": [
    {
     "name": "stdout",
     "output_type": "stream",
     "text": [
      "Context: Transition to ConcreteStateA\n"
     ]
    }
   ],
   "source": [
    "context = Context(ConcreteStateA())"
   ]
  },
  {
   "cell_type": "code",
   "execution_count": 27,
   "metadata": {},
   "outputs": [
    {
     "name": "stdout",
     "output_type": "stream",
     "text": [
      "ConcreteStateA handles request1.\n",
      "ConcreteStateA wants to change the state of the context.\n",
      "Context: Transition to ConcreteStateB\n"
     ]
    }
   ],
   "source": [
    "context.request1()"
   ]
  },
  {
   "cell_type": "code",
   "execution_count": 28,
   "metadata": {},
   "outputs": [
    {
     "name": "stdout",
     "output_type": "stream",
     "text": [
      "ConcreteStateB handles request2.\n",
      "ConcreteStateB wants to change the state of the context.\n",
      "Context: Transition to ConcreteStateA\n"
     ]
    }
   ],
   "source": [
    "context.request2()"
   ]
  },
  {
   "cell_type": "markdown",
   "metadata": {},
   "source": [
    "## State Pattern: python101.tistory.com\n",
    "\n",
    "- [[디자인 패턴] 스트래티지 패턴 (Strategy Pattern) - python 예제 코드](https://python101.tistory.com/entry/%EB%94%94%EC%9E%90%EC%9D%B8-%ED%8C%A8%ED%84%B4-%EC%8A%A4%ED%8A%B8%EB%9E%98%ED%8B%B0%EC%A7%80-%ED%8C%A8%ED%84%B4-Strategy-Pattern-python-%EC%98%88%EC%A0%9C-%EC%BD%94%EB%93%9C)"
   ]
  },
  {
   "cell_type": "code",
   "execution_count": 29,
   "metadata": {},
   "outputs": [],
   "source": [
    "from abc import ABC, abstractmethod\n",
    "\n",
    "## State Interface\n",
    "class OrderState(ABC):\n",
    "    @abstractmethod\n",
    "    def process_order(self):\n",
    "        pass\n",
    "\n",
    "\n",
    "class OrderPendingState(OrderState):\n",
    "    def process_order(self):\n",
    "        print(\"주문이 접수되었습니다. 처리 중입니다.\")\n",
    "\n",
    "\n",
    "class OrderProcessingState(OrderState):\n",
    "    def process_order(self):\n",
    "        print(\"주문이 처리중입니다. 잠시만 기다려주세요.\")\n",
    "\n",
    "\n",
    "class OrderCompleteState(OrderState):\n",
    "    def process_order(self):\n",
    "        print(\"주문이 완료되었습니다. 감사합니다.\")\n",
    "\n",
    "\n",
    "## Context\n",
    "class Order:\n",
    "    def __init__(self):\n",
    "        self.state = OrderPendingState()\n",
    "\n",
    "    def process(self):\n",
    "        self.state.process_order()"
   ]
  },
  {
   "cell_type": "code",
   "execution_count": 30,
   "metadata": {},
   "outputs": [
    {
     "name": "stdout",
     "output_type": "stream",
     "text": [
      "주문이 접수되었습니다. 처리 중입니다.\n"
     ]
    }
   ],
   "source": [
    "order = Order()\n",
    "order.process()"
   ]
  },
  {
   "cell_type": "code",
   "execution_count": 31,
   "metadata": {},
   "outputs": [
    {
     "name": "stdout",
     "output_type": "stream",
     "text": [
      "주문이 처리중입니다. 잠시만 기다려주세요.\n"
     ]
    }
   ],
   "source": [
    "order.state = OrderProcessingState()\n",
    "order.process()"
   ]
  },
  {
   "cell_type": "code",
   "execution_count": 32,
   "metadata": {},
   "outputs": [
    {
     "name": "stdout",
     "output_type": "stream",
     "text": [
      "주문이 완료되었습니다. 감사합니다.\n"
     ]
    }
   ],
   "source": [
    "order.state = OrderCompleteState()\n",
    "order.process()"
   ]
  }
 ],
 "metadata": {
  "kernelspec": {
   "display_name": "base",
   "language": "python",
   "name": "python3"
  },
  "language_info": {
   "codemirror_mode": {
    "name": "ipython",
    "version": 3
   },
   "file_extension": ".py",
   "mimetype": "text/x-python",
   "name": "python",
   "nbconvert_exporter": "python",
   "pygments_lexer": "ipython3",
   "version": "3.12.7"
  }
 },
 "nbformat": 4,
 "nbformat_minor": 2
}
