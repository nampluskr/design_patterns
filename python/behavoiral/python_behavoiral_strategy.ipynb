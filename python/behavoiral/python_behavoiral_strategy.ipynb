{
 "cells": [
  {
   "cell_type": "markdown",
   "metadata": {},
   "source": [
    "## Strategy Pattern: NoCodeProgram\n",
    "\n",
    "- https://github.com/NoCodeProgram/DesignPatterns/blob/main/Behavioral/strategyP.ipynb"
   ]
  },
  {
   "cell_type": "code",
   "execution_count": 5,
   "metadata": {},
   "outputs": [],
   "source": [
    "class Animal:\n",
    "    def speak(self):\n",
    "        pass\n",
    "\n",
    "class Cat(Animal):\n",
    "    def speak(self):\n",
    "        print(\"meow\")\n",
    "\n",
    "class Lion(Animal):\n",
    "    def speak(self):\n",
    "        print(\"roar\")\n",
    "\n",
    "def make_speak(animal:Animal):\n",
    "    animal.speak()"
   ]
  },
  {
   "cell_type": "code",
   "execution_count": 6,
   "metadata": {},
   "outputs": [
    {
     "name": "stdout",
     "output_type": "stream",
     "text": [
      "roar\n"
     ]
    }
   ],
   "source": [
    "def create_animal(input_str:str)->Animal:\n",
    "    if input_str == \"cat\":\n",
    "        return Cat()\n",
    "    elif input_str == \"lion\":\n",
    "        return Lion()\n",
    "    \n",
    "input_str = \"lion\"\n",
    "animal = create_animal(input_str)\n",
    "make_speak(animal)"
   ]
  },
  {
   "cell_type": "markdown",
   "metadata": {},
   "source": [
    "## Strategy Pattern: Refactoring Guru\n",
    "\n",
    "- https://refactoring.guru/ko/design-patterns/strategy\n",
    "- https://refactoring.guru/ko/design-patterns/strategy/python/example"
   ]
  },
  {
   "cell_type": "code",
   "execution_count": 8,
   "metadata": {},
   "outputs": [],
   "source": [
    "from __future__ import annotations\n",
    "from abc import ABC, abstractmethod\n",
    "from typing import List\n",
    "\n",
    "class Strategy(ABC):\n",
    "    @abstractmethod\n",
    "    def do_algorithm(self, data: List):\n",
    "        pass\n",
    "\n",
    "class ConcreteStrategyA(Strategy):\n",
    "    def do_algorithm(self, data: List):\n",
    "        return sorted(data)\n",
    "    \n",
    "class ConcreteStrategyB(Strategy):\n",
    "    def do_algorithm(self, data: List):\n",
    "        return reversed(sorted(data))"
   ]
  },
  {
   "cell_type": "code",
   "execution_count": 9,
   "metadata": {},
   "outputs": [
    {
     "name": "stdout",
     "output_type": "stream",
     "text": [
      "Client: Strategy is set to normal sorting.\n",
      "Context: Sorting data using the strategy (not sure how it'll do it)\n",
      "a,b,c,d,e\n",
      "\n",
      "Client: Strategy is set to reverse sorting.\n",
      "Context: Sorting data using the strategy (not sure how it'll do it)\n",
      "e,d,c,b,a\n"
     ]
    }
   ],
   "source": [
    "class Context:\n",
    "    def __init__(self, strategy: Strategy):\n",
    "        self._strategy = strategy   # aggregation\n",
    "\n",
    "    @property\n",
    "    def strategy(self):\n",
    "        return self._strategy\n",
    "\n",
    "    @strategy.setter\n",
    "    def strategy(self, strategy: Strategy):\n",
    "        self._strategy = strategy\n",
    "\n",
    "    def do_some_business_logic(self):\n",
    "        print(\"Context: Sorting data using the strategy (not sure how it'll do it)\")\n",
    "        result = self._strategy.do_algorithm([\"a\", \"b\", \"c\", \"d\", \"e\"])\n",
    "        print(\",\".join(result))\n",
    "\n",
    "\n",
    "context = Context(ConcreteStrategyA())\n",
    "\n",
    "print(\"Client: Strategy is set to normal sorting.\")\n",
    "context.do_some_business_logic()\n",
    "\n",
    "print()\n",
    "print(\"Client: Strategy is set to reverse sorting.\")\n",
    "context.strategy = ConcreteStrategyB()\n",
    "context.do_some_business_logic()"
   ]
  },
  {
   "cell_type": "markdown",
   "metadata": {},
   "source": [
    "## Strategy Pattern: python101.tistory.com\n",
    "\n",
    "- [[디자인 패턴] 스트래티지 패턴 (Strategy Pattern) - python 예제 코드](https://python101.tistory.com/entry/%EB%94%94%EC%9E%90%EC%9D%B8-%ED%8C%A8%ED%84%B4-%EC%8A%A4%ED%8A%B8%EB%9E%98%ED%8B%B0%EC%A7%80-%ED%8C%A8%ED%84%B4-Strategy-Pattern-python-%EC%98%88%EC%A0%9C-%EC%BD%94%EB%93%9C)"
   ]
  },
  {
   "cell_type": "code",
   "execution_count": 12,
   "metadata": {},
   "outputs": [],
   "source": [
    "## Strategy Interface\n",
    "class SortStrategy:\n",
    "    def sort(self, data):\n",
    "        pass\n",
    "\n",
    "class QuickSortStrategy(SortStrategy):\n",
    "    def sort(self, data):\n",
    "        print(\"Using QuickSort\")\n",
    "        return sorted(data)\n",
    "\n",
    "class MergeSortStrategy(SortStrategy):\n",
    "    def sort(self, data):\n",
    "        print(\"Using MergeSort\")\n",
    "        return sorted(data)\n",
    "\n",
    "## Context\n",
    "class Sorter:\n",
    "    def __init__(self, strategy):\n",
    "        self._strategy = strategy   # aggregation\n",
    "\n",
    "    def sort(self, data):\n",
    "        return self._strategy.sort(data)\n",
    "    \n",
    "    def set_strategy(self, strategy):\n",
    "        self._strategy = strategy"
   ]
  },
  {
   "cell_type": "code",
   "execution_count": 14,
   "metadata": {},
   "outputs": [
    {
     "name": "stdout",
     "output_type": "stream",
     "text": [
      "Using MergeSort\n",
      "[0, 1, 2, 3, 4, 5, 6, 7, 8, 9]\n",
      "\n",
      "Using QuickSort\n",
      "[0, 1, 2, 3, 4, 5, 6, 7, 8, 9]\n"
     ]
    }
   ],
   "source": [
    "data = [5, 2, 7, 1, 9, 0, 4, 6, 3, 8]\n",
    "\n",
    "sorter = Sorter(MergeSortStrategy())\n",
    "result = sorter.sort(data)\n",
    "print(result)\n",
    "\n",
    "print()\n",
    "sorter.set_strategy(QuickSortStrategy())\n",
    "result = sorter.sort(data)\n",
    "print(result)"
   ]
  }
 ],
 "metadata": {
  "kernelspec": {
   "display_name": "base",
   "language": "python",
   "name": "python3"
  },
  "language_info": {
   "codemirror_mode": {
    "name": "ipython",
    "version": 3
   },
   "file_extension": ".py",
   "mimetype": "text/x-python",
   "name": "python",
   "nbconvert_exporter": "python",
   "pygments_lexer": "ipython3",
   "version": "3.12.7"
  }
 },
 "nbformat": 4,
 "nbformat_minor": 2
}
