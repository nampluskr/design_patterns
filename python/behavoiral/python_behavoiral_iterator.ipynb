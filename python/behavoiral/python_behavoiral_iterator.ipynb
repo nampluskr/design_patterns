{
 "cells": [
  {
   "cell_type": "markdown",
   "metadata": {},
   "source": [
    "## Iterator Pattern: NoCodeProgram\n",
    "\n",
    "- https://github.com/NoCodeProgram/DesignPatterns/blob/main/Behavioral/iteratorP.ipynb"
   ]
  },
  {
   "cell_type": "code",
   "execution_count": 10,
   "metadata": {},
   "outputs": [],
   "source": [
    "class ArrayContainer:\n",
    "    def __init__(self):\n",
    "        self.container = []\n",
    "\n",
    "    def add(self, num):\n",
    "        self.container.append(num)\n",
    "\n",
    "    def get_iterator(self):\n",
    "        return ArrayIterator(self)\n",
    "\n",
    "    def get_rev_iterator(self):\n",
    "        return ArrayRevIterator(self)\n",
    "\n",
    "\n",
    "## Iterator Interface\n",
    "class Iterator:\n",
    "    def has_next(self):\n",
    "        pass\n",
    "\n",
    "    def next_value(self):\n",
    "        pass\n",
    "\n",
    "\n",
    "class ArrayIterator(Iterator):\n",
    "    def __init__(self, array: ArrayContainer):\n",
    "        self.container = array.container\n",
    "        self.pos = -1\n",
    "\n",
    "    def has_next(self):\n",
    "        if self.pos < len(self.container) - 1:\n",
    "            return True\n",
    "        return False\n",
    "\n",
    "    def next_value(self):\n",
    "        if self.has_next():\n",
    "            self.pos += 1\n",
    "            return self.container[self.pos]\n",
    "\n",
    "\n",
    "class ArrayRevIterator(Iterator):\n",
    "    def __init__(self, array: ArrayContainer):\n",
    "        self.container = array.container\n",
    "        self.pos = len(self.container)\n",
    "\n",
    "    def has_next(self):\n",
    "        if self.pos - 1 > -1:\n",
    "            return True\n",
    "        return False\n",
    "\n",
    "    def next_value(self):\n",
    "        if self.has_next():\n",
    "            self.pos -= 1\n",
    "            return self.container[self.pos]"
   ]
  },
  {
   "cell_type": "code",
   "execution_count": 11,
   "metadata": {},
   "outputs": [
    {
     "name": "stdout",
     "output_type": "stream",
     "text": [
      "1 2 3  \n",
      "3 2 1  \n"
     ]
    }
   ],
   "source": [
    "def print_array(iterator):\n",
    "    while iterator.has_next():\n",
    "        print(iterator.next_value(), end=' ')\n",
    "    print(' ')\n",
    "    \n",
    "array = ArrayContainer()\n",
    "array.add(1)\n",
    "array.add(2)\n",
    "array.add(3)\n",
    "\n",
    "iterator = array.get_iterator()\n",
    "print_array(iterator)\n",
    "\n",
    "rev_iterator = array.get_rev_iterator()\n",
    "print_array(rev_iterator)"
   ]
  },
  {
   "cell_type": "markdown",
   "metadata": {},
   "source": [
    "## Iterator Pattern: Refactoring Guru\n",
    "\n",
    "- https://refactoring.guru/ko/design-patterns/iterator\n",
    "- https://refactoring.guru/ko/design-patterns/iterator/python/example"
   ]
  },
  {
   "cell_type": "code",
   "execution_count": 12,
   "metadata": {},
   "outputs": [],
   "source": [
    "from __future__ import annotations\n",
    "from collections.abc import Iterable, Iterator\n",
    "from typing import Any\n",
    "\n",
    "\n",
    "class AlphabeticalOrderIterator(Iterator):\n",
    "    _position: int = None\n",
    "    _reverse: bool = False\n",
    "\n",
    "    def __init__(self, collection: WordsCollection, reverse: bool = False) -> None:\n",
    "        self._collection = collection\n",
    "        self._reverse = reverse\n",
    "        self._position = -1 if reverse else 0\n",
    "\n",
    "    def __next__(self) -> Any:\n",
    "        try:\n",
    "            value = self._collection[self._position]\n",
    "            self._position += -1 if self._reverse else 1\n",
    "        except IndexError:\n",
    "            raise StopIteration()\n",
    "\n",
    "        return value\n",
    "\n",
    "    \n",
    "class WordsCollection(Iterable):\n",
    "    def __init__(self, collection: list[Any] | None = None) -> None:\n",
    "        self._collection = collection or []\n",
    "\n",
    "    def __getitem__(self, index: int) -> Any:\n",
    "        return self._collection[index]\n",
    "\n",
    "    def __iter__(self) -> AlphabeticalOrderIterator:\n",
    "        return AlphabeticalOrderIterator(self)\n",
    "\n",
    "    def get_reverse_iterator(self) -> AlphabeticalOrderIterator:\n",
    "        return AlphabeticalOrderIterator(self, True)\n",
    "\n",
    "    def add_item(self, item: Any) -> None:\n",
    "        self._collection.append(item)"
   ]
  },
  {
   "cell_type": "code",
   "execution_count": 14,
   "metadata": {},
   "outputs": [
    {
     "name": "stdout",
     "output_type": "stream",
     "text": [
      "Straight traversal:\n",
      "First\n",
      "Second\n",
      "Third\n"
     ]
    }
   ],
   "source": [
    "collection = WordsCollection()\n",
    "collection.add_item(\"First\")\n",
    "collection.add_item(\"Second\")\n",
    "collection.add_item(\"Third\")\n",
    "\n",
    "print(\"Straight traversal:\")\n",
    "print(\"\\n\".join(collection))"
   ]
  },
  {
   "cell_type": "code",
   "execution_count": 15,
   "metadata": {},
   "outputs": [
    {
     "name": "stdout",
     "output_type": "stream",
     "text": [
      "Reverse traversal:\n",
      "Third\n",
      "Second\n",
      "First"
     ]
    }
   ],
   "source": [
    "print(\"Reverse traversal:\")\n",
    "print(\"\\n\".join(collection.get_reverse_iterator()), end=\"\")"
   ]
  },
  {
   "cell_type": "markdown",
   "metadata": {},
   "source": [
    "## Iterator Pattern: python101.tistory.com\n",
    "\n",
    "- [[디자인 패턴] 반복자 패턴 (Iterator Pattern) - python 예제 코드](https://python101.tistory.com/entry/%EB%94%94%EC%9E%90%EC%9D%B8-%ED%8C%A8%ED%84%B4-%EB%B0%98%EB%B3%B5%EC%9E%90-%ED%8C%A8%ED%84%B4-Iterator-Pattern-python-%EC%98%88%EC%A0%9C-%EC%BD%94%EB%93%9C)"
   ]
  },
  {
   "cell_type": "code",
   "execution_count": 16,
   "metadata": {},
   "outputs": [],
   "source": [
    "class ListIterator:\n",
    "    def __init__(self, lst):\n",
    "        self._list = lst\n",
    "        self._index = 0\n",
    "\n",
    "    def next(self):\n",
    "        if not self.has_next():\n",
    "            return None\n",
    "        item = self._list[self._index]\n",
    "        self._index += 1\n",
    "        return item\n",
    "\n",
    "    def has_next(self):\n",
    "        return self._index < len(self._list)\n",
    "\n",
    "\n",
    "class ListCollection:\n",
    "    def __init__(self):\n",
    "        self._list = []\n",
    "\n",
    "    def add_item(self, item):\n",
    "        self._list.append(item)\n",
    "\n",
    "    def iterator(self):\n",
    "        return ListIterator(self._list)"
   ]
  },
  {
   "cell_type": "code",
   "execution_count": 17,
   "metadata": {},
   "outputs": [
    {
     "name": "stdout",
     "output_type": "stream",
     "text": [
      "apple\n",
      "banana\n",
      "orange\n"
     ]
    }
   ],
   "source": [
    "collection = ListCollection()\n",
    "collection.add_item(\"apple\")\n",
    "collection.add_item(\"banana\")\n",
    "collection.add_item(\"orange\")\n",
    "\n",
    "iterator = collection.iterator()\n",
    "\n",
    "while iterator.has_next():\n",
    "    item = iterator.next()\n",
    "    print(item)"
   ]
  }
 ],
 "metadata": {
  "kernelspec": {
   "display_name": "base",
   "language": "python",
   "name": "python3"
  },
  "language_info": {
   "codemirror_mode": {
    "name": "ipython",
    "version": 3
   },
   "file_extension": ".py",
   "mimetype": "text/x-python",
   "name": "python",
   "nbconvert_exporter": "python",
   "pygments_lexer": "ipython3",
   "version": "3.12.7"
  }
 },
 "nbformat": 4,
 "nbformat_minor": 2
}
