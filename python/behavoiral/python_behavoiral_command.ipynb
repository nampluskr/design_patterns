{
 "cells": [
  {
   "cell_type": "markdown",
   "metadata": {},
   "source": [
    "## Command Pattern: NoCodeProgram\n",
    "\n",
    "- https://github.com/NoCodeProgram/DesignPatterns/blob/main/Behavioral/commandP.ipynb"
   ]
  },
  {
   "cell_type": "code",
   "execution_count": 3,
   "metadata": {},
   "outputs": [
    {
     "name": "stdout",
     "output_type": "stream",
     "text": [
      "from print command : first command\n",
      "from print command : second command\n"
     ]
    }
   ],
   "source": [
    "## Command Interface\n",
    "class Command:\n",
    "    def execute(self):\n",
    "        pass\n",
    "\n",
    "class PrintCommand(Command):\n",
    "    def __init__(self, print_str: str):\n",
    "        self.print_str = print_str\n",
    "\n",
    "    def execute(self):\n",
    "        print(f\"from print command : {self.print_str}\")\n",
    "\n",
    "\n",
    "first_command = PrintCommand(\"first command\")\n",
    "second_command = PrintCommand(\"second command\")\n",
    "\n",
    "first_command.execute()\n",
    "second_command.execute()"
   ]
  },
  {
   "cell_type": "code",
   "execution_count": 6,
   "metadata": {},
   "outputs": [
    {
     "name": "stdout",
     "output_type": "stream",
     "text": [
      "The dog is staying\n",
      "The dog sat down\n",
      "The dog sat down\n"
     ]
    }
   ],
   "source": [
    "from typing import List\n",
    "\n",
    "class Dog:\n",
    "    def sit(self):\n",
    "        print(\"The dog sat down\")\n",
    "\n",
    "    def stay(self):\n",
    "        print(\"The dog is staying\")\n",
    "\n",
    "\n",
    "class DogCommands(Command):\n",
    "    def __init__(self, dog: Dog, commands: List[str]):\n",
    "        self.dog = dog\n",
    "        self.commands = commands\n",
    "\n",
    "    def execute(self):\n",
    "        for command in self.commands:\n",
    "            if command == 'sit':\n",
    "                self.dog.sit()\n",
    "            elif command == 'stay':\n",
    "                self.dog.stay()\n",
    "\n",
    "baduk = Dog()\n",
    "dog_command = DogCommands(baduk, ['stay','sit','sit'])\n",
    "dog_command.execute()"
   ]
  },
  {
   "cell_type": "code",
   "execution_count": 7,
   "metadata": {},
   "outputs": [
    {
     "name": "stdout",
     "output_type": "stream",
     "text": [
      "from print command : first command\n",
      "The dog is staying\n",
      "The dog sat down\n",
      "The dog sat down\n",
      "from print command : second command\n"
     ]
    }
   ],
   "source": [
    "class Invoker:\n",
    "    def __init__(self):\n",
    "        self.command_list = []\n",
    "\n",
    "    def add_command(self, command: Command):\n",
    "        self.command_list.append(command)\n",
    "\n",
    "    def run_commands(self):\n",
    "        for command in self.command_list:\n",
    "            command.execute()\n",
    "\n",
    "invoker = Invoker()\n",
    "invoker.add_command(first_command)\n",
    "invoker.add_command(dog_command)\n",
    "invoker.add_command(second_command)\n",
    "\n",
    "invoker.run_commands()"
   ]
  },
  {
   "cell_type": "markdown",
   "metadata": {},
   "source": [
    "## Command Pattern: Refactoring Guru\n",
    "\n",
    "- https://refactoring.guru/ko/design-patterns/command\n",
    "- https://refactoring.guru/ko/design-patterns/command/python/example"
   ]
  },
  {
   "cell_type": "code",
   "execution_count": 8,
   "metadata": {},
   "outputs": [],
   "source": [
    "from __future__ import annotations\n",
    "from abc import ABC, abstractmethod\n",
    "\n",
    "## Command Interface\n",
    "class Command(ABC):\n",
    "    @abstractmethod\n",
    "    def execute(self) -> None:\n",
    "        pass\n",
    "\n",
    "\n",
    "class SimpleCommand(Command):\n",
    "    def __init__(self, payload: str) -> None:\n",
    "        self._payload = payload\n",
    "\n",
    "    def execute(self) -> None:\n",
    "        print(f\"SimpleCommand: See, I can do simple things like printing\"\n",
    "              f\"({self._payload})\")\n",
    "\n",
    "\n",
    "class ComplexCommand(Command):\n",
    "    def __init__(self, receiver: Receiver, a: str, b: str) -> None:\n",
    "        self._receiver = receiver\n",
    "        self._a = a\n",
    "        self._b = b\n",
    "\n",
    "    def execute(self) -> None:\n",
    "        print(\"ComplexCommand: Complex stuff should be done by a receiver object\", end=\"\")\n",
    "        self._receiver.do_something(self._a)\n",
    "        self._receiver.do_something_else(self._b)\n",
    "\n",
    "\n",
    "class Receiver:\n",
    "    def do_something(self, a: str) -> None:\n",
    "        print(f\"\\nReceiver: Working on ({a}.)\", end=\"\")\n",
    "\n",
    "    def do_something_else(self, b: str) -> None:\n",
    "        print(f\"\\nReceiver: Also working on ({b}.)\", end=\"\")\n",
    "        \n",
    "\n",
    "class Invoker:\n",
    "    _on_start = None\n",
    "    _on_finish = None\n",
    "\n",
    "    def set_on_start(self, command: Command):\n",
    "        self._on_start = command\n",
    "\n",
    "    def set_on_finish(self, command: Command):\n",
    "        self._on_finish = command\n",
    "\n",
    "    def do_something_important(self) -> None:\n",
    "        print(\"Invoker: Does anybody want something done before I begin?\")\n",
    "        if isinstance(self._on_start, Command):\n",
    "            self._on_start.execute()\n",
    "\n",
    "        print(\"Invoker: ...doing something really important...\")\n",
    "\n",
    "        print(\"Invoker: Does anybody want something done after I finish?\")\n",
    "        if isinstance(self._on_finish, Command):\n",
    "            self._on_finish.execute()"
   ]
  },
  {
   "cell_type": "code",
   "execution_count": 11,
   "metadata": {},
   "outputs": [
    {
     "name": "stdout",
     "output_type": "stream",
     "text": [
      "Invoker: Does anybody want something done before I begin?\n",
      "SimpleCommand: See, I can do simple things like printing(Say Hi!)\n",
      "Invoker: ...doing something really important...\n",
      "Invoker: Does anybody want something done after I finish?\n",
      "ComplexCommand: Complex stuff should be done by a receiver object\n",
      "Receiver: Working on (Send email.)\n",
      "Receiver: Also working on (Save report.)"
     ]
    }
   ],
   "source": [
    "invoker = Invoker()\n",
    "invoker.set_on_start(SimpleCommand(\"Say Hi!\"))\n",
    "\n",
    "receiver = Receiver()\n",
    "invoker.set_on_finish(ComplexCommand(receiver, \"Send email\", \"Save report\"))\n",
    "\n",
    "invoker.do_something_important()"
   ]
  },
  {
   "cell_type": "markdown",
   "metadata": {},
   "source": [
    "## Command Pattern: python101.tistory.com\n",
    "\n",
    "- [[디자인 패턴] 커맨드 패턴 (Command Pattern) - python 예제 코드](https://python101.tistory.com/entry/%EB%94%94%EC%9E%90%EC%9D%B8-%ED%8C%A8%ED%84%B4-%EC%BB%A4%EB%A7%A8%EB%93%9C-%ED%8C%A8%ED%84%B4-Command-Pattern-python-%EC%98%88%EC%A0%9C-%EC%BD%94%EB%93%9C)"
   ]
  },
  {
   "cell_type": "code",
   "execution_count": 14,
   "metadata": {},
   "outputs": [],
   "source": [
    "from abc import ABC, abstractmethod\n",
    "\n",
    "# Command Interface\n",
    "class Command(ABC):\n",
    "    @abstractmethod\n",
    "    def execute(self):\n",
    "        pass\n",
    "\n",
    "\n",
    "class LightOnCommand(Command):\n",
    "    def __init__(self, light: Light):\n",
    "        self.light = light\n",
    "\n",
    "    def execute(self):\n",
    "        self.light.on()\n",
    "\n",
    "\n",
    "# Receiver: ConcreteCommand 객체에서 요청을 수행하는 객체\n",
    "class Light:\n",
    "    def on(self):\n",
    "        print(\"Light is on\")\n",
    "\n",
    "\n",
    "# Invoker:  Command 객체를 생성하고 실행하는 객체\n",
    "class RemoteControl:\n",
    "    def __init__(self):\n",
    "        self.command = None\n",
    "\n",
    "    def set_command(self, command):\n",
    "        self.command = command\n",
    "\n",
    "    def press_button(self):\n",
    "        if self.command is not None:\n",
    "            self.command.execute()"
   ]
  },
  {
   "cell_type": "code",
   "execution_count": 17,
   "metadata": {},
   "outputs": [
    {
     "name": "stdout",
     "output_type": "stream",
     "text": [
      "Light is on\n"
     ]
    }
   ],
   "source": [
    "## Client code\n",
    "light = Light()                             # Reciver\n",
    "light_on_command = LightOnCommand(light)    # Command\n",
    "remote = RemoteControl()                    # Invoker\n",
    "\n",
    "remote.set_command(light_on_command)\n",
    "remote.press_button()"
   ]
  }
 ],
 "metadata": {
  "kernelspec": {
   "display_name": "base",
   "language": "python",
   "name": "python3"
  },
  "language_info": {
   "codemirror_mode": {
    "name": "ipython",
    "version": 3
   },
   "file_extension": ".py",
   "mimetype": "text/x-python",
   "name": "python",
   "nbconvert_exporter": "python",
   "pygments_lexer": "ipython3",
   "version": "3.12.7"
  }
 },
 "nbformat": 4,
 "nbformat_minor": 2
}
