{
 "cells": [
  {
   "cell_type": "markdown",
   "metadata": {},
   "source": [
    "## Chain of Responsibility Pattern: NoCodeProgram\n",
    "\n",
    "- https://github.com/NoCodeProgram/DesignPatterns/blob/main/Behavioral/chainOfResP.ipynb"
   ]
  },
  {
   "cell_type": "code",
   "execution_count": 14,
   "metadata": {},
   "outputs": [],
   "source": [
    "class Handler:\n",
    "    def __init__(self):\n",
    "        self.next_handler = None\n",
    "\n",
    "    def set_next(self, handler):\n",
    "        self.next_handler = handler\n",
    "\n",
    "    def handle(self, request):\n",
    "        if self.next_handler:\n",
    "            return self.next_handler.handle(request)\n",
    "        print(\"All handlers failed\")\n",
    "        return None\n",
    "\n",
    "\n",
    "class CashHandler(Handler):\n",
    "    def handle(self, request):\n",
    "        if request['method'] == 'cash':\n",
    "            print(f\"processing cash {request['amount']} won\")\n",
    "        else:\n",
    "            print(f\"CashHandler cannot process\")\n",
    "            super().handle(request)\n",
    "\n",
    "\n",
    "class CreditCardHandler(Handler):\n",
    "    def handle(self, request):\n",
    "        if request['method'] == 'credit card':\n",
    "            print(f\"processing creditCard {request['amount']} won\")\n",
    "        else:\n",
    "            print(f\"CreditCardHandler cannot process\")\n",
    "            super().handle(request)\n",
    "\n",
    "\n",
    "class DebitCardHandler(Handler):\n",
    "    def handle(self, request):\n",
    "        if request['method'] == 'debit card':\n",
    "            print(f\"processing debitCard {request['amount']} won\")\n",
    "        else:\n",
    "            print(f\"DebitCardHandler cannot process\")\n",
    "            super().handle(request)"
   ]
  },
  {
   "cell_type": "code",
   "execution_count": 15,
   "metadata": {},
   "outputs": [],
   "source": [
    "cash_handler = CashHandler()\n",
    "creditcard_handler = CreditCardHandler()\n",
    "debicard_handler = DebitCardHandler()\n",
    "\n",
    "cash_handler.set_next(creditcard_handler)\n",
    "creditcard_handler.set_next(debicard_handler)"
   ]
  },
  {
   "cell_type": "code",
   "execution_count": 16,
   "metadata": {},
   "outputs": [
    {
     "name": "stdout",
     "output_type": "stream",
     "text": [
      "processing cash 10000 won\n"
     ]
    }
   ],
   "source": [
    "payment = {\"method\": \"cash\", \"amount\": 10000}\n",
    "cash_handler.handle(payment)"
   ]
  },
  {
   "cell_type": "code",
   "execution_count": 17,
   "metadata": {},
   "outputs": [
    {
     "name": "stdout",
     "output_type": "stream",
     "text": [
      "CashHandler cannot process\n",
      "processing creditCard 10000 won\n"
     ]
    }
   ],
   "source": [
    "payment = {\"method\": \"credit card\", \"amount\": 10000}\n",
    "cash_handler.handle(payment)"
   ]
  },
  {
   "cell_type": "code",
   "execution_count": 19,
   "metadata": {},
   "outputs": [
    {
     "name": "stdout",
     "output_type": "stream",
     "text": [
      "CashHandler cannot process\n",
      "CreditCardHandler cannot process\n",
      "processing debitCard 10000 won\n"
     ]
    }
   ],
   "source": [
    "payment = {\"method\": \"debit card\", \"amount\": 10000}\n",
    "cash_handler.handle(payment)"
   ]
  },
  {
   "cell_type": "code",
   "execution_count": 8,
   "metadata": {},
   "outputs": [
    {
     "name": "stdout",
     "output_type": "stream",
     "text": [
      "CashHandler cannot process\n",
      "CreditCardHandler cannot process\n",
      "DebitCardHandler cannot process\n",
      "All handlers failed\n"
     ]
    }
   ],
   "source": [
    "payment = {\"method\": \"paypal\", \"amount\": 10000}\n",
    "cash_handler.handle(payment)"
   ]
  },
  {
   "cell_type": "markdown",
   "metadata": {},
   "source": [
    "## Chain of Responsibility Pattern: Refactoring Guru\n",
    "\n",
    "- https://refactoring.guru/ko/design-patterns/chain-of-responsibility\n",
    "- https://refactoring.guru/ko/design-patterns/chain-of-responsibility/python/example"
   ]
  },
  {
   "cell_type": "code",
   "execution_count": 21,
   "metadata": {},
   "outputs": [],
   "source": [
    "from __future__ import annotations\n",
    "from abc import ABC, abstractmethod\n",
    "from typing import Any, Optional"
   ]
  },
  {
   "cell_type": "code",
   "execution_count": 30,
   "metadata": {},
   "outputs": [],
   "source": [
    "## Handler Interface\n",
    "class Handler(ABC):\n",
    "    @abstractmethod\n",
    "    def set_next(self, handler: Handler) -> Handler:\n",
    "        pass\n",
    "\n",
    "    @abstractmethod\n",
    "    def handle(self, request) -> Optional[str]:\n",
    "        pass\n",
    "\n",
    "## Abstract Handler\n",
    "class AbstractHandler(Handler):\n",
    "    _next_handler: Handler = None\n",
    "\n",
    "    def set_next(self, handler: Handler) -> Handler:\n",
    "        self._next_handler = handler\n",
    "        return handler\n",
    "\n",
    "    @abstractmethod\n",
    "    def handle(self, request: Any) -> str:\n",
    "        if self._next_handler:\n",
    "            return self._next_handler.handle(request)\n",
    "        return None\n",
    "\n",
    "\n",
    "class MonkeyHandler(AbstractHandler):\n",
    "    def handle(self, request: Any) -> str:\n",
    "        if request == \"Banana\":\n",
    "            return f\"Monkey: I'll eat the {request}\"\n",
    "        else:\n",
    "            return super().handle(request)\n",
    "\n",
    "\n",
    "class SquirrelHandler(AbstractHandler):\n",
    "    def handle(self, request: Any) -> str:\n",
    "        if request == \"Nut\":\n",
    "            return f\"Squirrel: I'll eat the {request}\"\n",
    "        else:\n",
    "            return super().handle(request)\n",
    "\n",
    "\n",
    "class DogHandler(AbstractHandler):\n",
    "    def handle(self, request: Any) -> str:\n",
    "        if request == \"MeatBall\":\n",
    "            return f\"Dog: I'll eat the {request}\"\n",
    "        else:\n",
    "            return super().handle(request)"
   ]
  },
  {
   "cell_type": "code",
   "execution_count": 31,
   "metadata": {},
   "outputs": [
    {
     "data": {
      "text/plain": [
       "<__main__.DogHandler at 0x7fc735e75e80>"
      ]
     },
     "execution_count": 31,
     "metadata": {},
     "output_type": "execute_result"
    }
   ],
   "source": [
    "def client_code(handler: Handler) -> None:\n",
    "    for food in [\"Nut\", \"Banana\", \"Cup of coffee\"]:\n",
    "        print(f\"\\nClient: Who wants a {food}?\")\n",
    "        result = handler.handle(food)\n",
    "        if result:\n",
    "            print(f\"  {result}\", end=\"\")\n",
    "        else:\n",
    "            print(f\"  {food} was left untouched.\", end=\"\")\n",
    "\n",
    "\n",
    "monkey = MonkeyHandler()\n",
    "squirrel = SquirrelHandler()\n",
    "dog = DogHandler()\n",
    "\n",
    "monkey.set_next(squirrel).set_next(dog)"
   ]
  },
  {
   "cell_type": "code",
   "execution_count": 32,
   "metadata": {},
   "outputs": [
    {
     "name": "stdout",
     "output_type": "stream",
     "text": [
      "Chain: Monkey > Squirrel > Dog\n",
      "\n",
      "Client: Who wants a Nut?\n",
      "  Squirrel: I'll eat the Nut\n",
      "Client: Who wants a Banana?\n",
      "  Monkey: I'll eat the Banana\n",
      "Client: Who wants a Cup of coffee?\n",
      "  Cup of coffee was left untouched."
     ]
    }
   ],
   "source": [
    "print(\"Chain: Monkey > Squirrel > Dog\")\n",
    "client_code(monkey)"
   ]
  },
  {
   "cell_type": "code",
   "execution_count": 33,
   "metadata": {},
   "outputs": [
    {
     "name": "stdout",
     "output_type": "stream",
     "text": [
      "Subchain: Squirrel > Dog\n",
      "\n",
      "Client: Who wants a Nut?\n",
      "  Squirrel: I'll eat the Nut\n",
      "Client: Who wants a Banana?\n",
      "  Banana was left untouched.\n",
      "Client: Who wants a Cup of coffee?\n",
      "  Cup of coffee was left untouched."
     ]
    }
   ],
   "source": [
    "print(\"Subchain: Squirrel > Dog\")\n",
    "client_code(squirrel)"
   ]
  },
  {
   "cell_type": "markdown",
   "metadata": {},
   "source": [
    "## Chain of Responsibilitydd Pattern: python101.tistory.com\n",
    "\n",
    "- [[디자인 패턴] 책임 연쇄 패턴 (Chain of Responsibility Pattern) - python 예제 코드](https://python101.tistory.com/entry/%EB%94%94%EC%9E%90%EC%9D%B8-%ED%8C%A8%ED%84%B4-%EC%B1%85%EC%9E%84-%EC%97%B0%EC%87%84-%ED%8C%A8%ED%84%B4-Chain-of-Responsibility-Pattern-python-%EC%98%88%EC%A0%9C-%EC%BD%94%EB%93%9C)"
   ]
  },
  {
   "cell_type": "code",
   "execution_count": 36,
   "metadata": {},
   "outputs": [],
   "source": [
    "## Abstract Handler\n",
    "class AbstractLogger:\n",
    "    DEBUG = 1\n",
    "    INFO = 2\n",
    "    ERROR = 3\n",
    "    \n",
    "    def __init__(self, level):\n",
    "        self._level = level\n",
    "        self._next_logger = None\n",
    "\n",
    "    def set_next_logger(self, next_logger):\n",
    "        self._next_logger = next_logger\n",
    "\n",
    "    def log_message(self, level, message):\n",
    "        if self._level <= level:\n",
    "            self.write(message)\n",
    "        if self._next_logger is not None:\n",
    "            self._next_logger.log_message(level, message)\n",
    "\n",
    "    def write(self, message):\n",
    "        raise NotImplementedError\n",
    "\n",
    "\n",
    "class ConsoleLogger(AbstractLogger):\n",
    "    def __init__(self, level):\n",
    "        super().__init__(level)\n",
    "\n",
    "    def write(self, message):\n",
    "        print(f\"ConsoleLogger: {message}\")\n",
    "\n",
    "\n",
    "class FileLogger(AbstractLogger):\n",
    "    def __init__(self, level):\n",
    "        super().__init__(level)\n",
    "\n",
    "    def write(self, message):\n",
    "        print(f\"FileLogger: {message}\")\n",
    "\n",
    "\n",
    "class EmailLogger(AbstractLogger):\n",
    "    def __init__(self, level):\n",
    "        super().__init__(level)\n",
    "\n",
    "    def write(self, message):\n",
    "        print(f\"EmailLogger: {message}\")"
   ]
  },
  {
   "cell_type": "code",
   "execution_count": 38,
   "metadata": {},
   "outputs": [
    {
     "name": "stdout",
     "output_type": "stream",
     "text": [
      "ConsoleLogger: An error occurred!\n",
      "FileLogger: An error occurred!\n",
      "EmailLogger: An error occurred!\n"
     ]
    }
   ],
   "source": [
    "def get_logger_chain():\n",
    "    error_logger = EmailLogger(AbstractLogger.ERROR)\n",
    "    file_logger = FileLogger(AbstractLogger.INFO)\n",
    "    file_logger.set_next_logger(error_logger)\n",
    "    console_logger = ConsoleLogger(AbstractLogger.DEBUG)\n",
    "    console_logger.set_next_logger(file_logger)\n",
    "    return console_logger\n",
    "\n",
    "\n",
    "logger_chain = get_logger_chain()\n",
    "\n",
    "logger_chain.log_message(AbstractLogger.ERROR, \"An error occurred!\")"
   ]
  },
  {
   "cell_type": "code",
   "execution_count": 40,
   "metadata": {},
   "outputs": [
    {
     "name": "stdout",
     "output_type": "stream",
     "text": [
      "ConsoleLogger: This is an info message.\n",
      "FileLogger: This is an info message.\n"
     ]
    }
   ],
   "source": [
    "logger_chain.log_message(AbstractLogger.INFO, \"This is an info message.\")"
   ]
  },
  {
   "cell_type": "code",
   "execution_count": 41,
   "metadata": {},
   "outputs": [
    {
     "name": "stdout",
     "output_type": "stream",
     "text": [
      "ConsoleLogger: This is a debug message.\n"
     ]
    }
   ],
   "source": [
    "logger_chain.log_message(AbstractLogger.DEBUG, \"This is a debug message.\")"
   ]
  }
 ],
 "metadata": {
  "kernelspec": {
   "display_name": "base",
   "language": "python",
   "name": "python3"
  },
  "language_info": {
   "codemirror_mode": {
    "name": "ipython",
    "version": 3
   },
   "file_extension": ".py",
   "mimetype": "text/x-python",
   "name": "python",
   "nbconvert_exporter": "python",
   "pygments_lexer": "ipython3",
   "version": "3.12.7"
  }
 },
 "nbformat": 4,
 "nbformat_minor": 2
}
