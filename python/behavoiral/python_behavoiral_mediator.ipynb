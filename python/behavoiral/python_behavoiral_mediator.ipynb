{
 "cells": [
  {
   "cell_type": "markdown",
   "metadata": {},
   "source": [
    "## Mediator Pattern: NoCodeProgram\n",
    "\n",
    "- https://github.com/NoCodeProgram/DesignPatterns/blob/main/Behavioral/visitorP.ipynb"
   ]
  },
  {
   "cell_type": "code",
   "execution_count": 1,
   "metadata": {},
   "outputs": [],
   "source": [
    "## Mediator Interface\n",
    "class Mediator:\n",
    "    def notify(sender):\n",
    "        pass\n",
    "\n",
    "\n",
    "class HomeMediator(Mediator):\n",
    "    def __init__(self, clock, light, speaker):\n",
    "        self.clock = clock    \n",
    "        self.light = light\n",
    "        self.speaker = speaker\n",
    "\n",
    "    def notify(self, signal: str):\n",
    "        if signal == 'AlarmOn':\n",
    "            self.speaker.on()\n",
    "            self.light.on()\n",
    "        elif signal == 'LightOff':\n",
    "            self.speaker.off()\n",
    "\n",
    "\n",
    "## Components\n",
    "class Clock:\n",
    "    def set_mediator(self, mediator: Mediator):\n",
    "        self.mediator = mediator\n",
    "        \n",
    "    def alarm(self):\n",
    "        print(\"alarm on\")\n",
    "        self.mediator.notify('AlarmOn')\n",
    "\n",
    "\n",
    "class Light:\n",
    "    def set_mediator(self, mediator: Mediator):\n",
    "        self.mediator = mediator\n",
    "        \n",
    "    def on(self):\n",
    "        print(\"light On\")\n",
    "  \n",
    "    def off(self):\n",
    "        print(\"light off\")\n",
    "        self.mediator.notify('LightOff')\n",
    "\n",
    "\n",
    "class Speaker:\n",
    "    def set_mediator(self, mediator: Mediator):\n",
    "        self.mediator = mediator\n",
    "        \n",
    "    def on(self):\n",
    "        print(\"speaker on\")\n",
    "        \n",
    "    def off(self):\n",
    "        print(\"speaker off\")"
   ]
  },
  {
   "cell_type": "code",
   "execution_count": 3,
   "metadata": {},
   "outputs": [],
   "source": [
    "clock = Clock()\n",
    "light = Light()\n",
    "speaker = Speaker()\n",
    "\n",
    "mediator = HomeMediator(clock, light, speaker)\n",
    "clock.set_mediator(mediator)\n",
    "light.set_mediator(mediator)\n",
    "speaker.set_mediator(mediator)"
   ]
  },
  {
   "cell_type": "code",
   "execution_count": 5,
   "metadata": {},
   "outputs": [
    {
     "name": "stdout",
     "output_type": "stream",
     "text": [
      "alarm on\n",
      "speaker on\n",
      "light On\n"
     ]
    }
   ],
   "source": [
    "clock.alarm()"
   ]
  },
  {
   "cell_type": "code",
   "execution_count": 6,
   "metadata": {},
   "outputs": [
    {
     "name": "stdout",
     "output_type": "stream",
     "text": [
      "light off\n",
      "speaker off\n"
     ]
    }
   ],
   "source": [
    "light.off()"
   ]
  },
  {
   "cell_type": "markdown",
   "metadata": {},
   "source": [
    "## Mediator Pattern: Refactoring Guru\n",
    "\n",
    "- https://refactoring.guru/ko/design-patterns/mediator\n",
    "- https://refactoring.guru/ko/design-patterns/mediator/python/example"
   ]
  },
  {
   "cell_type": "code",
   "execution_count": 7,
   "metadata": {},
   "outputs": [],
   "source": [
    "from __future__ import annotations\n",
    "from abc import ABC"
   ]
  },
  {
   "cell_type": "code",
   "execution_count": 8,
   "metadata": {},
   "outputs": [],
   "source": [
    "## Mediator Interface\n",
    "class Mediator(ABC):\n",
    "    def notify(self, sender: object, event: str) -> None:\n",
    "        pass\n",
    "\n",
    "\n",
    "class ConcreteMediator(Mediator):\n",
    "    def __init__(self, component1: Component1, component2: Component2) -> None:\n",
    "        self._component1 = component1\n",
    "        self._component1.mediator = self\n",
    "        self._component2 = component2\n",
    "        self._component2.mediator = self\n",
    "\n",
    "    def notify(self, sender: object, event: str) -> None:\n",
    "        if event == \"A\":\n",
    "            print(\"Mediator reacts on A and triggers following operations:\")\n",
    "            self._component2.do_c()\n",
    "        elif event == \"D\":\n",
    "            print(\"Mediator reacts on D and triggers following operations:\")\n",
    "            self._component1.do_b()\n",
    "            self._component2.do_c()\n",
    "\n",
    "\n",
    "## Abstract Component\n",
    "class BaseComponent:\n",
    "    def __init__(self, mediator: Mediator = None) -> None:\n",
    "        self._mediator = mediator\n",
    "\n",
    "    @property\n",
    "    def mediator(self) -> Mediator:\n",
    "        return self._mediator\n",
    "\n",
    "    @mediator.setter\n",
    "    def mediator(self, mediator: Mediator) -> None:\n",
    "        self._mediator = mediator\n",
    "\n",
    "\n",
    "class Component1(BaseComponent):\n",
    "    def do_a(self) -> None:\n",
    "        print(\"Component 1 does A.\")\n",
    "        self.mediator.notify(self, \"A\")\n",
    "\n",
    "    def do_b(self) -> None:\n",
    "        print(\"Component 1 does B.\")\n",
    "        self.mediator.notify(self, \"B\")\n",
    "\n",
    "\n",
    "class Component2(BaseComponent):\n",
    "    def do_c(self) -> None:\n",
    "        print(\"Component 2 does C.\")\n",
    "        self.mediator.notify(self, \"C\")\n",
    "\n",
    "    def do_d(self) -> None:\n",
    "        print(\"Component 2 does D.\")\n",
    "        self.mediator.notify(self, \"D\")"
   ]
  },
  {
   "cell_type": "code",
   "execution_count": 10,
   "metadata": {},
   "outputs": [],
   "source": [
    "c1 = Component1()\n",
    "c2 = Component2()\n",
    "mediator = ConcreteMediator(c1, c2)"
   ]
  },
  {
   "cell_type": "code",
   "execution_count": 11,
   "metadata": {},
   "outputs": [
    {
     "name": "stdout",
     "output_type": "stream",
     "text": [
      "Client triggers operation A.\n",
      "Component 1 does A.\n",
      "Mediator reacts on A and triggers following operations:\n",
      "Component 2 does C.\n"
     ]
    }
   ],
   "source": [
    "print(\"Client triggers operation A.\")\n",
    "c1.do_a()"
   ]
  },
  {
   "cell_type": "code",
   "execution_count": 12,
   "metadata": {},
   "outputs": [
    {
     "name": "stdout",
     "output_type": "stream",
     "text": [
      "Client triggers operation D.\n",
      "Component 2 does D.\n",
      "Mediator reacts on D and triggers following operations:\n",
      "Component 1 does B.\n",
      "Component 2 does C.\n"
     ]
    }
   ],
   "source": [
    "print(\"Client triggers operation D.\")\n",
    "c2.do_d()"
   ]
  },
  {
   "cell_type": "markdown",
   "metadata": {},
   "source": [
    "## Mediator Pattern: python101.tistory.com\n",
    "\n",
    "- [[디자인 패턴] 중재자 패턴 (Mediator Pattern) - python 예제 코드](https://python101.tistory.com/entry/%EB%94%94%EC%9E%90%EC%9D%B8-%ED%8C%A8%ED%84%B4-%EC%A4%91%EC%9E%AC%EC%9E%90-%ED%8C%A8%ED%84%B4-Mediator-Pattern-python-%EC%98%88%EC%A0%9C-%EC%BD%94%EB%93%9C)"
   ]
  },
  {
   "cell_type": "code",
   "execution_count": 13,
   "metadata": {},
   "outputs": [],
   "source": [
    "class Mediator:\n",
    "    def __init__(self):\n",
    "        self.colleague_1 = Colleague1(self)\n",
    "        self.colleague_2 = Colleague2(self)\n",
    "\n",
    "    def send_message(self, message, colleague):\n",
    "        if colleague == self.colleague_1:\n",
    "            self.colleague_2.notify(message)\n",
    "        else:\n",
    "            self.colleague_1.notify(message)\n",
    "\n",
    "\n",
    "class Colleague1:\n",
    "    def __init__(self, mediator: Mediator):\n",
    "        self.mediator = mediator\n",
    "\n",
    "    def send_message(self, message):\n",
    "        self.mediator.send_message(message, self)\n",
    "\n",
    "    def notify(self, message):\n",
    "        print(\"Colleague1 gets message:\", message)\n",
    "\n",
    "\n",
    "class Colleague2:\n",
    "    def __init__(self, mediator: Mediator):\n",
    "        self.mediator = mediator\n",
    "\n",
    "    def send_message(self, message):\n",
    "        self.mediator.send_message(message, self)\n",
    "\n",
    "    def notify(self, message):\n",
    "        print(\"Colleague2 gets message:\", message)"
   ]
  },
  {
   "cell_type": "code",
   "execution_count": 14,
   "metadata": {},
   "outputs": [
    {
     "name": "stdout",
     "output_type": "stream",
     "text": [
      "Colleague2 gets message: Hello from Colleague1\n",
      "Colleague1 gets message: Hello from Colleague2\n"
     ]
    }
   ],
   "source": [
    "mediator = Mediator()\n",
    "mediator.colleague_1.send_message(\"Hello from Colleague1\")\n",
    "mediator.colleague_2.send_message(\"Hello from Colleague2\")"
   ]
  }
 ],
 "metadata": {
  "kernelspec": {
   "display_name": "base",
   "language": "python",
   "name": "python3"
  },
  "language_info": {
   "codemirror_mode": {
    "name": "ipython",
    "version": 3
   },
   "file_extension": ".py",
   "mimetype": "text/x-python",
   "name": "python",
   "nbconvert_exporter": "python",
   "pygments_lexer": "ipython3",
   "version": "3.12.7"
  }
 },
 "nbformat": 4,
 "nbformat_minor": 2
}
