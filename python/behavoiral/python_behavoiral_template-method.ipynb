{
 "cells": [
  {
   "cell_type": "markdown",
   "metadata": {},
   "source": [
    "## Template Method Pattern: NoCodeProgram\n",
    "\n",
    "- https://github.com/NoCodeProgram/DesignPatterns/blob/main/Behavioral/templateMethodP.ipynb"
   ]
  },
  {
   "cell_type": "code",
   "execution_count": 3,
   "metadata": {},
   "outputs": [],
   "source": [
    "class BasicRamenRecipe:\n",
    "    # template method\n",
    "    def cook_ramen(self):\n",
    "        self.boil_water()\n",
    "        self.add_ramen()\n",
    "        self.addons()\n",
    "        self.wait()\n",
    "\n",
    "    def boil_water(self):\n",
    "        print(\"boil 550ml of water\")\n",
    "        \n",
    "    def add_ramen(self):\n",
    "        print(\"add noodles, soup Base, flakes\")\n",
    "  \n",
    "    def addons(self):\n",
    "        pass\n",
    "    \n",
    "    def wait(self):\n",
    "        print(\"cook for 4min 30s\")\n",
    "        \n",
    "\n",
    "class NocopeRecipe(BasicRamenRecipe):\n",
    "    def addons(self):\n",
    "        print(\"add onions\")\n",
    "\n",
    "\n",
    "class GrandmaRecipe(BasicRamenRecipe):\n",
    "    def boilWater(self):\n",
    "        print(\"boil 1000ml of water\")\n",
    "        \n",
    "    def wait(self):\n",
    "        print(\"cook for 10m\")"
   ]
  },
  {
   "cell_type": "code",
   "execution_count": 5,
   "metadata": {},
   "outputs": [
    {
     "name": "stdout",
     "output_type": "stream",
     "text": [
      "boil 550ml of water\n",
      "add noodles, soup Base, flakes\n",
      "cook for 4min 30s\n"
     ]
    }
   ],
   "source": [
    "basic_recipe = BasicRamenRecipe()\n",
    "basic_recipe.cook_ramen()"
   ]
  },
  {
   "cell_type": "code",
   "execution_count": 7,
   "metadata": {},
   "outputs": [
    {
     "name": "stdout",
     "output_type": "stream",
     "text": [
      "boil 550ml of water\n",
      "add noodles, soup Base, flakes\n",
      "add onions\n",
      "cook for 4min 30s\n"
     ]
    }
   ],
   "source": [
    "nocope_recipe = NocopeRecipe()\n",
    "nocope_recipe.cook_ramen()"
   ]
  },
  {
   "cell_type": "code",
   "execution_count": 8,
   "metadata": {},
   "outputs": [
    {
     "name": "stdout",
     "output_type": "stream",
     "text": [
      "boil 550ml of water\n",
      "add noodles, soup Base, flakes\n",
      "cook for 10m\n"
     ]
    }
   ],
   "source": [
    "granma_recipe = GrandmaRecipe()\n",
    "granma_recipe.cook_ramen()"
   ]
  },
  {
   "cell_type": "markdown",
   "metadata": {},
   "source": [
    "## Template Method Pattern: Refactoring Guru\n",
    "\n",
    "- https://refactoring.guru/ko/design-patterns/template-method\n",
    "- https://refactoring.guru/ko/design-patterns/template-method/python/example"
   ]
  },
  {
   "cell_type": "code",
   "execution_count": 12,
   "metadata": {},
   "outputs": [],
   "source": [
    "from abc import ABC, abstractmethod\n",
    "\n",
    "## Abstract Class\n",
    "class AbstractClass(ABC):\n",
    "    def template_method(self) -> None:\n",
    "        self.base_operation1()\n",
    "        self.required_operations1()\n",
    "        self.base_operation2()\n",
    "        self.hook1()\n",
    "        self.required_operations2()\n",
    "        self.base_operation3()\n",
    "        self.hook2()\n",
    "\n",
    "    def base_operation1(self) -> None:\n",
    "        print(\"AbstractClass says: I am doing the bulk of the work\")\n",
    "\n",
    "    def base_operation2(self) -> None:\n",
    "        print(\"AbstractClass says: But I let subclasses override some operations\")\n",
    "\n",
    "    def base_operation3(self) -> None:\n",
    "        print(\"AbstractClass says: But I am doing the bulk of the work anyway\")\n",
    "\n",
    "    @abstractmethod\n",
    "    def required_operations1(self) -> None:\n",
    "        pass\n",
    "\n",
    "    @abstractmethod\n",
    "    def required_operations2(self) -> None:\n",
    "        pass\n",
    "\n",
    "    def hook1(self) -> None:\n",
    "        pass\n",
    "\n",
    "    def hook2(self) -> None:\n",
    "        pass\n",
    "\n",
    "\n",
    "class ConcreteClass1(AbstractClass):\n",
    "    def required_operations1(self) -> None:\n",
    "        print(\"ConcreteClass1 says: Implemented Operation1\")\n",
    "\n",
    "    def required_operations2(self) -> None:\n",
    "        print(\"ConcreteClass1 says: Implemented Operation2\")\n",
    "\n",
    "\n",
    "class ConcreteClass2(AbstractClass):\n",
    "    def required_operations1(self) -> None:\n",
    "        print(\"ConcreteClass2 says: Implemented Operation1\")\n",
    "\n",
    "    def required_operations2(self) -> None:\n",
    "        print(\"ConcreteClass2 says: Implemented Operation2\")\n",
    "\n",
    "    def hook1(self) -> None:\n",
    "        print(\"ConcreteClass2 says: Overridden Hook1\")"
   ]
  },
  {
   "cell_type": "code",
   "execution_count": 14,
   "metadata": {},
   "outputs": [
    {
     "name": "stdout",
     "output_type": "stream",
     "text": [
      "Same client code can work with different subclasses:\n",
      "AbstractClass says: I am doing the bulk of the work\n",
      "ConcreteClass1 says: Implemented Operation1\n",
      "AbstractClass says: But I let subclasses override some operations\n",
      "ConcreteClass1 says: Implemented Operation2\n",
      "AbstractClass says: But I am doing the bulk of the work anyway\n"
     ]
    }
   ],
   "source": [
    "def client_code(abstract_class: AbstractClass) -> None:\n",
    "    abstract_class.template_method()\n",
    "    \n",
    "print(\"Same client code can work with different subclasses:\")\n",
    "client_code(ConcreteClass1())"
   ]
  },
  {
   "cell_type": "code",
   "execution_count": 15,
   "metadata": {},
   "outputs": [
    {
     "name": "stdout",
     "output_type": "stream",
     "text": [
      "Same client code can work with different subclasses:\n",
      "AbstractClass says: I am doing the bulk of the work\n",
      "ConcreteClass2 says: Implemented Operation1\n",
      "AbstractClass says: But I let subclasses override some operations\n",
      "ConcreteClass2 says: Overridden Hook1\n",
      "ConcreteClass2 says: Implemented Operation2\n",
      "AbstractClass says: But I am doing the bulk of the work anyway\n"
     ]
    }
   ],
   "source": [
    "print(\"Same client code can work with different subclasses:\")\n",
    "client_code(ConcreteClass2())"
   ]
  },
  {
   "cell_type": "markdown",
   "metadata": {},
   "source": [
    "## Template Method Pattern: python101.tistory.com\n",
    "\n",
    "- [[디자인 패턴] 템플릿 메서드 패턴 (Template Method Pattern) - python 예제 코드](https://python101.tistory.com/entry/%EB%94%94%EC%9E%90%EC%9D%B8-%ED%8C%A8%ED%84%B4-%ED%85%9C%ED%94%8C%EB%A6%BF-%EB%A9%94%EC%84%9C%EB%93%9C-%ED%8C%A8%ED%84%B4-Template-Method-Pattern-python-%EC%98%88%EC%A0%9C-%EC%BD%94%EB%93%9C?category=1347766)"
   ]
  },
  {
   "cell_type": "code",
   "execution_count": 17,
   "metadata": {},
   "outputs": [],
   "source": [
    "## Abstract Class\n",
    "class Character(ABC):\n",
    "    ## template method\n",
    "    def create(self):\n",
    "        self.add_head()\n",
    "        self.add_body()\n",
    "        self.add_legs()\n",
    "\n",
    "    @abstractmethod\n",
    "    def add_head(self):\n",
    "        pass\n",
    "\n",
    "    @abstractmethod\n",
    "    def add_body(self):\n",
    "        pass\n",
    "\n",
    "    @abstractmethod\n",
    "    def add_legs(self):\n",
    "        pass\n",
    "\n",
    "\n",
    "class Elf(Character):\n",
    "    def add_head(self):\n",
    "        print(\"Elf: Adding head\")\n",
    "\n",
    "    def add_body(self):\n",
    "        print(\"Elf: Adding body\")\n",
    "\n",
    "    def add_legs(self):\n",
    "        print(\"Elf: Adding legs\")\n",
    "\n",
    "\n",
    "class Orc(Character):\n",
    "    def add_head(self):\n",
    "        print(\"Orc: Adding head\")\n",
    "\n",
    "    def add_body(self):\n",
    "        print(\"Orc: Adding body\")\n",
    "\n",
    "    def add_legs(self):\n",
    "        print(\"Orc: Adding legs\")"
   ]
  },
  {
   "cell_type": "code",
   "execution_count": 18,
   "metadata": {},
   "outputs": [
    {
     "name": "stdout",
     "output_type": "stream",
     "text": [
      "Elf: Adding head\n",
      "Elf: Adding body\n",
      "Elf: Adding legs\n"
     ]
    }
   ],
   "source": [
    "elf = Elf()\n",
    "elf.create()"
   ]
  },
  {
   "cell_type": "code",
   "execution_count": 19,
   "metadata": {},
   "outputs": [
    {
     "name": "stdout",
     "output_type": "stream",
     "text": [
      "Orc: Adding head\n",
      "Orc: Adding body\n",
      "Orc: Adding legs\n"
     ]
    }
   ],
   "source": [
    "orc = Orc()\n",
    "orc.create()"
   ]
  }
 ],
 "metadata": {
  "kernelspec": {
   "display_name": "base",
   "language": "python",
   "name": "python3"
  },
  "language_info": {
   "codemirror_mode": {
    "name": "ipython",
    "version": 3
   },
   "file_extension": ".py",
   "mimetype": "text/x-python",
   "name": "python",
   "nbconvert_exporter": "python",
   "pygments_lexer": "ipython3",
   "version": "3.12.7"
  }
 },
 "nbformat": 4,
 "nbformat_minor": 2
}
