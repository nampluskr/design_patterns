{
 "cells": [
  {
   "cell_type": "markdown",
   "metadata": {},
   "source": [
    "## Memento Pattern: NoCodeProgram\n",
    "\n",
    "- https://github.com/NoCodeProgram/DesignPatterns/blob/main/Behavioral/mementoP.ipynb"
   ]
  },
  {
   "cell_type": "code",
   "execution_count": 13,
   "metadata": {},
   "outputs": [],
   "source": [
    "import uuid\n",
    "from datetime import datetime\n",
    "\n",
    "\n",
    "class CatMemento:\n",
    "    def __init__(self, age, height):\n",
    "        self.uuid = uuid.uuid4()\n",
    "        self.created_time = datetime.now()\n",
    "        self.age = age\n",
    "        self.height = height\n",
    "\n",
    "\n",
    "class Cat:\n",
    "    def __init__(self, age, height):\n",
    "        self.age = age\n",
    "        self.height = height\n",
    "\n",
    "    def speak(self):\n",
    "        print(f'{self.age}year old, {self.height}cm, meow')\n",
    "\n",
    "    def create_memento(self):\n",
    "        cat_memento = CatMemento(self.age, self.height)\n",
    "        return cat_memento\n",
    "\n",
    "    def restore(self, memento):\n",
    "        self.age = memento.age\n",
    "        self.height = memento.height"
   ]
  },
  {
   "cell_type": "code",
   "execution_count": 14,
   "metadata": {},
   "outputs": [],
   "source": [
    "cat_history = []\n",
    "\n",
    "cat = Cat(0, 10)\n",
    "cat_history.append(cat.create_memento())\n",
    "\n",
    "cat.age = 1\n",
    "cat.height = 25\n",
    "cat_history.append(cat.create_memento())\n",
    "\n",
    "cat.age = 2\n",
    "cat.height = 50\n",
    "cat_history.append(cat.create_memento())"
   ]
  },
  {
   "cell_type": "code",
   "execution_count": null,
   "metadata": {},
   "outputs": [],
   "source": [
    "cat.speak()"
   ]
  },
  {
   "cell_type": "code",
   "execution_count": null,
   "metadata": {},
   "outputs": [],
   "source": [
    "cat.restore(cat_history[0])\n",
    "cat.speak()"
   ]
  },
  {
   "cell_type": "markdown",
   "metadata": {},
   "source": [
    "## Memento Pattern: Refactoring Guru\n",
    "\n",
    "- https://refactoring.guru/ko/design-patterns/memento\n",
    "- https://refactoring.guru/ko/design-patterns/memento/python/example"
   ]
  },
  {
   "cell_type": "code",
   "execution_count": 15,
   "metadata": {},
   "outputs": [],
   "source": [
    "from __future__ import annotations\n",
    "from abc import ABC, abstractmethod\n",
    "from datetime import datetime\n",
    "from random import sample\n",
    "from string import ascii_letters"
   ]
  },
  {
   "cell_type": "code",
   "execution_count": 17,
   "metadata": {},
   "outputs": [],
   "source": [
    "## Memento Interface\n",
    "class Memento(ABC):\n",
    "    @abstractmethod\n",
    "    def get_name(self) -> str:\n",
    "        pass\n",
    "\n",
    "    @abstractmethod\n",
    "    def get_date(self) -> str:\n",
    "        pass\n",
    "\n",
    "\n",
    "class ConcreteMemento(Memento):\n",
    "    def __init__(self, state: str) -> None:\n",
    "        self._state = state\n",
    "        self._date = str(datetime.now())[:19]\n",
    "\n",
    "    def get_state(self) -> str:\n",
    "        return self._state\n",
    "\n",
    "    def get_name(self) -> str:\n",
    "        return f\"{self._date} / ({self._state[0:9]}...)\"\n",
    "\n",
    "    def get_date(self) -> str:\n",
    "        return self._date\n",
    "\n",
    "\n",
    "class Originator:\n",
    "    _state = None\n",
    "\n",
    "    def __init__(self, state: str) -> None:\n",
    "        self._state = state\n",
    "        print(f\"Originator: My initial state is: {self._state}\")\n",
    "\n",
    "    def do_something(self) -> None:\n",
    "        print(\"Originator: I'm doing something important.\")\n",
    "        self._state = self._generate_random_string(30)\n",
    "        print(f\"Originator: and my state has changed to: {self._state}\")\n",
    "\n",
    "    @staticmethod\n",
    "    def _generate_random_string(length: int = 10) -> str:\n",
    "        return \"\".join(sample(ascii_letters, length))\n",
    "\n",
    "    def save(self) -> Memento:\n",
    "        return ConcreteMemento(self._state)\n",
    "\n",
    "    def restore(self, memento: Memento) -> None:\n",
    "        self._state = memento.get_state()\n",
    "        print(f\"Originator: My state has changed to: {self._state}\")"
   ]
  },
  {
   "cell_type": "code",
   "execution_count": 18,
   "metadata": {},
   "outputs": [],
   "source": [
    "class Caretaker:\n",
    "    def __init__(self, originator: Originator) -> None:\n",
    "        self._mementos = []\n",
    "        self._originator = originator\n",
    "\n",
    "    def backup(self) -> None:\n",
    "        print(\"\\nCaretaker: Saving Originator's state...\")\n",
    "        self._mementos.append(self._originator.save())\n",
    "\n",
    "    def undo(self) -> None:\n",
    "        if not len(self._mementos):\n",
    "            return\n",
    "\n",
    "        memento = self._mementos.pop()\n",
    "        print(f\"Caretaker: Restoring state to: {memento.get_name()}\")\n",
    "        try:\n",
    "            self._originator.restore(memento)\n",
    "        except Exception:\n",
    "            self.undo()\n",
    "\n",
    "    def show_history(self) -> None:\n",
    "        print(\"Caretaker: Here's the list of mementos:\")\n",
    "        for memento in self._mementos:\n",
    "            print(memento.get_name())"
   ]
  },
  {
   "cell_type": "code",
   "execution_count": null,
   "metadata": {},
   "outputs": [],
   "source": [
    "originator = Originator(\"Super-duper-super-puper-super.\")\n",
    "caretaker = Caretaker(originator)\n",
    "caretaker.backup()"
   ]
  },
  {
   "cell_type": "code",
   "execution_count": null,
   "metadata": {},
   "outputs": [],
   "source": [
    "originator.do_something()\n",
    "caretaker.backup()"
   ]
  },
  {
   "cell_type": "code",
   "execution_count": null,
   "metadata": {},
   "outputs": [],
   "source": [
    "originator.do_something()\n",
    "caretaker.backup()"
   ]
  },
  {
   "cell_type": "code",
   "execution_count": null,
   "metadata": {},
   "outputs": [],
   "source": [
    "caretaker.show_history()"
   ]
  },
  {
   "cell_type": "code",
   "execution_count": null,
   "metadata": {},
   "outputs": [],
   "source": [
    "print(\"\\nClient: Now, let's rollback!\\n\")\n",
    "caretaker.undo()"
   ]
  },
  {
   "cell_type": "code",
   "execution_count": null,
   "metadata": {},
   "outputs": [],
   "source": [
    "print(\"\\nClient: Once more!\\n\")\n",
    "caretaker.undo()"
   ]
  },
  {
   "cell_type": "markdown",
   "metadata": {},
   "source": [
    "## Memento Pattern: python101.tistory.com\n",
    "\n",
    "- [[디자인 패턴] 메멘토 패턴 (Memento Pattern) - python 예제 코드](https://python101.tistory.com/entry/%EB%94%94%EC%9E%90%EC%9D%B8-%ED%8C%A8%ED%84%B4-%EB%A9%94%EB%A9%98%ED%86%A0-%ED%8C%A8%ED%84%B4-Memento-Pattern-python-%EC%98%88%EC%A0%9C-%EC%BD%94%EB%93%9C)"
   ]
  },
  {
   "cell_type": "code",
   "execution_count": 9,
   "metadata": {},
   "outputs": [],
   "source": [
    "class EditorState:\n",
    "    def __init__(self, text, cursor_position, edit_mode):\n",
    "        self.text = text\n",
    "        self.cursor_position = cursor_position\n",
    "        self.edit_mode = edit_mode\n",
    "\n",
    "\n",
    "class Editor:\n",
    "    def __init__(self):\n",
    "        self.text = \"\"\n",
    "        self.cursor_position = 0\n",
    "        self.edit_mode = \"insert\"\n",
    "\n",
    "    def insert(self, text):\n",
    "        self.text = self.text[:self.cursor_position] + text + self.text[self.cursor_position:]\n",
    "        self.cursor_position += len(text)\n",
    "\n",
    "    def delete(self, length):\n",
    "        if self.cursor_position < length:\n",
    "            self.text = self.text[self.cursor_position + length:]\n",
    "            self.cursor_position = 0\n",
    "        else:\n",
    "            self.text = self.text[:self.cursor_position - length] + self.text[self.cursor_position:]\n",
    "            self.cursor_position -= length\n",
    "\n",
    "    def save(self):\n",
    "        return EditorState(self.text, self.cursor_position, self.edit_mode)\n",
    "\n",
    "    def restore(self, state):\n",
    "        self.text = state.text\n",
    "        self.cursor_position = state.cursor_position\n",
    "        self.edit_mode = state.edit_mode\n",
    "\n",
    "\n",
    "class History:\n",
    "    def __init__(self):\n",
    "        self.states = []\n",
    "\n",
    "    def push(self, state):\n",
    "        self.states.append(state)\n",
    "\n",
    "    def pop(self):\n",
    "        return self.states.pop()"
   ]
  },
  {
   "cell_type": "code",
   "execution_count": 10,
   "metadata": {},
   "outputs": [
    {
     "name": "stdout",
     "output_type": "stream",
     "text": [
      "Hello, World!\n"
     ]
    }
   ],
   "source": [
    "editor = Editor()\n",
    "history = History()\n",
    "\n",
    "editor.insert(\"Hello, \")\n",
    "editor.insert(\"World!\")\n",
    "print(editor.text)          # 출력: Hello, World!\n",
    "history.push(editor.save())"
   ]
  },
  {
   "cell_type": "code",
   "execution_count": 11,
   "metadata": {},
   "outputs": [
    {
     "name": "stdout",
     "output_type": "stream",
     "text": [
      "Hello, \n"
     ]
    }
   ],
   "source": [
    "editor.delete(6)\n",
    "print(editor.text)          # 출력: Hello, \n",
    "history.push(editor.save())"
   ]
  },
  {
   "cell_type": "code",
   "execution_count": 12,
   "metadata": {},
   "outputs": [
    {
     "name": "stdout",
     "output_type": "stream",
     "text": [
      "Hello, \n"
     ]
    }
   ],
   "source": [
    "editor.restore(history.pop())\n",
    "print(editor.text)          # 출력: Hello,"
   ]
  },
  {
   "cell_type": "code",
   "execution_count": 13,
   "metadata": {},
   "outputs": [
    {
     "name": "stdout",
     "output_type": "stream",
     "text": [
      "Hello, World!\n"
     ]
    }
   ],
   "source": [
    "editor.restore(history.pop())\n",
    "print(editor.text)          # 출력: Hello, World!"
   ]
  }
 ],
 "metadata": {
  "kernelspec": {
   "display_name": "base",
   "language": "python",
   "name": "python3"
  },
  "language_info": {
   "codemirror_mode": {
    "name": "ipython",
    "version": 3
   },
   "file_extension": ".py",
   "mimetype": "text/x-python",
   "name": "python",
   "nbconvert_exporter": "python",
   "pygments_lexer": "ipython3",
   "version": "3.12.7"
  }
 },
 "nbformat": 4,
 "nbformat_minor": 2
}
