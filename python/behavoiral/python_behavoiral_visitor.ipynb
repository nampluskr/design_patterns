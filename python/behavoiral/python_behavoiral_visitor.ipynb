{
 "cells": [
  {
   "cell_type": "markdown",
   "metadata": {},
   "source": [
    "## Visitor Pattern: NoCodeProgram\n",
    "\n",
    "- https://github.com/NoCodeProgram/DesignPatterns/blob/main/Behavioral/visitorP.ipynb"
   ]
  },
  {
   "cell_type": "code",
   "execution_count": 8,
   "metadata": {},
   "outputs": [],
   "source": [
    "## Visitor Interface\n",
    "class Visitor:\n",
    "    def visit(self, element):\n",
    "        pass\n",
    "\n",
    "\n",
    "class NameVisitor(Visitor):\n",
    "    def visit(self, element):\n",
    "        print(element.name)\n",
    "\n",
    "\n",
    "class AgeVisitor(Visitor):\n",
    "    def visit(self, element):\n",
    "        print(element.age)\n",
    "\n",
    "\n",
    "class Cat:\n",
    "    def __init__(self, name, age):\n",
    "        self.name = name\n",
    "        self.age = age\n",
    "\n",
    "    def speak(self):\n",
    "        print(\"meow\")\n",
    "\n",
    "    def accept(self, visitor: Visitor):\n",
    "        print(\"use implementation of visitor\")\n",
    "        visitor.visit(self)"
   ]
  },
  {
   "cell_type": "code",
   "execution_count": 11,
   "metadata": {},
   "outputs": [
    {
     "name": "stdout",
     "output_type": "stream",
     "text": [
      "meow\n"
     ]
    }
   ],
   "source": [
    "kitty = Cat(\"kitty\", 3)\n",
    "kitty.speak()"
   ]
  },
  {
   "cell_type": "code",
   "execution_count": 12,
   "metadata": {},
   "outputs": [
    {
     "name": "stdout",
     "output_type": "stream",
     "text": [
      "use implementation of visitor\n",
      "kitty\n"
     ]
    }
   ],
   "source": [
    "name_visitor = NameVisitor()\n",
    "kitty.accept(name_visitor)"
   ]
  },
  {
   "cell_type": "code",
   "execution_count": 13,
   "metadata": {},
   "outputs": [
    {
     "name": "stdout",
     "output_type": "stream",
     "text": [
      "use implementation of visitor\n",
      "3\n"
     ]
    }
   ],
   "source": [
    "age_visitor = AgeVisitor()\n",
    "kitty.accept(age_visitor)"
   ]
  },
  {
   "cell_type": "code",
   "execution_count": 18,
   "metadata": {},
   "outputs": [],
   "source": [
    "## Visitor Interface\n",
    "class AnimalVisitor:\n",
    "    def cat_visit(self, element):\n",
    "        pass\n",
    "\n",
    "    def dog_visit(self, element):\n",
    "        pass\n",
    "\n",
    "\n",
    "class SpeakVisitor(AnimalVisitor):\n",
    "    def cat_visit(self, element):\n",
    "        print(\"meow~\")\n",
    "        \n",
    "    def dog_visit(self, element):\n",
    "        print(\"bark!\")\n",
    "\n",
    "\n",
    "class NameVisitor(AnimalVisitor):\n",
    "    def cat_visit(self, element):\n",
    "        print(f\"cat, {element.name}\")\n",
    "  \n",
    "    def dog_visit(self, element):\n",
    "        print(f\"dog, {element.name}\")\n",
    "\n",
    "\n",
    "## Element Interface\n",
    "class Animal:\n",
    "    def __init__(self,name:str):\n",
    "        self.name = name\n",
    "  \n",
    "    def accept(self, visitor: AnimalVisitor):\n",
    "        pass\n",
    "\n",
    "\n",
    "class Cat(Animal):\n",
    "    def accept(self, visitor: AnimalVisitor):\n",
    "        visitor.cat_visit(self)\n",
    "\n",
    "\n",
    "class Dog(Animal):\n",
    "    def accept(self, visitor: AnimalVisitor):\n",
    "        visitor.dog_visit(self)"
   ]
  },
  {
   "cell_type": "code",
   "execution_count": 19,
   "metadata": {},
   "outputs": [],
   "source": [
    "baduk = Dog(\"baduk\")\n",
    "kitty = Cat(\"kitty\")"
   ]
  },
  {
   "cell_type": "code",
   "execution_count": 20,
   "metadata": {},
   "outputs": [
    {
     "name": "stdout",
     "output_type": "stream",
     "text": [
      "dog, baduk\n",
      "cat, kitty\n"
     ]
    }
   ],
   "source": [
    "baduk.accept(NameVisitor())\n",
    "kitty.accept(NameVisitor())"
   ]
  },
  {
   "cell_type": "code",
   "execution_count": 21,
   "metadata": {},
   "outputs": [
    {
     "name": "stdout",
     "output_type": "stream",
     "text": [
      "bark!\n",
      "meow~\n"
     ]
    }
   ],
   "source": [
    "baduk.accept(SpeakVisitor())\n",
    "kitty.accept(SpeakVisitor())"
   ]
  },
  {
   "cell_type": "markdown",
   "metadata": {},
   "source": [
    "## Visitor Pattern: Refactoring Guru\n",
    "\n",
    "- https://refactoring.guru/ko/design-patterns/visitor\n",
    "- https://refactoring.guru/ko/design-patterns/visitor/python/example"
   ]
  },
  {
   "cell_type": "code",
   "execution_count": 22,
   "metadata": {},
   "outputs": [],
   "source": [
    "from __future__ import annotations\n",
    "from abc import ABC, abstractmethod\n",
    "from typing import List"
   ]
  },
  {
   "cell_type": "code",
   "execution_count": 23,
   "metadata": {},
   "outputs": [],
   "source": [
    "## Component Interface\n",
    "class Component(ABC):\n",
    "    @abstractmethod\n",
    "    def accept(self, visitor: Visitor) -> None:\n",
    "        pass\n",
    "\n",
    "\n",
    "class ConcreteComponentA(Component):\n",
    "    def accept(self, visitor: Visitor) -> None:\n",
    "        visitor.visit_concrete_component_a(self)\n",
    "\n",
    "    def exclusive_method_of_concrete_component_a(self) -> str:\n",
    "        return \"A\"\n",
    "\n",
    "\n",
    "class ConcreteComponentB(Component):\n",
    "    def accept(self, visitor: Visitor):\n",
    "        visitor.visit_concrete_component_b(self)\n",
    "\n",
    "    def special_method_of_concrete_component_b(self) -> str:\n",
    "        return \"B\"\n",
    "\n",
    "\n",
    "## Visitor Interface\n",
    "class Visitor(ABC):\n",
    "    @abstractmethod\n",
    "    def visit_concrete_component_a(self, element: ConcreteComponentA) -> None:\n",
    "        pass\n",
    "\n",
    "    @abstractmethod\n",
    "    def visit_concrete_component_b(self, element: ConcreteComponentB) -> None:\n",
    "        pass\n",
    "\n",
    "\n",
    "class ConcreteVisitor1(Visitor):\n",
    "    def visit_concrete_component_a(self, element) -> None:\n",
    "        print(f\"{element.exclusive_method_of_concrete_component_a()} + ConcreteVisitor1\")\n",
    "\n",
    "    def visit_concrete_component_b(self, element) -> None:\n",
    "        print(f\"{element.special_method_of_concrete_component_b()} + ConcreteVisitor1\")\n",
    "\n",
    "\n",
    "class ConcreteVisitor2(Visitor):\n",
    "    def visit_concrete_component_a(self, element) -> None:\n",
    "        print(f\"{element.exclusive_method_of_concrete_component_a()} + ConcreteVisitor2\")\n",
    "\n",
    "    def visit_concrete_component_b(self, element) -> None:\n",
    "        print(f\"{element.special_method_of_concrete_component_b()} + ConcreteVisitor2\")"
   ]
  },
  {
   "cell_type": "code",
   "execution_count": 24,
   "metadata": {},
   "outputs": [
    {
     "name": "stdout",
     "output_type": "stream",
     "text": [
      "The client code works with all visitors via the base Visitor interface:\n",
      "A + ConcreteVisitor1\n",
      "B + ConcreteVisitor1\n"
     ]
    }
   ],
   "source": [
    "def client_code(components: List[Component], visitor: Visitor) -> None:\n",
    "    for component in components:\n",
    "        component.accept(visitor)\n",
    "\n",
    "\n",
    "components = [ConcreteComponentA(), ConcreteComponentB()]\n",
    "\n",
    "print(\"The client code works with all visitors via the base Visitor interface:\")\n",
    "visitor1 = ConcreteVisitor1()\n",
    "client_code(components, visitor1)"
   ]
  },
  {
   "cell_type": "code",
   "execution_count": 25,
   "metadata": {},
   "outputs": [
    {
     "name": "stdout",
     "output_type": "stream",
     "text": [
      "It allows the same client code to work with different types of visitors:\n",
      "A + ConcreteVisitor2\n",
      "B + ConcreteVisitor2\n"
     ]
    }
   ],
   "source": [
    "print(\"It allows the same client code to work with different types of visitors:\")\n",
    "visitor2 = ConcreteVisitor2()\n",
    "client_code(components, visitor2)"
   ]
  },
  {
   "cell_type": "markdown",
   "metadata": {},
   "source": [
    "## Visitor Pattern: python101.tistory.com\n",
    "\n",
    "- [[디자인 패턴] 비지터 패턴 (Visitor Pattern) - python 예제 코드](https://python101.tistory.com/entry/%EB%94%94%EC%9E%90%EC%9D%B8-%ED%8C%A8%ED%84%B4-%EB%B9%84%EC%A7%80%ED%84%B0-%ED%8C%A8%ED%84%B4-Visitor-Pattern-python-%EC%98%88%EC%A0%9C-%EC%BD%94%EB%93%9C)"
   ]
  },
  {
   "cell_type": "code",
   "execution_count": 29,
   "metadata": {},
   "outputs": [],
   "source": [
    "## Element Interface\n",
    "class Element:\n",
    "    def accept(self, visitor):\n",
    "        pass\n",
    "\n",
    "\n",
    "class ConcreteElementA(Element):\n",
    "    def accept(self, visitor):\n",
    "        visitor.visit_concrete_element_a(self)\n",
    "\n",
    "    def operation_a(self):\n",
    "        print(\"operation_a\")\n",
    "\n",
    "\n",
    "class ConcreteElementB(Element):\n",
    "    def accept(self, visitor):\n",
    "        visitor.visit_concrete_element_b(self)\n",
    "\n",
    "    def operation_b(self):\n",
    "        print(\"operation_b\")\n",
    "\n",
    "\n",
    "## Visitor Interface    \n",
    "class Visitor:\n",
    "    def visit_concrete_element_a(self, element):\n",
    "        pass\n",
    "\n",
    "    def visit_concrete_element_b(self, element):\n",
    "        pass\n",
    "\n",
    "\n",
    "class ConcreteVisitor1(Visitor):\n",
    "    def visit_concrete_element_a(self, element):\n",
    "        element.operation_a()\n",
    "\n",
    "    def visit_concrete_element_b(self, element):\n",
    "        element.operation_b()\n",
    "\n",
    "\n",
    "class ConcreteVisitor2(Visitor):\n",
    "    def visit_concrete_element_a(self, element):\n",
    "        pass\n",
    "\n",
    "    def visit_concrete_element_b(self, element):\n",
    "        element.operation_b()"
   ]
  },
  {
   "cell_type": "code",
   "execution_count": 30,
   "metadata": {},
   "outputs": [
    {
     "name": "stdout",
     "output_type": "stream",
     "text": [
      "operation_a\n",
      "operation_b\n",
      "operation_b\n"
     ]
    }
   ],
   "source": [
    "elements = [ConcreteElementA(), ConcreteElementB()]\n",
    "visitor1 = ConcreteVisitor1()\n",
    "visitor2 = ConcreteVisitor2()\n",
    "\n",
    "for element in elements:\n",
    "    element.accept(visitor1)\n",
    "    element.accept(visitor2)"
   ]
  }
 ],
 "metadata": {
  "kernelspec": {
   "display_name": "base",
   "language": "python",
   "name": "python3"
  },
  "language_info": {
   "codemirror_mode": {
    "name": "ipython",
    "version": 3
   },
   "file_extension": ".py",
   "mimetype": "text/x-python",
   "name": "python",
   "nbconvert_exporter": "python",
   "pygments_lexer": "ipython3",
   "version": "3.12.7"
  }
 },
 "nbformat": 4,
 "nbformat_minor": 2
}
