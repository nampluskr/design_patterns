{
 "cells": [
  {
   "cell_type": "markdown",
   "metadata": {},
   "source": [
    "## Decorator Pattern: NoCodeProgram\n",
    "\n",
    "- https://github.com/NoCodeProgram/DesignPatterns/blob/main/Structural/decoratorP.ipynb"
   ]
  },
  {
   "cell_type": "code",
   "execution_count": 10,
   "metadata": {},
   "outputs": [],
   "source": [
    "## Component Interface\n",
    "class Animal:\n",
    "    def speak(self):\n",
    "        pass\n",
    "\n",
    "\n",
    "class Cat(Animal):\n",
    "    def speak(self):\n",
    "        print(\"meow\", end='')\n",
    "\n",
    "\n",
    "class Dog(Animal):\n",
    "    def speak(self):\n",
    "        print(\"bark\", end='')\n",
    "\n",
    "\n",
    "def makeSpeak(animal:Animal):\n",
    "    animal.speak()\n",
    "    print(\" \")"
   ]
  },
  {
   "cell_type": "code",
   "execution_count": 11,
   "metadata": {},
   "outputs": [],
   "source": [
    "## Decorators\n",
    "class Decorator(Animal):\n",
    "    def __init__(self, animal: Animal):\n",
    "        self.animal = animal\n",
    "    \n",
    "    def speak(self):\n",
    "        self.animal.speak()\n",
    "\n",
    "\n",
    "class WthSmile(Decorator):\n",
    "    def speak(self):\n",
    "        self.animal.speak()\n",
    "        print(\"😀\", end='')\n",
    "\n",
    "\n",
    "class WthHeartEyes(Decorator):\n",
    "    def speak(self):\n",
    "        self.animal.speak()\n",
    "        print(\"😍\", end='')"
   ]
  },
  {
   "cell_type": "code",
   "execution_count": 12,
   "metadata": {},
   "outputs": [
    {
     "name": "stdout",
     "output_type": "stream",
     "text": [
      "meow \n",
      "meow😀 \n",
      "meow😀😍 \n"
     ]
    }
   ],
   "source": [
    "kitty = Cat()\n",
    "makeSpeak(kitty)\n",
    "\n",
    "kitty_smile = WthSmile(kitty)\n",
    "makeSpeak(kitty_smile)\n",
    "\n",
    "kitty_smile_heart = WthHeartEyes(kitty_smile)\n",
    "makeSpeak(kitty_smile_heart)"
   ]
  },
  {
   "cell_type": "code",
   "execution_count": 13,
   "metadata": {},
   "outputs": [
    {
     "name": "stdout",
     "output_type": "stream",
     "text": [
      "bark \n",
      "bark😍 \n",
      "bark😍😀 \n"
     ]
    }
   ],
   "source": [
    "dog = Dog()\n",
    "makeSpeak(dog)\n",
    "\n",
    "dog_heart = WthHeartEyes(dog)\n",
    "makeSpeak(dog_heart)\n",
    "\n",
    "dog_heart_smile = WthSmile(dog_heart)\n",
    "makeSpeak(dog_heart_smile)"
   ]
  },
  {
   "cell_type": "markdown",
   "metadata": {},
   "source": [
    "## Decorator Pattern: Refactoring Guru\n",
    "\n",
    "- https://refactoring.guru/ko/design-patterns/decorator\n",
    "- https://refactoring.guru/ko/design-patterns/decorator/python/example"
   ]
  },
  {
   "cell_type": "code",
   "execution_count": 18,
   "metadata": {},
   "outputs": [],
   "source": [
    "## Component Interface\n",
    "class Component:\n",
    "    def operation(self) -> str:\n",
    "        pass\n",
    "\n",
    "\n",
    "class ConcreteComponent(Component):\n",
    "    def operation(self) -> str:\n",
    "        return \"ConcreteComponent\"\n",
    "\n",
    "\n",
    "## Decorator Interface\n",
    "class Decorator(Component):\n",
    "    # _component: Component = None\n",
    "\n",
    "    def __init__(self, component: Component) -> None:\n",
    "        self._component = component\n",
    "\n",
    "    @property\n",
    "    def component(self) -> Component:\n",
    "        return self._component\n",
    "\n",
    "    def operation(self) -> str:\n",
    "        return self._component.operation()\n",
    "\n",
    "\n",
    "class ConcreteDecoratorA(Decorator):\n",
    "    def operation(self) -> str:\n",
    "        return f\"ConcreteDecoratorA({self.component.operation()})\"\n",
    "\n",
    "\n",
    "class ConcreteDecoratorB(Decorator):\n",
    "    def operation(self) -> str:\n",
    "        return f\"ConcreteDecoratorB({self.component.operation()})\""
   ]
  },
  {
   "cell_type": "code",
   "execution_count": 19,
   "metadata": {},
   "outputs": [
    {
     "name": "stdout",
     "output_type": "stream",
     "text": [
      "Client: I've got a simple component:\n",
      "RESULT: ConcreteComponent"
     ]
    }
   ],
   "source": [
    "def client_code(component: Component) -> None:\n",
    "    print(f\"RESULT: {component.operation()}\", end=\"\")\n",
    "\n",
    "\n",
    "simple = ConcreteComponent()\n",
    "print(\"Client: I've got a simple component:\")\n",
    "client_code(simple)"
   ]
  },
  {
   "cell_type": "code",
   "execution_count": 20,
   "metadata": {},
   "outputs": [
    {
     "name": "stdout",
     "output_type": "stream",
     "text": [
      "Client: Now I've got a decorated component:\n",
      "RESULT: ConcreteDecoratorB(ConcreteDecoratorA(ConcreteComponent))"
     ]
    }
   ],
   "source": [
    "decorator1 = ConcreteDecoratorA(simple)\n",
    "decorator2 = ConcreteDecoratorB(decorator1)\n",
    "print(\"Client: Now I've got a decorated component:\")\n",
    "client_code(decorator2)"
   ]
  },
  {
   "cell_type": "markdown",
   "metadata": {},
   "source": [
    "## Decorator Pattern: python101.tistroy.com\n",
    "\n",
    "- [[디자인 패턴] 데코레이터 패턴 (Decorator Pattern) - python 예제 코드](https://python101.tistory.com/entry/%EB%94%94%EC%9E%90%EC%9D%B8-%ED%8C%A8%ED%84%B4-%EB%8D%B0%EC%BD%94%EB%A0%88%EC%9D%B4%ED%84%B0-%ED%8C%A8%ED%84%B4-Decorator-Pattern-python-%EC%98%88%EC%A0%9C-%EC%BD%94%EB%93%9C)"
   ]
  },
  {
   "cell_type": "code",
   "execution_count": 35,
   "metadata": {},
   "outputs": [],
   "source": [
    "import time\n",
    "\n",
    "def time_it(func):\n",
    "    def wrapper(*args, **kwargs):\n",
    "        start = time.time()\n",
    "        result = func(*args, **kwargs)\n",
    "        end = time.time()\n",
    "        print(f\">> Elapsed time: {end - start:.4f} sec\")\n",
    "        return result\n",
    "\n",
    "    return wrapper\n",
    "\n",
    "\n",
    "@time_it\n",
    "def my_function(n):\n",
    "    return sum(range(n))"
   ]
  },
  {
   "cell_type": "code",
   "execution_count": 36,
   "metadata": {},
   "outputs": [
    {
     "name": "stdout",
     "output_type": "stream",
     "text": [
      ">> Elapsed time: 0.0115 sec\n",
      "499999500000\n"
     ]
    }
   ],
   "source": [
    "result = my_function(1000000)\n",
    "print(result)"
   ]
  },
  {
   "cell_type": "code",
   "execution_count": null,
   "metadata": {},
   "outputs": [],
   "source": []
  }
 ],
 "metadata": {
  "kernelspec": {
   "display_name": "base",
   "language": "python",
   "name": "python3"
  },
  "language_info": {
   "codemirror_mode": {
    "name": "ipython",
    "version": 3
   },
   "file_extension": ".py",
   "mimetype": "text/x-python",
   "name": "python",
   "nbconvert_exporter": "python",
   "pygments_lexer": "ipython3",
   "version": "3.12.7"
  }
 },
 "nbformat": 4,
 "nbformat_minor": 2
}
