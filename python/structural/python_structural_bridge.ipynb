{
 "cells": [
  {
   "cell_type": "markdown",
   "metadata": {},
   "source": [
    "## Bridge Pattern: NoCodeProgram\n",
    "\n",
    "- https://github.com/NoCodeProgram/DesignPatterns/blob/main/Structural/bridgeP.ipynb"
   ]
  },
  {
   "cell_type": "code",
   "execution_count": 13,
   "metadata": {},
   "outputs": [],
   "source": [
    "# Implementor Interface\n",
    "class Animal:\n",
    "    def speak(self):\n",
    "        pass\n",
    "\n",
    "\n",
    "class Cat(Animal):\n",
    "    def speak(self):\n",
    "        print('a cat ',end='')\n",
    "\n",
    "\n",
    "class Dog(Animal):\n",
    "    def speak(self):\n",
    "        print('a dog ',end='')"
   ]
  },
  {
   "cell_type": "code",
   "execution_count": 14,
   "metadata": {},
   "outputs": [],
   "source": [
    "# Abstraction Class\n",
    "class Vehicle:\n",
    "    def __init__(self, animal: Animal):\n",
    "        self.animal = animal    # aggregation\n",
    "\n",
    "    def start(self):\n",
    "        pass\n",
    "\n",
    "\n",
    "class Car(Vehicle):\n",
    "    def start(self):\n",
    "        self.animal.speak()\n",
    "        print('drives a car')\n",
    "\n",
    "\n",
    "class Boat(Vehicle):\n",
    "    def start(self):\n",
    "        self.animal.speak()\n",
    "        print('sails a boat')\n",
    "\n",
    "\n",
    "class Airplane(Vehicle):\n",
    "    def start(self):\n",
    "        self.animal.speak()\n",
    "        print('flies a plane')"
   ]
  },
  {
   "cell_type": "code",
   "execution_count": 15,
   "metadata": {},
   "outputs": [
    {
     "name": "stdout",
     "output_type": "stream",
     "text": [
      "a cat sails a boat\n"
     ]
    }
   ],
   "source": [
    "cat = Cat()\n",
    "boat = Boat(cat)\n",
    "boat.start()"
   ]
  },
  {
   "cell_type": "code",
   "execution_count": 16,
   "metadata": {},
   "outputs": [
    {
     "name": "stdout",
     "output_type": "stream",
     "text": [
      "a dog drives a car\n"
     ]
    }
   ],
   "source": [
    "dog = Dog()\n",
    "car = Car(dog)\n",
    "car.start()"
   ]
  },
  {
   "cell_type": "code",
   "execution_count": 17,
   "metadata": {},
   "outputs": [],
   "source": [
    "# Implementor Interface\n",
    "class Power:\n",
    "    def power_up(self):\n",
    "        pass\n",
    "\n",
    "    def power_down(self):\n",
    "        pass\n",
    "\n",
    "\n",
    "class Engine(Power):\n",
    "    def power_up(self):\n",
    "        print('engine power up')\n",
    "\n",
    "    def power_down(self):\n",
    "        print('engine power down')\n",
    "\n",
    "\n",
    "class Motor(Power):\n",
    "    def power_up(self):\n",
    "        print('motor power up')\n",
    "\n",
    "    def power_down(self):\n",
    "        print('motor power down')"
   ]
  },
  {
   "cell_type": "code",
   "execution_count": 18,
   "metadata": {},
   "outputs": [],
   "source": [
    "# Abstaction Car\n",
    "class Car:\n",
    "    def __init__(self, power: Power):\n",
    "        self.power = power  # aggregation\n",
    "\n",
    "    def drive(self):\n",
    "        self.power.power_up()\n",
    "\n",
    "    def stop(self):\n",
    "        self.power.power_down()\n",
    "\n",
    "\n",
    "class Sedan(Car):\n",
    "    def sedan_only_function(self):\n",
    "        print('sedan only function')"
   ]
  },
  {
   "cell_type": "code",
   "execution_count": 19,
   "metadata": {},
   "outputs": [
    {
     "name": "stdout",
     "output_type": "stream",
     "text": [
      "motor power up\n",
      "motor power down\n",
      "sedan only function\n"
     ]
    }
   ],
   "source": [
    "sedan = Sedan(Motor())\n",
    "sedan.drive()\n",
    "sedan.stop()\n",
    "sedan.sedan_only_function()"
   ]
  },
  {
   "cell_type": "markdown",
   "metadata": {},
   "source": [
    "## Bridge Pattern: Refactoring Guru\n",
    "\n",
    "- https://refactoring.guru/ko/design-patterns/bridge\n",
    "- https://refactoring.guru/ko/design-patterns/bridge/python/example"
   ]
  },
  {
   "cell_type": "code",
   "execution_count": 20,
   "metadata": {},
   "outputs": [],
   "source": [
    "from __future__ import annotations\n",
    "from abc import ABC, abstractmethod"
   ]
  },
  {
   "cell_type": "code",
   "execution_count": 21,
   "metadata": {},
   "outputs": [],
   "source": [
    "# Implementor Interface\n",
    "class Implementation(ABC):\n",
    "    @abstractmethod\n",
    "    def operation_implementation(self) -> str:\n",
    "        pass\n",
    "\n",
    "\n",
    "class ConcreteImplementationA(Implementation):\n",
    "    def operation_implementation(self) -> str:\n",
    "        return \"ConcreteImplementationA: Here's the result on the platform A.\"\n",
    "\n",
    "\n",
    "class ConcreteImplementationB(Implementation):\n",
    "    def operation_implementation(self) -> str:\n",
    "        return \"ConcreteImplementationB: Here's the result on the platform B.\"\n",
    "\n",
    "\n",
    "# Abstraction Class\n",
    "class Abstraction:\n",
    "    def __init__(self, implementation: Implementation) -> None:\n",
    "        self.implementation = implementation\n",
    "\n",
    "    def operation(self) -> str:\n",
    "        return (f\"Abstraction: Base operation with:\\n\"\n",
    "                f\"{self.implementation.operation_implementation()}\")\n",
    "\n",
    "\n",
    "class ExtendedAbstraction(Abstraction):\n",
    "    def operation(self) -> str:\n",
    "        return (f\"ExtendedAbstraction: Extended operation with:\\n\"\n",
    "                f\"{self.implementation.operation_implementation()}\")"
   ]
  },
  {
   "cell_type": "code",
   "execution_count": 22,
   "metadata": {},
   "outputs": [
    {
     "name": "stdout",
     "output_type": "stream",
     "text": [
      "Abstraction: Base operation with:\n",
      "ConcreteImplementationA: Here's the result on the platform A."
     ]
    }
   ],
   "source": [
    "def client_code(abstraction: Abstraction) -> None:\n",
    "    print(abstraction.operation(), end=\"\")\n",
    "\n",
    "implementation = ConcreteImplementationA()\n",
    "abstraction = Abstraction(implementation)\n",
    "client_code(abstraction)"
   ]
  },
  {
   "cell_type": "code",
   "execution_count": 23,
   "metadata": {},
   "outputs": [
    {
     "name": "stdout",
     "output_type": "stream",
     "text": [
      "ExtendedAbstraction: Extended operation with:\n",
      "ConcreteImplementationB: Here's the result on the platform B."
     ]
    }
   ],
   "source": [
    "implementation = ConcreteImplementationB()\n",
    "abstraction = ExtendedAbstraction(implementation)\n",
    "client_code(abstraction)"
   ]
  },
  {
   "cell_type": "markdown",
   "metadata": {},
   "source": [
    "## Bridge Pattern: python101.tistroy.com\n",
    "\n",
    "- [[디자인 패턴] 브릿지 패턴 (Bridge Pattern) - python 예제 코드](https://python101.tistory.com/entry/%EB%94%94%EC%9E%90%EC%9D%B8-%ED%8C%A8%ED%84%B4-%EB%B8%8C%EB%A6%BF%EC%A7%80-%ED%8C%A8%ED%84%B4-Bridge-Pattern-python-%EC%98%88%EC%A0%9C-%EC%BD%94%EB%93%9C)"
   ]
  },
  {
   "cell_type": "code",
   "execution_count": 28,
   "metadata": {},
   "outputs": [],
   "source": [
    "from abc import ABC, abstractmethod\n",
    "\n",
    "\n",
    "# 추상화 계층\n",
    "class Shape(ABC):\n",
    "    def __init__(self, color: Color):\n",
    "        self._color = color\n",
    "\n",
    "    @abstractmethod\n",
    "    def draw(self):\n",
    "        pass\n",
    "\n",
    "\n",
    "class Circle(Shape):\n",
    "    def draw(self):\n",
    "        return f\"Drawing a Circle with {str(self._color)} color\"\n",
    "\n",
    "\n",
    "class Square(Shape):\n",
    "    def draw(self):\n",
    "        return f\"Drawing a Square with {str(self._color)} color\"\n",
    "\n",
    "\n",
    "# 구현 계층\n",
    "class Color:\n",
    "    def __init__(self, color):\n",
    "        self._color = color\n",
    "\n",
    "    def __str__(self):\n",
    "        return self._color\n",
    "\n",
    "\n",
    "class RedColor(Color):\n",
    "    def __init__(self):\n",
    "        super().__init__(\"Red\")\n",
    "\n",
    "\n",
    "class BlueColor(Color):\n",
    "    def __init__(self):\n",
    "        super().__init__(\"Blue\")"
   ]
  },
  {
   "cell_type": "code",
   "execution_count": 29,
   "metadata": {},
   "outputs": [
    {
     "name": "stdout",
     "output_type": "stream",
     "text": [
      "Drawing a Circle with Red color\n"
     ]
    }
   ],
   "source": [
    "circle_red = Circle(RedColor())\n",
    "print(circle_red.draw())"
   ]
  },
  {
   "cell_type": "code",
   "execution_count": 30,
   "metadata": {},
   "outputs": [
    {
     "name": "stdout",
     "output_type": "stream",
     "text": [
      "Drawing a Square with Blue color\n"
     ]
    }
   ],
   "source": [
    "square_blue = Square(BlueColor())\n",
    "print(square_blue.draw())"
   ]
  }
 ],
 "metadata": {
  "kernelspec": {
   "display_name": "base",
   "language": "python",
   "name": "python3"
  },
  "language_info": {
   "codemirror_mode": {
    "name": "ipython",
    "version": 3
   },
   "file_extension": ".py",
   "mimetype": "text/x-python",
   "name": "python",
   "nbconvert_exporter": "python",
   "pygments_lexer": "ipython3",
   "version": "3.12.7"
  }
 },
 "nbformat": 4,
 "nbformat_minor": 2
}
