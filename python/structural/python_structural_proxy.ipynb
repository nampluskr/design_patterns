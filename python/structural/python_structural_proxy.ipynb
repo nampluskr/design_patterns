{
 "cells": [
  {
   "cell_type": "markdown",
   "metadata": {},
   "source": [
    "## Proxy Pattern: NoCodeProgram\n",
    "\n",
    "- https://github.com/NoCodeProgram/DesignPatterns/blob/main/Structural/proxyP.ipynb"
   ]
  },
  {
   "cell_type": "code",
   "execution_count": 1,
   "metadata": {},
   "outputs": [
    {
     "name": "stdout",
     "output_type": "stream",
     "text": [
      "meow\n"
     ]
    }
   ],
   "source": [
    "class Cat:\n",
    "    def speak(self):\n",
    "        print(\"meow\")\n",
    "\n",
    "\n",
    "kitty = Cat()\n",
    "kitty.speak()"
   ]
  },
  {
   "cell_type": "code",
   "execution_count": 3,
   "metadata": {},
   "outputs": [
    {
     "name": "stdout",
     "output_type": "stream",
     "text": [
      "before speak\n",
      "meow\n",
      "after speak\n"
     ]
    }
   ],
   "source": [
    "class CatProxy:\n",
    "    def __init__(self, cat: Cat):\n",
    "        self.cat = cat\n",
    "\n",
    "    def speak(self):\n",
    "        print(\"before speak\")   # validity checks,lazy init, more\n",
    "        self.cat.speak()\n",
    "        print(\"after speak\")    # loggings\n",
    "\n",
    "\n",
    "kitty_proxy = CatProxy(kitty)\n",
    "kitty_proxy.speak()"
   ]
  },
  {
   "cell_type": "code",
   "execution_count": 4,
   "metadata": {},
   "outputs": [
    {
     "name": "stdout",
     "output_type": "stream",
     "text": [
      "before speak\n",
      "meow\n",
      "after speak\n"
     ]
    }
   ],
   "source": [
    "# Animal Interface\n",
    "class Animal:\n",
    "    def speak(self):  \n",
    "        pass\n",
    "\n",
    "\n",
    "class Cat(Animal):\n",
    "    def speak(self):\n",
    "        print(\"meow\")\n",
    "\n",
    "\n",
    "class CatProxy(Animal):\n",
    "    def __init__(self, cat: Cat):\n",
    "        self.cat = cat\n",
    "\n",
    "    def speak(self):\n",
    "        print(\"before speak\")\n",
    "        self.cat.speak()\n",
    "        print(\"after speak\")\n",
    "\n",
    "def do_speak(animal: Animal):\n",
    "    animal.speak()\n",
    "\n",
    "\n",
    "kitty = Cat()\n",
    "kitty_proxy = CatProxy(kitty)\n",
    "do_speak(kitty_proxy)"
   ]
  },
  {
   "cell_type": "markdown",
   "metadata": {},
   "source": [
    "## Proxy Pattern: Refactoring Guru\n",
    "\n",
    "- https://refactoring.guru/ko/design-patterns/proxy\n",
    "- https://refactoring.guru/ko/design-patterns/proxy/python/example"
   ]
  },
  {
   "cell_type": "code",
   "execution_count": 5,
   "metadata": {},
   "outputs": [],
   "source": [
    "from abc import ABC, abstractmethod"
   ]
  },
  {
   "cell_type": "code",
   "execution_count": 6,
   "metadata": {},
   "outputs": [],
   "source": [
    "## Subject Interface\n",
    "class Subject(ABC):\n",
    "    @abstractmethod\n",
    "    def request(self) -> None:\n",
    "        pass\n",
    "\n",
    "\n",
    "class RealSubject(Subject):\n",
    "    def request(self) -> None:\n",
    "        print(\"RealSubject: Handling request.\")\n",
    "\n",
    "\n",
    "class Proxy(Subject):\n",
    "    def __init__(self, real_subject: RealSubject) -> None:\n",
    "        self._real_subject = real_subject\n",
    "\n",
    "    def request(self) -> None:\n",
    "        if self.check_access():\n",
    "            self._real_subject.request()\n",
    "            self.log_access()\n",
    "\n",
    "    def check_access(self) -> bool:\n",
    "        print(\"Proxy: Checking access prior to firing a real request.\")\n",
    "        return True\n",
    "\n",
    "    def log_access(self) -> None:\n",
    "        print(\"Proxy: Logging the time of request.\", end=\"\")"
   ]
  },
  {
   "cell_type": "code",
   "execution_count": 7,
   "metadata": {},
   "outputs": [
    {
     "name": "stdout",
     "output_type": "stream",
     "text": [
      "Client: Executing the client code with a real subject:\n",
      "RealSubject: Handling request.\n"
     ]
    }
   ],
   "source": [
    "def client_code(subject: Subject) -> None:\n",
    "    subject.request()\n",
    "    \n",
    "print(\"Client: Executing the client code with a real subject:\")\n",
    "real_subject = RealSubject()\n",
    "client_code(real_subject)"
   ]
  },
  {
   "cell_type": "code",
   "execution_count": 8,
   "metadata": {},
   "outputs": [
    {
     "name": "stdout",
     "output_type": "stream",
     "text": [
      "Client: Executing the same client code with a proxy:\n",
      "Proxy: Checking access prior to firing a real request.\n",
      "RealSubject: Handling request.\n",
      "Proxy: Logging the time of request."
     ]
    }
   ],
   "source": [
    "print(\"Client: Executing the same client code with a proxy:\")\n",
    "proxy = Proxy(real_subject)\n",
    "client_code(proxy)"
   ]
  },
  {
   "cell_type": "markdown",
   "metadata": {},
   "source": [
    "## Proxy Pattern: python101.tistroy.com\n",
    "\n",
    "- [[디자인 패턴] 프록시 패턴 (Proxy Pattern) - python 예제 코드](https://python101.tistory.com/entry/%EB%94%94%EC%9E%90%EC%9D%B8-%ED%8C%A8%ED%84%B4-%ED%94%84%EB%A1%9D%EC%8B%9C-%ED%8C%A8%ED%84%B4-Proxy-Pattern-python-%EC%98%88%EC%A0%9C-%EC%BD%94%EB%93%9C)"
   ]
  },
  {
   "cell_type": "code",
   "execution_count": 9,
   "metadata": {},
   "outputs": [],
   "source": [
    "# 프록시 인터페이스\n",
    "class Subject:\n",
    "    def request(self):\n",
    "        pass\n",
    "\n",
    "\n",
    "# 실제 객체\n",
    "class RealSubject(Subject):\n",
    "    def request(self):\n",
    "        print(\"RealSubject의 request() 메서드 호출\")\n",
    "\n",
    "\n",
    "# 프록시 객체\n",
    "class Proxy(Subject):\n",
    "    def __init__(self):\n",
    "        self.real_subject = RealSubject()\n",
    "\n",
    "    def request(self):\n",
    "        self.pre_request()\n",
    "        self.real_subject.request()\n",
    "        self.post_request()\n",
    "\n",
    "    def pre_request(self):\n",
    "        print(\"Proxy의 pre_request() 메서드 호출\")\n",
    "\n",
    "    def post_request(self):\n",
    "        print(\"Proxy의 post_request() 메서드 호출\")"
   ]
  },
  {
   "cell_type": "code",
   "execution_count": 10,
   "metadata": {},
   "outputs": [
    {
     "name": "stdout",
     "output_type": "stream",
     "text": [
      "Proxy의 pre_request() 메서드 호출\n",
      "RealSubject의 request() 메서드 호출\n",
      "Proxy의 post_request() 메서드 호출\n"
     ]
    }
   ],
   "source": [
    "proxy = Proxy()\n",
    "proxy.request()"
   ]
  }
 ],
 "metadata": {
  "kernelspec": {
   "display_name": "base",
   "language": "python",
   "name": "python3"
  },
  "language_info": {
   "codemirror_mode": {
    "name": "ipython",
    "version": 3
   },
   "file_extension": ".py",
   "mimetype": "text/x-python",
   "name": "python",
   "nbconvert_exporter": "python",
   "pygments_lexer": "ipython3",
   "version": "3.12.7"
  }
 },
 "nbformat": 4,
 "nbformat_minor": 2
}
