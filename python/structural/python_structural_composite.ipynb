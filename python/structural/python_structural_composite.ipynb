{
 "cells": [
  {
   "cell_type": "markdown",
   "metadata": {},
   "source": [
    "## Composite Pattern: NoCodeProgram\n",
    "\n",
    "- https://github.com/NoCodeProgram/DesignPatterns/blob/main/Structural/compositeP.ipynb"
   ]
  },
  {
   "cell_type": "code",
   "execution_count": 1,
   "metadata": {},
   "outputs": [],
   "source": [
    "class Component:\n",
    "    def function(self):\n",
    "        pass\n",
    "\n",
    "\n",
    "class Leaf(Component):\n",
    "    def function(self):\n",
    "        print('leaf')\n",
    "\n",
    "\n",
    "class Composite(Component):\n",
    "    def __init__(self):\n",
    "        self.components = []\n",
    "  \n",
    "    def add(self, component: Component):\n",
    "        self.components.append(component)\n",
    "\n",
    "    def function(self):\n",
    "        print('composite')\n",
    "        for component in self.components:\n",
    "            component.function()"
   ]
  },
  {
   "cell_type": "code",
   "execution_count": 3,
   "metadata": {},
   "outputs": [
    {
     "name": "stdout",
     "output_type": "stream",
     "text": [
      "composite\n",
      "leaf\n",
      "composite\n",
      "leaf\n",
      "leaf\n"
     ]
    }
   ],
   "source": [
    "composite0 = Composite()\n",
    "composite0.add(Leaf())\n",
    "composite0.add(Leaf())\n",
    "\n",
    "composite1 = Composite()\n",
    "composite1.add(Leaf())\n",
    "composite1.add(composite0)\n",
    "\n",
    "composite1.function()"
   ]
  },
  {
   "cell_type": "code",
   "execution_count": 4,
   "metadata": {},
   "outputs": [],
   "source": [
    "class Animal:\n",
    "    def speak(self):\n",
    "        pass\n",
    "\n",
    "\n",
    "class Cat(Animal):\n",
    "    def speak(self):\n",
    "        print(\"meow\")\n",
    "\n",
    "\n",
    "class Dog(Animal):\n",
    "    def speak(self):\n",
    "        print(\"bark\")\n",
    "\n",
    "\n",
    "# Composite\n",
    "class AnimalGroup(Animal):\n",
    "    def __init__(self):\n",
    "        self.animals = []\n",
    "\n",
    "    def add(self, animal: Animal):\n",
    "        self.animals.append(animal)\n",
    "\n",
    "    def speak(self):\n",
    "        print(\"group speaking..\")\n",
    "        for animal in self.animals:\n",
    "            animal.speak()"
   ]
  },
  {
   "cell_type": "code",
   "execution_count": 5,
   "metadata": {},
   "outputs": [
    {
     "name": "stdout",
     "output_type": "stream",
     "text": [
      "group speaking..\n",
      "group speaking..\n",
      "meow\n",
      "meow\n",
      "meow\n",
      "group speaking..\n",
      "bark\n",
      "bark\n"
     ]
    }
   ],
   "source": [
    "cat_group = AnimalGroup()\n",
    "cat_group.add(Cat())\n",
    "cat_group.add(Cat())\n",
    "cat_group.add(Cat())\n",
    "\n",
    "dog_group = AnimalGroup()\n",
    "dog_group.add(Dog())\n",
    "dog_group.add(Dog())\n",
    "\n",
    "zoo = AnimalGroup()\n",
    "zoo.add(cat_group)\n",
    "zoo.add(dog_group)\n",
    "\n",
    "zoo.speak()"
   ]
  },
  {
   "cell_type": "markdown",
   "metadata": {},
   "source": [
    "## Composite Pattern: Refactoring Guru\n",
    "\n",
    "- https://refactoring.guru/ko/design-patterns/composite\n",
    "- https://refactoring.guru/ko/design-patterns/composite/python/example"
   ]
  },
  {
   "cell_type": "code",
   "execution_count": 7,
   "metadata": {},
   "outputs": [],
   "source": [
    "from __future__ import annotations\n",
    "from abc import ABC, abstractmethod\n",
    "from typing import List"
   ]
  },
  {
   "cell_type": "code",
   "execution_count": 8,
   "metadata": {},
   "outputs": [],
   "source": [
    "class Component(ABC):\n",
    "    @property\n",
    "    def parent(self) -> Component:\n",
    "        return self._parent\n",
    "\n",
    "    @parent.setter\n",
    "    def parent(self, parent: Component):\n",
    "        self._parent = parent\n",
    "\n",
    "    def add(self, component: Component) -> None:\n",
    "        pass\n",
    "\n",
    "    def remove(self, component: Component) -> None:\n",
    "        pass\n",
    "\n",
    "    def is_composite(self) -> bool:\n",
    "        return False\n",
    "\n",
    "    @abstractmethod\n",
    "    def operation(self) -> str:\n",
    "        pass\n",
    "\n",
    "\n",
    "class Leaf(Component):\n",
    "    def operation(self) -> str:\n",
    "        return \"Leaf\"\n",
    "\n",
    "\n",
    "class Composite(Component):\n",
    "    def __init__(self) -> None:\n",
    "        self._children: List[Component] = []\n",
    "\n",
    "    def add(self, component: Component) -> None:\n",
    "        self._children.append(component)\n",
    "        component.parent = self\n",
    "\n",
    "    def remove(self, component: Component) -> None:\n",
    "        self._children.remove(component)\n",
    "        component.parent = None\n",
    "\n",
    "    def is_composite(self) -> bool:\n",
    "        return True\n",
    "\n",
    "    def operation(self) -> str:\n",
    "        results = []\n",
    "        for child in self._children:\n",
    "            results.append(child.operation())\n",
    "        return f\"Branch({'+'.join(results)})\""
   ]
  },
  {
   "cell_type": "code",
   "execution_count": 9,
   "metadata": {},
   "outputs": [],
   "source": [
    "def client_code(component: Component) -> None:\n",
    "    print(f\"RESULT: {component.operation()}\", end=\"\")\n",
    "\n",
    "\n",
    "def client_code2(component1: Component, component2: Component) -> None:\n",
    "    if component1.is_composite():\n",
    "        component1.add(component2)\n",
    "    print(f\"RESULT: {component1.operation()}\", end=\"\")"
   ]
  },
  {
   "cell_type": "code",
   "execution_count": 11,
   "metadata": {},
   "outputs": [
    {
     "name": "stdout",
     "output_type": "stream",
     "text": [
      "Client: I've got a simple component:\n",
      "RESULT: Leaf"
     ]
    }
   ],
   "source": [
    "simple = Leaf()\n",
    "print(\"Client: I've got a simple component:\")\n",
    "client_code(simple)"
   ]
  },
  {
   "cell_type": "code",
   "execution_count": 12,
   "metadata": {},
   "outputs": [
    {
     "name": "stdout",
     "output_type": "stream",
     "text": [
      "Client: Now I've got a composite tree:\n",
      "RESULT: Branch(Branch(Leaf+Leaf)+Branch(Leaf))"
     ]
    }
   ],
   "source": [
    "tree = Composite()\n",
    "\n",
    "branch1 = Composite()\n",
    "branch1.add(Leaf())\n",
    "branch1.add(Leaf())\n",
    "\n",
    "branch2 = Composite()\n",
    "branch2.add(Leaf())\n",
    "\n",
    "tree.add(branch1)\n",
    "tree.add(branch2)\n",
    "\n",
    "print(\"Client: Now I've got a composite tree:\")\n",
    "client_code(tree)"
   ]
  },
  {
   "cell_type": "code",
   "execution_count": 13,
   "metadata": {},
   "outputs": [
    {
     "name": "stdout",
     "output_type": "stream",
     "text": [
      "Client: I don't need to check the components classes even when managing the tree:\n",
      "RESULT: Branch(Branch(Leaf+Leaf)+Branch(Leaf)+Leaf)"
     ]
    }
   ],
   "source": [
    "print(\"Client: I don't need to check the components classes even when managing the tree:\")\n",
    "client_code2(tree, simple)"
   ]
  },
  {
   "cell_type": "markdown",
   "metadata": {},
   "source": [
    "## Composite Pattern: python101.tistroy.com\n",
    "\n",
    "- [[디자인 패턴] 컴포지트 패턴 (Composite Pattern) - python 예제 코드](https://python101.tistory.com/entry/%EB%94%94%EC%9E%90%EC%9D%B8-%ED%8C%A8%ED%84%B4-%EC%BB%B4%ED%8F%AC%EC%A7%80%ED%8A%B8-%ED%8C%A8%ED%84%B4-Composite-Pattern-python-%EC%98%88%EC%A0%9C-%EC%BD%94%EB%93%9C)"
   ]
  },
  {
   "cell_type": "code",
   "execution_count": 14,
   "metadata": {},
   "outputs": [],
   "source": [
    "from abc import ABC, abstractmethod\n",
    "\n",
    "\n",
    "class Component(ABC):\n",
    "    @abstractmethod\n",
    "    def operation(self) -> None:\n",
    "        pass\n",
    "\n",
    "\n",
    "class Leaf(Component):\n",
    "    def operation(self) -> None:\n",
    "        print(\"Leaf operation\")\n",
    "\n",
    "\n",
    "class Composite(Component):\n",
    "    def __init__(self) -> None:\n",
    "        self._children = []\n",
    "\n",
    "    def add(self, component: Component) -> None:\n",
    "        self._children.append(component)\n",
    "\n",
    "    def remove(self, component: Component) -> None:\n",
    "        self._children.remove(component)\n",
    "\n",
    "    def operation(self) -> None:\n",
    "        print(\"Composite operation\")\n",
    "        for child in self._children:\n",
    "            child.operation()"
   ]
  },
  {
   "cell_type": "code",
   "execution_count": 15,
   "metadata": {},
   "outputs": [
    {
     "name": "stdout",
     "output_type": "stream",
     "text": [
      "Leaf operation\n"
     ]
    }
   ],
   "source": [
    "def client_code(component: Component) -> None:\n",
    "    component.operation()\n",
    "    \n",
    "leaf = Leaf()\n",
    "client_code(leaf)"
   ]
  },
  {
   "cell_type": "code",
   "execution_count": 16,
   "metadata": {},
   "outputs": [
    {
     "name": "stdout",
     "output_type": "stream",
     "text": [
      "Composite operation\n",
      "Leaf operation\n",
      "Leaf operation\n"
     ]
    }
   ],
   "source": [
    "composite = Composite()\n",
    "composite.add(Leaf())\n",
    "composite.add(Leaf())\n",
    "\n",
    "client_code(composite)"
   ]
  }
 ],
 "metadata": {
  "kernelspec": {
   "display_name": "base",
   "language": "python",
   "name": "python3"
  },
  "language_info": {
   "codemirror_mode": {
    "name": "ipython",
    "version": 3
   },
   "file_extension": ".py",
   "mimetype": "text/x-python",
   "name": "python",
   "nbconvert_exporter": "python",
   "pygments_lexer": "ipython3",
   "version": "3.12.7"
  }
 },
 "nbformat": 4,
 "nbformat_minor": 2
}
