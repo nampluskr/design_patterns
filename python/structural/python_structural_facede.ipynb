{
 "cells": [
  {
   "cell_type": "markdown",
   "metadata": {},
   "source": [
    "## Facade Pattern: NoCodeProgram\n",
    "\n",
    "- https://github.com/NoCodeProgram/DesignPatterns/blob/main/Structural/facadeP.ipynb"
   ]
  },
  {
   "cell_type": "code",
   "execution_count": 3,
   "metadata": {},
   "outputs": [],
   "source": [
    "class Stage1:\n",
    "    def ignite(self):\n",
    "        print('1st stage ignition')\n",
    "\n",
    "    def liftOff(self):\n",
    "        print('1st stage liftOff')\n",
    "\n",
    "    def eject(self):\n",
    "        print('1st stage ejection')\n",
    "\n",
    "    def comeBack(self):\n",
    "        print('1st stage return')\n",
    "\n",
    "\n",
    "class Stage2:\n",
    "    def ignite(self):\n",
    "        print('2nd stage ignition')\n",
    "\n",
    "    def eject(self):\n",
    "        print('2nd stage ignition')\n",
    "\n",
    "\n",
    "class Capsule:\n",
    "    def ignite(self):\n",
    "        print('capsule ignition')\n",
    "\n",
    "    def landing(self):\n",
    "        print('capsule landing/deploy')\n",
    "\n",
    "\n",
    "## Facade\n",
    "class Rocket:\n",
    "    def __init__(self):\n",
    "        self.stage1 = Stage1()\n",
    "        self.stage2 = Stage2()\n",
    "        self.capsule = Capsule()\n",
    "\n",
    "    def launch(self):\n",
    "        self.stage1.ignite()\n",
    "        self.stage1.liftOff()\n",
    "        self.stage1.eject()\n",
    "        self.stage2.ignite()\n",
    "        self.stage1.comeBack()\n",
    "        self.stage2.eject()\n",
    "        self.capsule.ignite()\n",
    "        self.capsule.landing()"
   ]
  },
  {
   "cell_type": "code",
   "execution_count": 4,
   "metadata": {},
   "outputs": [
    {
     "name": "stdout",
     "output_type": "stream",
     "text": [
      "1st stage ignition\n",
      "1st stage liftOff\n",
      "1st stage ejection\n",
      "2nd stage ignition\n",
      "1st stage return\n",
      "2nd stage ignition\n",
      "capsule ignition\n",
      "capsule landing/deploy\n"
     ]
    }
   ],
   "source": [
    "rocket = Rocket()\n",
    "rocket.launch()"
   ]
  },
  {
   "cell_type": "markdown",
   "metadata": {},
   "source": [
    "## Facade Pattern: Refactoring Guru\n",
    "\n",
    "- https://refactoring.guru/ko/design-patterns/facade\n",
    "- https://refactoring.guru/ko/design-patterns/facade/python/example"
   ]
  },
  {
   "cell_type": "code",
   "execution_count": 5,
   "metadata": {},
   "outputs": [],
   "source": [
    "from abc import ABC, abstractmethod"
   ]
  },
  {
   "cell_type": "code",
   "execution_count": 6,
   "metadata": {},
   "outputs": [],
   "source": [
    "class Subsystem1:\n",
    "    def operation1(self) -> str:\n",
    "        return \"Subsystem1: Ready!\"\n",
    "\n",
    "    def operation_n(self) -> str:\n",
    "        return \"Subsystem1: Go!\"\n",
    "\n",
    "\n",
    "class Subsystem2:\n",
    "    def operation1(self) -> str:\n",
    "        return \"Subsystem2: Get ready!\"\n",
    "\n",
    "    def operation_z(self) -> str:\n",
    "        return \"Subsystem2: Fire!\"\n",
    "\n",
    "\n",
    "class Facade:\n",
    "    def __init__(self, subsystem1: Subsystem1, subsystem2: Subsystem2) -> None:\n",
    "        self._subsystem1 = subsystem1 or Subsystem1()\n",
    "        self._subsystem2 = subsystem2 or Subsystem2()\n",
    "\n",
    "    def operation(self) -> str:\n",
    "        results = []\n",
    "        results.append(\"Facade initializes subsystems:\")\n",
    "        results.append(self._subsystem1.operation1())\n",
    "        results.append(self._subsystem2.operation1())\n",
    "        results.append(\"Facade orders subsystems to perform the action:\")\n",
    "        results.append(self._subsystem1.operation_n())\n",
    "        results.append(self._subsystem2.operation_z())\n",
    "        return \"\\n\".join(results)"
   ]
  },
  {
   "cell_type": "code",
   "execution_count": 7,
   "metadata": {},
   "outputs": [
    {
     "name": "stdout",
     "output_type": "stream",
     "text": [
      "Facade initializes subsystems:\n",
      "Subsystem1: Ready!\n",
      "Subsystem2: Get ready!\n",
      "Facade orders subsystems to perform the action:\n",
      "Subsystem1: Go!\n",
      "Subsystem2: Fire!"
     ]
    }
   ],
   "source": [
    "def client_code(facade: Facade) -> None:\n",
    "    print(facade.operation(), end=\"\")\n",
    "\n",
    "\n",
    "subsystem1 = Subsystem1()\n",
    "subsystem2 = Subsystem2()\n",
    "facade = Facade(subsystem1, subsystem2)\n",
    "client_code(facade)"
   ]
  },
  {
   "cell_type": "markdown",
   "metadata": {},
   "source": [
    "## Facade Pattern: python101.tistroy.com\n",
    "\n",
    "- [[디자인 패턴] 퍼사드 패턴 (Facade Pattern) - python 예제 코드](https://python101.tistory.com/entry/%EB%94%94%EC%9E%90%EC%9D%B8-%ED%8C%A8%ED%84%B4-%ED%8D%BC%EC%82%AC%EB%93%9C-%ED%8C%A8%ED%84%B4-Facade-Pattern-python-%EC%98%88%EC%A0%9C-%EC%BD%94%EB%93%9C)"
   ]
  },
  {
   "cell_type": "code",
   "execution_count": 8,
   "metadata": {},
   "outputs": [],
   "source": [
    "# 서브시스템 클래스들\n",
    "class Light:\n",
    "    def turn_on(self):\n",
    "        print(\"전등을 켭니다.\")\n",
    "\n",
    "    def turn_off(self):\n",
    "        print(\"전등을 끕니다.\")\n",
    "\n",
    "\n",
    "class AirConditioner:\n",
    "    def turn_on(self):\n",
    "        print(\"에어컨을 켭니다.\")\n",
    "\n",
    "    def turn_off(self):\n",
    "        print(\"에어컨을 끕니다.\")\n",
    "\n",
    "\n",
    "class Television:\n",
    "    def turn_on(self):\n",
    "        print(\"TV를 켭니다.\")\n",
    "\n",
    "    def turn_off(self):\n",
    "        print(\"TV를 끕니다.\")\n",
    "\n",
    "\n",
    "# 퍼사드 클래스\n",
    "class HomeFacade:\n",
    "    def __init__(self):\n",
    "        self.light = Light()\n",
    "        self.air_conditioner = AirConditioner()\n",
    "        self.television = Television()\n",
    "\n",
    "    def go_to_sleep(self):\n",
    "        self.light.turn_off()\n",
    "        self.air_conditioner.turn_off()\n",
    "        self.television.turn_off()\n",
    "\n",
    "    def wake_up(self):\n",
    "        self.light.turn_on()\n",
    "        self.air_conditioner.turn_on()\n",
    "        self.television.turn_on()"
   ]
  },
  {
   "cell_type": "code",
   "execution_count": 10,
   "metadata": {},
   "outputs": [
    {
     "name": "stdout",
     "output_type": "stream",
     "text": [
      "전등을 켭니다.\n",
      "에어컨을 켭니다.\n",
      "TV를 켭니다.\n"
     ]
    }
   ],
   "source": [
    "facade = HomeFacade()\n",
    "facade.wake_up()"
   ]
  },
  {
   "cell_type": "code",
   "execution_count": 11,
   "metadata": {},
   "outputs": [
    {
     "name": "stdout",
     "output_type": "stream",
     "text": [
      "전등을 끕니다.\n",
      "에어컨을 끕니다.\n",
      "TV를 끕니다.\n"
     ]
    }
   ],
   "source": [
    "facade.go_to_sleep()"
   ]
  }
 ],
 "metadata": {
  "kernelspec": {
   "display_name": "base",
   "language": "python",
   "name": "python3"
  },
  "language_info": {
   "codemirror_mode": {
    "name": "ipython",
    "version": 3
   },
   "file_extension": ".py",
   "mimetype": "text/x-python",
   "name": "python",
   "nbconvert_exporter": "python",
   "pygments_lexer": "ipython3",
   "version": "3.12.7"
  }
 },
 "nbformat": 4,
 "nbformat_minor": 2
}
