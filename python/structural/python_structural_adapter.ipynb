{
 "cells": [
  {
   "cell_type": "markdown",
   "metadata": {},
   "source": [
    "## Adapter Pattern: NoCodeProgram\n",
    "\n",
    "- https://github.com/NoCodeProgram/DesignPatterns/blob/main/Structural/adapterP.ipynb"
   ]
  },
  {
   "cell_type": "code",
   "execution_count": 2,
   "metadata": {},
   "outputs": [
    {
     "name": "stdout",
     "output_type": "stream",
     "text": [
      "cat walking\n",
      "dog walking\n"
     ]
    }
   ],
   "source": [
    "#interface class\n",
    "class Animal:\n",
    "    def walk(self):\n",
    "        pass\n",
    "\n",
    "\n",
    "class Cat(Animal):\n",
    "    def walk(self):\n",
    "        print(\"cat walking\")\n",
    "\n",
    "\n",
    "class Dog(Animal):\n",
    "    def walk(self):\n",
    "        print(\"dog walking\")\n",
    "\n",
    "\n",
    "def make_walk(animal: Animal):\n",
    "    animal.walk()\n",
    "\n",
    "kitty = Cat()\n",
    "bingo = Dog()\n",
    "\n",
    "make_walk(kitty)\n",
    "make_walk(bingo)"
   ]
  },
  {
   "cell_type": "code",
   "execution_count": 3,
   "metadata": {},
   "outputs": [
    {
     "ename": "AttributeError",
     "evalue": "'Fish' object has no attribute 'walk'",
     "output_type": "error",
     "traceback": [
      "\u001b[0;31m---------------------------------------------------------------------------\u001b[0m",
      "\u001b[0;31mAttributeError\u001b[0m                            Traceback (most recent call last)",
      "Cell \u001b[0;32mIn[3], line 7\u001b[0m\n\u001b[1;32m      4\u001b[0m         \u001b[38;5;28mprint\u001b[39m(\u001b[38;5;124m\"\u001b[39m\u001b[38;5;124mfish swimming\u001b[39m\u001b[38;5;124m\"\u001b[39m)\n\u001b[1;32m      6\u001b[0m nemo \u001b[38;5;241m=\u001b[39m Fish()\n\u001b[0;32m----> 7\u001b[0m \u001b[43mmake_walk\u001b[49m\u001b[43m(\u001b[49m\u001b[43mnemo\u001b[49m\u001b[43m)\u001b[49m     \u001b[38;5;66;03m#nemo cannot walk\u001b[39;00m\n",
      "Cell \u001b[0;32mIn[2], line 18\u001b[0m, in \u001b[0;36mmake_walk\u001b[0;34m(animal)\u001b[0m\n\u001b[1;32m     17\u001b[0m \u001b[38;5;28;01mdef\u001b[39;00m \u001b[38;5;21mmake_walk\u001b[39m(animal: Animal):\n\u001b[0;32m---> 18\u001b[0m     \u001b[43manimal\u001b[49m\u001b[38;5;241;43m.\u001b[39;49m\u001b[43mwalk\u001b[49m()\n",
      "\u001b[0;31mAttributeError\u001b[0m: 'Fish' object has no attribute 'walk'"
     ]
    }
   ],
   "source": [
    "# Fish doesn't have a run method\n",
    "class Fish:    \n",
    "    def swim(self):\n",
    "        print(\"fish swimming\")\n",
    "\n",
    "nemo = Fish()\n",
    "make_walk(nemo)     #nemo cannot walk"
   ]
  },
  {
   "cell_type": "code",
   "execution_count": 5,
   "metadata": {},
   "outputs": [
    {
     "name": "stdout",
     "output_type": "stream",
     "text": [
      "fish swimming\n"
     ]
    }
   ],
   "source": [
    "class FishAdapter(Animal):\n",
    "    def __init__(self, fish: Fish):\n",
    "        self.fish = fish    # Adaptee\n",
    "  \n",
    "    def walk(self):\n",
    "        self.fish.swim()\n",
    "\n",
    "\n",
    "adapted_nemo = FishAdapter(nemo)\n",
    "make_walk(adapted_nemo)"
   ]
  },
  {
   "cell_type": "markdown",
   "metadata": {},
   "source": [
    "## Adapter Pattern: Refactoring Guru\n",
    "\n",
    "- https://refactoring.guru/ko/design-patterns/adapter\n",
    "- https://refactoring.guru/ko/design-patterns/adapter/python/example"
   ]
  },
  {
   "cell_type": "code",
   "execution_count": 15,
   "metadata": {},
   "outputs": [],
   "source": [
    "class Target:\n",
    "    def request(self) -> str:\n",
    "        return \"Target: The default target's behavior.\"\n",
    "\n",
    "\n",
    "class Adaptee:\n",
    "    def specific_request(self) -> str:\n",
    "        return \".eetpadA eht fo roivaheb laicepS\"\n",
    "\n",
    "\n",
    "## Class Adpater\n",
    "class Adapter(Target, Adaptee):\n",
    "    def request(self) -> str:\n",
    "        return f\"Adapter: (TRANSLATED) {self.specific_request()[::-1]}\""
   ]
  },
  {
   "cell_type": "code",
   "execution_count": 10,
   "metadata": {},
   "outputs": [
    {
     "name": "stdout",
     "output_type": "stream",
     "text": [
      "Client: I can work just fine with the Target objects:\n",
      "Target: The default target's behavior."
     ]
    }
   ],
   "source": [
    "def client_code(target: Target) -> None:\n",
    "    print(target.request(), end=\"\")\n",
    "    \n",
    "print(\"Client: I can work just fine with the Target objects:\")\n",
    "target = Target()\n",
    "client_code(target)"
   ]
  },
  {
   "cell_type": "code",
   "execution_count": 11,
   "metadata": {},
   "outputs": [
    {
     "name": "stdout",
     "output_type": "stream",
     "text": [
      "Client: The Adaptee class has a weird interface. See, I don't understand it:\n",
      "Adaptee: .eetpadA eht fo roivaheb laicepS\n",
      "\n",
      "Client: But I can work with it via the Adapter:\n",
      "Adapter: (TRANSLATED) Special behavior of the Adaptee."
     ]
    }
   ],
   "source": [
    "adaptee = Adaptee()\n",
    "print(\"Client: The Adaptee class has a weird interface. \"\n",
    "      \"See, I don't understand it:\")\n",
    "print(f\"Adaptee: {adaptee.specific_request()}\", end=\"\\n\\n\")\n",
    "\n",
    "print(\"Client: But I can work with it via the Adapter:\")\n",
    "adapter = Adapter()\n",
    "client_code(adapter)"
   ]
  },
  {
   "cell_type": "markdown",
   "metadata": {},
   "source": [
    "## Adapter Pattern: python101.tistroy.com\n",
    "\n",
    "- [[디자인 패턴] 어댑터 패턴 (Adapter Pattern) - python 예제 코드](https://python101.tistory.com/entry/%EB%94%94%EC%9E%90%EC%9D%B8-%ED%8C%A8%ED%84%B4-%EC%96%B4%EB%8C%91%ED%84%B0-%ED%8C%A8%ED%84%B4-Adapter-Pattern-python-%EC%98%88%EC%A0%9C-%EC%BD%94%EB%93%9C)"
   ]
  },
  {
   "cell_type": "code",
   "execution_count": 14,
   "metadata": {},
   "outputs": [],
   "source": [
    "class Target:\n",
    "    def request(self) -> str:\n",
    "        return \"Target: The default target's behavior.\"\n",
    "\n",
    "\n",
    "class Adaptee:\n",
    "    def specific_request(self) -> str:\n",
    "        return \".eetpadA eht fo roivaheb laicepS\"\n",
    "\n",
    "\n",
    "## Object Adapter\n",
    "class Adapter(Target):\n",
    "    def __init__(self, adaptee: Adaptee) -> None:\n",
    "        self.adaptee = adaptee\n",
    "\n",
    "    def request(self) -> str:\n",
    "        return f\"Adapter: (TRANSLATED) {self.adaptee.specific_request()[::-1]}\""
   ]
  },
  {
   "cell_type": "code",
   "execution_count": 13,
   "metadata": {},
   "outputs": [
    {
     "name": "stdout",
     "output_type": "stream",
     "text": [
      "Adaptee: .eetpadA eht fo roivaheb laicepS\n",
      "Adapter: Adapter: (TRANSLATED) Special behavior of the Adaptee.\n",
      "Adapter: (TRANSLATED) Special behavior of the Adaptee."
     ]
    }
   ],
   "source": [
    "adaptee = Adaptee()\n",
    "adapter = Adapter(adaptee)\n",
    "print(\"Adaptee: \" + adaptee.specific_request())\n",
    "print(\"Adapter: \" + adapter.request())\n",
    "\n",
    "client_code(target=adapter)"
   ]
  }
 ],
 "metadata": {
  "kernelspec": {
   "display_name": "base",
   "language": "python",
   "name": "python3"
  },
  "language_info": {
   "codemirror_mode": {
    "name": "ipython",
    "version": 3
   },
   "file_extension": ".py",
   "mimetype": "text/x-python",
   "name": "python",
   "nbconvert_exporter": "python",
   "pygments_lexer": "ipython3",
   "version": "3.12.7"
  }
 },
 "nbformat": 4,
 "nbformat_minor": 2
}
