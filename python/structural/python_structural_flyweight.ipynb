{
 "cells": [
  {
   "cell_type": "markdown",
   "metadata": {},
   "source": [
    "## Flyweight Pattern: NoCodeProgram\n",
    "\n",
    "- https://github.com/NoCodeProgram/DesignPatterns/blob/main/Structural/flyweightP.ipynb"
   ]
  },
  {
   "cell_type": "code",
   "execution_count": 1,
   "metadata": {},
   "outputs": [
    {
     "name": "stdout",
     "output_type": "stream",
     "text": [
      "choco, 2, ATAGGCTTACCGATGG...\n",
      "baduk, 3, ATAGGCTTACCGATGG...\n"
     ]
    }
   ],
   "source": [
    "class Dog:\n",
    "    def __init__(self,name,age,gender,breed,DNA):\n",
    "        self.name = name        # <20bytes upto 20 chars\n",
    "        self.age = age          # 8bytes, 64bit integer\n",
    "        self.gender = gender    # 1byte\n",
    "        self.breed = breed      # 2bytes upto 65k breeds\n",
    "        self.DNA = DNA          # MBytes\n",
    "\n",
    "    def __repr__(self):\n",
    "        return f'{self.name}, {self.age}, {self.DNA}'\n",
    "\n",
    "\n",
    "choco = Dog('choco', 2, 'male', 'shihTzu', 'ATAGGCTTACCGATGG...')\n",
    "baduk = Dog('baduk', 3, 'female', 'jinDo', 'ATAGGCTTACCGATGG...')\n",
    "\n",
    "print(choco)\n",
    "print(baduk)"
   ]
  },
  {
   "cell_type": "code",
   "execution_count": 2,
   "metadata": {},
   "outputs": [
    {
     "name": "stdout",
     "output_type": "stream",
     "text": [
      "choco, 2, ATAGGCTTACCGATGG....\n",
      "baduk, 3, ATAGGCTTACCGATGG....\n"
     ]
    }
   ],
   "source": [
    "class Dog:\n",
    "    DNAseq = \"ATAGGCTTACCGATGG....\"\n",
    "  \n",
    "    def __init__(self,name,age,gender,breed):\n",
    "        self.name = name        # <20bytes upto 20 chars\n",
    "        self.age = age          # 8bytes, 64bit integer\n",
    "        self.gender = gender    # 1byte\n",
    "        self.breed = breed      # 2bytes upto 65k breeds\n",
    "\n",
    "    def __repr__(self):\n",
    "        return f'{self.name}, {self.age}, {Dog.DNAseq}'\n",
    "\n",
    "\n",
    "choco = Dog('choco', 2, 'male', 'shihTzu')\n",
    "baduk = Dog('baduk', 3, 'female', 'jinDo')\n",
    "\n",
    "print(choco)\n",
    "print(baduk)"
   ]
  },
  {
   "cell_type": "code",
   "execution_count": 3,
   "metadata": {},
   "outputs": [],
   "source": [
    "class DogBreedDNA:\n",
    "    def __init__(self, breed, DNA):\n",
    "        self.breed = breed\n",
    "        self.DNA = DNA\n",
    "  \n",
    "    def __repr__(self):\n",
    "        return f'{self.DNA}'\n",
    "\n",
    "\n",
    "class Dog:\n",
    "    DNA_Table = {}  # {bread: DogBreedDNA}\n",
    "\n",
    "    def __init__(self, name, age, gender, breed):\n",
    "        self.name = name\n",
    "        self.age = age\n",
    "        self.gender = gender\n",
    "        self.breed = breed\n",
    "\n",
    "        if breed not in Dog.DNA_Table:\n",
    "            raise RuntimeError(f\"{breed} is not in DNA_Table\")\n",
    "  \n",
    "    @staticmethod\n",
    "    def add_DNA(breed, DNA):\n",
    "        breed_DNA = DogBreedDNA(breed, DNA)\n",
    "        Dog.DNA_Table[breed] = breed_DNA\n",
    "\n",
    "    def __repr__(self):\n",
    "        return f'{self.name}, {self.age}, {Dog.DNA_Table[self.breed]}'"
   ]
  },
  {
   "cell_type": "code",
   "execution_count": 6,
   "metadata": {},
   "outputs": [
    {
     "name": "stdout",
     "output_type": "stream",
     "text": [
      "choco, 2, ATAGGCTTACCGATGG...\n",
      "baduk, 3, ATAGGCTTACCGATGA...\n",
      "bbobbi, 1, ATGGGCTTACCGATGG...\n"
     ]
    }
   ],
   "source": [
    "Dog.add_DNA('shihTzu', 'ATAGGCTTACCGATGG...')\n",
    "Dog.add_DNA('jinDo',   'ATAGGCTTACCGATGA...')\n",
    "Dog.add_DNA('shiba',   'ATGGGCTTACCGATGG...')\n",
    "\n",
    "choco = Dog('choco', 2, 'male', 'shihTzu')\n",
    "baduk = Dog('baduk', 3, 'female', 'jinDo')\n",
    "bbobbi = Dog('bbobbi', 1, 'female', 'shiba')\n",
    "\n",
    "print(choco)\n",
    "print(baduk)\n",
    "print(bbobbi)"
   ]
  },
  {
   "cell_type": "markdown",
   "metadata": {},
   "source": [
    "## Flyweight Pattern: Refactoring Guru\n",
    "\n",
    "- https://refactoring.guru/ko/design-patterns/flyweight\n",
    "- https://refactoring.guru/ko/design-patterns/flyweight/python/example"
   ]
  },
  {
   "cell_type": "code",
   "execution_count": 7,
   "metadata": {},
   "outputs": [],
   "source": [
    "import json\n",
    "from typing import Dict"
   ]
  },
  {
   "cell_type": "code",
   "execution_count": 19,
   "metadata": {},
   "outputs": [],
   "source": [
    "class Flyweight:\n",
    "    def __init__(self, shared_state: str) -> None:\n",
    "        self._shared_state = shared_state\n",
    "\n",
    "    def operation(self, unique_state: str) -> None:\n",
    "        s = json.dumps(self._shared_state)\n",
    "        u = json.dumps(unique_state)\n",
    "        print(f\"Flyweight: Displaying shared ({s}) and unique ({u}) state.\", end=\"\")\n",
    "\n",
    "\n",
    "class FlyweightFactory:\n",
    "    _flyweights: Dict[str, Flyweight] = {}\n",
    "\n",
    "    def __init__(self, initial_flyweights: Dict) -> None:\n",
    "        for state in initial_flyweights:\n",
    "            self._flyweights[self.get_key(state)] = Flyweight(state)\n",
    "\n",
    "    def get_key(self, state: Dict) -> str:\n",
    "        return \"_\".join(sorted(state))\n",
    "\n",
    "    def get_flyweight(self, shared_state: Dict) -> Flyweight:\n",
    "        key = self.get_key(shared_state)\n",
    "\n",
    "        if not self._flyweights.get(key):\n",
    "            print(\"FlyweightFactory: Can't find a flyweight, creating new one.\")\n",
    "            self._flyweights[key] = Flyweight(shared_state)\n",
    "        else:\n",
    "            print(\"FlyweightFactory: Reusing existing flyweight.\")\n",
    "\n",
    "        return self._flyweights[key]\n",
    "\n",
    "    def list_flyweights(self) -> None:\n",
    "        count = len(self._flyweights)\n",
    "        print(f\"FlyweightFactory: I have {count} flyweights:\")\n",
    "        print(\"\\n\".join(map(str, self._flyweights.keys())), end=\"\")"
   ]
  },
  {
   "cell_type": "code",
   "execution_count": 20,
   "metadata": {},
   "outputs": [],
   "source": [
    "def add_car_to_police_database(factory: FlyweightFactory, plates: str, owner: str,\n",
    "                               brand: str, model: str, color: str) -> None:\n",
    "    print(\"\\n\\nClient: Adding a car to database.\")\n",
    "    flyweight = factory.get_flyweight([brand, model, color])\n",
    "    flyweight.operation([plates, owner])"
   ]
  },
  {
   "cell_type": "code",
   "execution_count": 21,
   "metadata": {},
   "outputs": [
    {
     "name": "stdout",
     "output_type": "stream",
     "text": [
      "FlyweightFactory: I have 5 flyweights:\n",
      "Camaro2018_Chevrolet_pink\n",
      "C300_Mercedes Benz_black\n",
      "C500_Mercedes Benz_red\n",
      "BMW_M5_red\n",
      "BMW_X6_white"
     ]
    }
   ],
   "source": [
    "factory = FlyweightFactory([\n",
    "        [\"Chevrolet\", \"Camaro2018\", \"pink\"],\n",
    "        [\"Mercedes Benz\", \"C300\", \"black\"],\n",
    "        [\"Mercedes Benz\", \"C500\", \"red\"],\n",
    "        [\"BMW\", \"M5\", \"red\"],\n",
    "        [\"BMW\", \"X6\", \"white\"],\n",
    "    ])\n",
    "\n",
    "factory.list_flyweights()"
   ]
  },
  {
   "cell_type": "code",
   "execution_count": 22,
   "metadata": {},
   "outputs": [
    {
     "name": "stdout",
     "output_type": "stream",
     "text": [
      "\n",
      "\n",
      "Client: Adding a car to database.\n",
      "FlyweightFactory: Reusing existing flyweight.\n",
      "Flyweight: Displaying shared ([\"BMW\", \"M5\", \"red\"]) and unique ([\"CL234IR\", \"James Doe\"]) state.\n",
      "\n",
      "Client: Adding a car to database.\n",
      "FlyweightFactory: Can't find a flyweight, creating new one.\n",
      "Flyweight: Displaying shared ([\"BMW\", \"X1\", \"red\"]) and unique ([\"CL234IR\", \"James Doe\"]) state."
     ]
    }
   ],
   "source": [
    "add_car_to_police_database(factory, \"CL234IR\", \"James Doe\", \"BMW\", \"M5\", \"red\")\n",
    "add_car_to_police_database(factory, \"CL234IR\", \"James Doe\", \"BMW\", \"X1\", \"red\")"
   ]
  },
  {
   "cell_type": "code",
   "execution_count": 23,
   "metadata": {},
   "outputs": [
    {
     "name": "stdout",
     "output_type": "stream",
     "text": [
      "FlyweightFactory: I have 6 flyweights:\n",
      "Camaro2018_Chevrolet_pink\n",
      "C300_Mercedes Benz_black\n",
      "C500_Mercedes Benz_red\n",
      "BMW_M5_red\n",
      "BMW_X6_white\n",
      "BMW_X1_red"
     ]
    }
   ],
   "source": [
    "factory.list_flyweights()"
   ]
  },
  {
   "cell_type": "markdown",
   "metadata": {},
   "source": [
    "## Flyweight Pattern: python101.tistroy.com\n",
    "\n",
    "- [[디자인 패턴] 플라이웨이트 패턴 (Flyweight Pattern) - python 예제 코드](https://python101.tistory.com/entry/%EB%94%94%EC%9E%90%EC%9D%B8-%ED%8C%A8%ED%84%B4-%ED%94%8C%EB%9D%BC%EC%9D%B4%EC%9B%A8%EC%9D%B4%ED%8A%B8-%ED%8C%A8%ED%84%B4-Flyweight-Pattern-python-%EC%98%88%EC%A0%9C-%EC%BD%94%EB%93%9C)"
   ]
  },
  {
   "cell_type": "code",
   "execution_count": 24,
   "metadata": {},
   "outputs": [
    {
     "name": "stdout",
     "output_type": "stream",
     "text": [
      "Creating new instance for A\n",
      "Character at (0, 0)\n",
      "Creating new instance for B\n",
      "Character at (0, 1)\n",
      "Creating new instance for C\n",
      "Character at (1, 0)\n",
      "Creating new instance for D\n",
      "Character at (1, 1)\n",
      "Character at (2, 0)\n",
      "Character at (2, 1)\n"
     ]
    }
   ],
   "source": [
    "class Flyweight:\n",
    "    _instances = {}\n",
    "\n",
    "    def __new__(cls, char):\n",
    "        if char not in cls._instances:\n",
    "            print(f\"Creating new instance for {char}\")\n",
    "            cls._instances[char] = super().__new__(cls)\n",
    "        return cls._instances[char]\n",
    "\n",
    "    def set_position(self, row, column):\n",
    "        self.row = row\n",
    "        self.column = column\n",
    "\n",
    "    def display(self):\n",
    "        print(f\"Character at ({self.row}, {self.column})\")\n",
    "\n",
    "\n",
    "characters = ['A', 'B', 'C', 'D', 'A', 'B']\n",
    "positions = [(0, 0), (0, 1), (1, 0), (1, 1), (2, 0), (2, 1)]\n",
    "\n",
    "for char, pos in zip(characters, positions):\n",
    "    flyweight = Flyweight(char)\n",
    "    flyweight.set_position(*pos)\n",
    "    flyweight.display()"
   ]
  }
 ],
 "metadata": {
  "kernelspec": {
   "display_name": "base",
   "language": "python",
   "name": "python3"
  },
  "language_info": {
   "codemirror_mode": {
    "name": "ipython",
    "version": 3
   },
   "file_extension": ".py",
   "mimetype": "text/x-python",
   "name": "python",
   "nbconvert_exporter": "python",
   "pygments_lexer": "ipython3",
   "version": "3.12.7"
  }
 },
 "nbformat": 4,
 "nbformat_minor": 2
}
