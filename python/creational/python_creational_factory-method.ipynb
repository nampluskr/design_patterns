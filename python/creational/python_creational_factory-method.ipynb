{
 "cells": [
  {
   "cell_type": "markdown",
   "metadata": {},
   "source": [
    "## Factory Method Pattern: NoCodeProgram\n",
    "\n",
    "- https://github.com/NoCodeProgram/DesignPatterns/blob/main/Creational/FactoryMethodP.ipynb"
   ]
  },
  {
   "cell_type": "code",
   "execution_count": 5,
   "metadata": {},
   "outputs": [],
   "source": [
    "## Products\n",
    "class Animal:\n",
    "    def speak(self):\n",
    "        pass\n",
    "\n",
    "class Cat(Animal):\n",
    "    def speak(self):\n",
    "        print(\"meow\")\n",
    "\n",
    "class Dog(Animal):\n",
    "    def speak(self):\n",
    "        print(\"bark\")"
   ]
  },
  {
   "cell_type": "code",
   "execution_count": 6,
   "metadata": {},
   "outputs": [],
   "source": [
    "## Interface\n",
    "class AnimalFactory:\n",
    "    def create_animal(self):\n",
    "        pass\n",
    "    \n",
    "class CatFactory(AnimalFactory):\n",
    "    def __init__(self):\n",
    "        self.cat_count = 0\n",
    "        \n",
    "    def create_animal(self):\n",
    "        self.cat_count += 1\n",
    "        return Cat()\n",
    "    \n",
    "    def get_count(self):\n",
    "        return self.cat_count\n",
    "    \n",
    "class DogManager(AnimalFactory):\n",
    "    def create_animal(self):\n",
    "        return Dog()\n",
    "\n",
    "    def have_dog(self):\n",
    "        self.dog = self.create_animal()\n",
    "        \n",
    "    \n",
    "    def make_wings(self, dog):\n",
    "        print(\"dog wings added\")\n",
    "        return dog"
   ]
  },
  {
   "cell_type": "code",
   "execution_count": 7,
   "metadata": {},
   "outputs": [
    {
     "name": "stdout",
     "output_type": "stream",
     "text": [
      "1 cats are created\n",
      "2 cats are created\n"
     ]
    }
   ],
   "source": [
    "cat_factory = CatFactory()\n",
    "cat1 = cat_factory.create_animal()\n",
    "print(f\"{cat_factory.get_count()} cats are created\")\n",
    "cat2 = cat_factory.create_animal()\n",
    "print(f\"{cat_factory.get_count()} cats are created\")"
   ]
  },
  {
   "cell_type": "code",
   "execution_count": 8,
   "metadata": {},
   "outputs": [
    {
     "name": "stdout",
     "output_type": "stream",
     "text": [
      "dog wings added\n"
     ]
    }
   ],
   "source": [
    "dog_manager = DogManager()\n",
    "dog = dog_manager.have_dog()\n",
    "wing_dog = dog_manager.make_wings(dog)"
   ]
  },
  {
   "cell_type": "markdown",
   "metadata": {},
   "source": [
    "## Factory Method Pattern: Refactoring Guru\n",
    "\n",
    "- https://refactoring.guru/ko/design-patterns/factory-method"
   ]
  },
  {
   "cell_type": "code",
   "execution_count": 9,
   "metadata": {},
   "outputs": [],
   "source": [
    "from __future__ import annotations\n",
    "from abc import ABC, abstractmethod\n",
    "\n",
    "## Interface\n",
    "class Product(ABC):\n",
    "    @abstractmethod\n",
    "    def do_stuff(self):\n",
    "        pass\n",
    "\n",
    "class ConcreteProductA(Product):\n",
    "    def do_stuff(self):\n",
    "        return \"{Result of the ConcreteProductA}\"\n",
    "\n",
    "class ConcreteProductB(Product):\n",
    "    def do_stuff(self):\n",
    "        return \"{Result of the ConcreteProductB}\"\n",
    "\n",
    "## Abstract Class: Factory\n",
    "class Creator(ABC):\n",
    "    @abstractmethod\n",
    "    def create_product(self):\n",
    "        pass\n",
    "\n",
    "    def some_operation(self):\n",
    "        product = self.create_product()\n",
    "        result = f\"Creator: The same creator's code has just worked with {product.do_stuff()}\"\n",
    "        return result\n",
    "\n",
    "class ConcreteCreatorA(Creator):\n",
    "    def create_product(self):\n",
    "        return ConcreteProductA()\n",
    "\n",
    "class ConcreteCreatorB(Creator):\n",
    "    def create_product(self):\n",
    "        return ConcreteProductB()"
   ]
  },
  {
   "cell_type": "code",
   "execution_count": 10,
   "metadata": {},
   "outputs": [
    {
     "name": "stdout",
     "output_type": "stream",
     "text": [
      "App: Launched with the ConcreteCreatorA.\n",
      "Client: I'm not aware of the creator's class, but it still works.\n",
      "Creator: The same creator's code has just worked with {Result of the ConcreteProductA}\n",
      "\n",
      "App: Launched with the ConcreteCreatorB.\n",
      "Client: I'm not aware of the creator's class, but it still works.\n",
      "Creator: The same creator's code has just worked with {Result of the ConcreteProductB}"
     ]
    }
   ],
   "source": [
    "def client_code(creator):\n",
    "    print(f\"Client: I'm not aware of the creator's class, but it still works.\\n\"\n",
    "          f\"{creator.some_operation()}\", end=\"\")\n",
    "\n",
    "print(\"App: Launched with the ConcreteCreatorA.\")\n",
    "client_code(ConcreteCreatorA())\n",
    "\n",
    "print(\"\\n\")\n",
    "print(\"App: Launched with the ConcreteCreatorB.\")\n",
    "client_code(ConcreteCreatorB())"
   ]
  },
  {
   "cell_type": "markdown",
   "metadata": {},
   "source": [
    "## Factory Method Pattern: python101.tistory.com\n",
    "\n",
    "- [[디자인 패턴] 팩토리 메서드 패턴 (Factory Method Pattern) - python 예제 코드](https://python101.tistory.com/entry/%EB%94%94%EC%9E%90%EC%9D%B8-%ED%8C%A8%ED%84%B4-%ED%8C%A9%ED%86%A0%EB%A6%AC-%EB%A9%94%EC%84%9C%EB%93%9C-%ED%8C%A8%ED%84%B4-Factory-Method-Pattern-python-%EC%98%88%EC%A0%9C-%EC%BD%94%EB%93%9C)"
   ]
  },
  {
   "cell_type": "code",
   "execution_count": 11,
   "metadata": {},
   "outputs": [],
   "source": [
    "# 계산기 연산 처리 클래스\n",
    "class Operation:\n",
    "    def operate(self, x, y):\n",
    "        pass\n",
    "\n",
    "# 덧셈 연산 클래스\n",
    "class AddOperation(Operation):\n",
    "    def operate(self, x, y):\n",
    "        return x + y\n",
    "\n",
    "# 뺄셈 연산 클래스\n",
    "class SubtractOperation(Operation):\n",
    "    def operate(self, x, y):\n",
    "        return x - y\n",
    "\n",
    "# 곱셈 연산 클래스\n",
    "class MultiplyOperation(Operation):\n",
    "    def operate(self, x, y):\n",
    "        return x * y\n",
    "\n",
    "# 나눗셈 연산 클래스\n",
    "class DivideOperation(Operation):\n",
    "    def operate(self, x, y):\n",
    "        return x / y"
   ]
  },
  {
   "cell_type": "code",
   "execution_count": 12,
   "metadata": {},
   "outputs": [
    {
     "name": "stdout",
     "output_type": "stream",
     "text": [
      "10 + 5 = 15\n",
      "10 / 5 = 2.0\n"
     ]
    }
   ],
   "source": [
    "# 팩토리 메서드\n",
    "class OperationFactory:\n",
    "    @staticmethod\n",
    "    def create_operation(operator):\n",
    "        if operator == '+':\n",
    "            return AddOperation()\n",
    "        elif operator == '-':\n",
    "            return SubtractOperation()\n",
    "        elif operator == '*':\n",
    "            return MultiplyOperation()\n",
    "        elif operator == '/':\n",
    "            return DivideOperation()\n",
    "        else:\n",
    "            raise ValueError('Invalid operator')\n",
    "        \n",
    "x, y = 10, 5\n",
    "\n",
    "# 덧셈 연산 객체 생성 및 처리\n",
    "add_operation = OperationFactory.create_operation('+')\n",
    "result = add_operation.operate(x, y)\n",
    "print(f'{x} + {y} = {result}')\n",
    "\n",
    "# 나눗셈 연산 객체 생성 및 처리\n",
    "divide_operation = OperationFactory.create_operation('/')\n",
    "result = divide_operation.operate(x, y)\n",
    "print(f'{x} / {y} = {result}')"
   ]
  }
 ],
 "metadata": {
  "kernelspec": {
   "display_name": "base",
   "language": "python",
   "name": "python3"
  },
  "language_info": {
   "codemirror_mode": {
    "name": "ipython",
    "version": 3
   },
   "file_extension": ".py",
   "mimetype": "text/x-python",
   "name": "python",
   "nbconvert_exporter": "python",
   "pygments_lexer": "ipython3",
   "version": "3.12.7"
  }
 },
 "nbformat": 4,
 "nbformat_minor": 2
}
