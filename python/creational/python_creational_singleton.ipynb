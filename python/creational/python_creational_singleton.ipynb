{
 "cells": [
  {
   "cell_type": "markdown",
   "metadata": {},
   "source": [
    "## Singleton Pattern: NoCodeProgram\n",
    "\n",
    "- https://github.com/NoCodeProgram/DesignPatterns/blob/main/Creational/singleton.py"
   ]
  },
  {
   "cell_type": "code",
   "execution_count": 6,
   "metadata": {},
   "outputs": [
    {
     "name": "stdout",
     "output_type": "stream",
     "text": [
      "kitty meow\n",
      "nabi meow\n"
     ]
    }
   ],
   "source": [
    "## Normal class, objects\n",
    "class Cat:\n",
    "    def __init__(self, name):\n",
    "        self.name = name\n",
    "\n",
    "    def speak(self):\n",
    "        print(self.name, \"meow\")\n",
    "\n",
    "kitty = Cat(\"kitty\")\n",
    "nabi = Cat(\"nabi\")\n",
    "\n",
    "kitty.speak()\n",
    "nabi.speak()"
   ]
  },
  {
   "cell_type": "code",
   "execution_count": 9,
   "metadata": {},
   "outputs": [
    {
     "name": "stdout",
     "output_type": "stream",
     "text": [
      "they are same, Singleton!\n"
     ]
    }
   ],
   "source": [
    "## Singleton Pattern\n",
    "class Singleton:\n",
    "    _instance = None\n",
    "\n",
    "    def __new__(cls):\n",
    "        if not cls._instance:\n",
    "            cls._instance = super(Singleton, cls).__new__(cls)\n",
    "        return cls._instance\n",
    "\n",
    "s1 = Singleton()\n",
    "s2 = Singleton()\n",
    "\n",
    "if s1 == s2:\n",
    "    print('they are same, Singleton!')\n",
    "else:\n",
    "    print('they are not same')"
   ]
  },
  {
   "cell_type": "code",
   "execution_count": 16,
   "metadata": {},
   "outputs": [
    {
     "name": "stdout",
     "output_type": "stream",
     "text": [
      "kitty meow\n",
      "kitty meow\n",
      "they are same, Singleton!\n"
     ]
    }
   ],
   "source": [
    "## Singleton Cat\n",
    "class SingletonCat:\n",
    "    _instance = None\n",
    "\n",
    "    def __new__(cls, name):\n",
    "        if not cls._instance:\n",
    "            cls._instance = super().__new__(cls)\n",
    "            cls._instance.name = name\n",
    "        return cls._instance\n",
    "\n",
    "    def speak(self):\n",
    "        print(self.name, \"meow\")\n",
    "\n",
    "s_kitty = SingletonCat(\"kitty\")\n",
    "s_nabi = SingletonCat(\"nabi\")\n",
    "\n",
    "s_kitty.speak()\n",
    "s_nabi.speak()\n",
    "\n",
    "if s_kitty == s_nabi:\n",
    "    print('they are same, Singleton!')\n",
    "else:\n",
    "    print('they are not same')"
   ]
  },
  {
   "cell_type": "markdown",
   "metadata": {},
   "source": [
    "## Singleton Pattern: Refactoring Guru\n",
    "\n",
    "- https://refactoring.guru/ko/design-patterns/singleton\n",
    "- https://refactoring.guru/ko/design-patterns/singleton/python/example"
   ]
  },
  {
   "cell_type": "code",
   "execution_count": 15,
   "metadata": {},
   "outputs": [
    {
     "name": "stdout",
     "output_type": "stream",
     "text": [
      "Do some business logic.\n",
      "Do some business logic.\n",
      "Singleton works, both variables contain the same instance.\n"
     ]
    }
   ],
   "source": [
    "class SingletonMeta(type):\n",
    "    _instances = {}\n",
    "\n",
    "    def __call__(cls, *args, **kwargs):\n",
    "        if cls not in cls._instances:\n",
    "            instance = super().__call__(*args, **kwargs)\n",
    "            cls._instances[cls] = instance\n",
    "        return cls._instances[cls]\n",
    "\n",
    "class Singleton(metaclass=SingletonMeta):\n",
    "    def some_business_logic(self):\n",
    "        print(\"Do some business logic.\")\n",
    "        \n",
    "s1 = Singleton()\n",
    "s2 = Singleton()\n",
    "\n",
    "s1.some_business_logic()\n",
    "s2.some_business_logic()\n",
    "\n",
    "if id(s1) == id(s2):\n",
    "    print(\"Singleton works, both variables contain the same instance.\")\n",
    "else:\n",
    "    print(\"Singleton failed, variables contain different instances.\")"
   ]
  },
  {
   "cell_type": "markdown",
   "metadata": {},
   "source": [
    "## Singleton Pattern: python101.tistroy.com\n",
    "\n",
    "- [[디자인 패턴] 싱글턴 패턴 (Singleton Pattern) - python 예제 코드](https://python101.tistory.com/entry/%EB%94%94%EC%9E%90%EC%9D%B8-%ED%8C%A8%ED%84%B4-%EC%8B%B1%EA%B8%80%ED%84%B4-%ED%8C%A8%ED%84%B4-Singleton-Pattern-python-%EC%98%88%EC%A0%9C-%EC%BD%94%EB%93%9C)"
   ]
  },
  {
   "cell_type": "code",
   "execution_count": 19,
   "metadata": {},
   "outputs": [
    {
     "name": "stdout",
     "output_type": "stream",
     "text": [
      "<__main__.Singleton object at 0x000001CCFCC24710>\n",
      "<__main__.Singleton object at 0x000001CCFCC24710>\n",
      "True\n"
     ]
    }
   ],
   "source": [
    "class Singleton:\n",
    "    __instance = None  # 클래스 내부에 유일한 인스턴스를 저장할 클래스 변수\n",
    "\n",
    "    def __init__(self):\n",
    "        \"\"\" 생성자 메서드를 private로 만들어 객체 생성을 제한 \"\"\"\n",
    "        if Singleton.__instance != None:\n",
    "            raise Exception(\"이 클래스는 싱글턴 패턴으로 구현되었습니다. getInstance() 메서드를 사용하세요.\")\n",
    "        else:\n",
    "            Singleton.__instance = self\n",
    "\n",
    "    @staticmethod\n",
    "    def getInstance():\n",
    "        \"\"\" 유일한 인스턴스를 반환하는 정적 메서드 \"\"\"\n",
    "        if Singleton.__instance == None:\n",
    "            Singleton()\n",
    "        return Singleton.__instance\n",
    "\n",
    "s1 = Singleton.getInstance() # 인스턴스 생성\n",
    "s2 = Singleton.getInstance() # 기존 인스턴스 반환\n",
    "\n",
    "print(s1)\n",
    "print(s2)\n",
    "print(s1 == s2) # True"
   ]
  }
 ],
 "metadata": {
  "kernelspec": {
   "display_name": "Python 3",
   "language": "python",
   "name": "python3"
  },
  "language_info": {
   "codemirror_mode": {
    "name": "ipython",
    "version": 3
   },
   "file_extension": ".py",
   "mimetype": "text/x-python",
   "name": "python",
   "nbconvert_exporter": "python",
   "pygments_lexer": "ipython3",
   "version": "3.11.8"
  }
 },
 "nbformat": 4,
 "nbformat_minor": 2
}
