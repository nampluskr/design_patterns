{
 "cells": [
  {
   "cell_type": "markdown",
   "metadata": {},
   "source": [
    "## Prototype Pattern: NoCodeProgram\n",
    "\n",
    "- https://github.com/NoCodeProgram/DesignPatterns/blob/main/Creational/prototypeP.ipynb"
   ]
  },
  {
   "cell_type": "code",
   "execution_count": 3,
   "metadata": {},
   "outputs": [],
   "source": [
    "## 일반적인 Cat class 정의\n",
    "class Cat:\n",
    "    def __init__(self):\n",
    "        self.color = None\n",
    "        self.eye_color = None\n",
    "        self.nose_color = None\n",
    "        self.tail_color = None\n",
    "        self.name = None"
   ]
  },
  {
   "cell_type": "code",
   "execution_count": 4,
   "metadata": {},
   "outputs": [],
   "source": [
    "kitty = Cat()\n",
    "kitty.color = 'white'\n",
    "kitty.eye_color = 'white'\n",
    "kitty.nose_color = 'white'\n",
    "kitty.tail_color = 'white'\n",
    "kitty.name = 'kitty'\n",
    "\n",
    "nabi = Cat()\n",
    "nabi.color = 'white'\n",
    "nabi.eye_color = 'white'\n",
    "nabi.nose_color = 'white'\n",
    "nabi.tail_color = 'white'\n",
    "nabi.name = 'nabi'"
   ]
  },
  {
   "cell_type": "code",
   "execution_count": 5,
   "metadata": {},
   "outputs": [],
   "source": [
    "## deepcopy(clone) 지원하는 Cat class 정의\n",
    "from copy import deepcopy\n",
    "\n",
    "class Cat:\n",
    "    def __init__(self):\n",
    "        self.color = None\n",
    "        self.eye_color = None\n",
    "        self.nose_color = None\n",
    "        self.tail_color = None\n",
    "        self.name = None\n",
    "        \n",
    "    def clone(self):\n",
    "        return deepcopy(self)"
   ]
  },
  {
   "cell_type": "code",
   "execution_count": 7,
   "metadata": {},
   "outputs": [],
   "source": [
    "cat_basic = Cat()\n",
    "cat_basic.color = 'white'\n",
    "cat_basic.eye_color = 'white'\n",
    "cat_basic.nose_color = 'white'\n",
    "cat_basic.tail_color = 'white'\n",
    "cat_basic.name = 'basic'\n",
    "\n",
    "kitty = cat_basic.clone()\n",
    "kitty.name = \"kitty\"\n",
    "\n",
    "nabi = cat_basic.clone()\n",
    "nabi.name = \"nabi\"\n",
    "\n",
    "## 잘못된 복사방법: nabe = kitty"
   ]
  },
  {
   "cell_type": "code",
   "execution_count": 8,
   "metadata": {},
   "outputs": [],
   "source": [
    "class BlackCat(Cat):\n",
    "    def __init__(self):\n",
    "        super().__init__()\n",
    "        self.color = \"black\"\n",
    "        \n",
    "class WhiteCat(Cat):\n",
    "    def __init__(self):\n",
    "        super().__init__()\n",
    "        self.color = \"white\"\n",
    "        \n",
    "black_cat = BlackCat()\n",
    "black_cat.nose_color = \"pink\"\n",
    "black_cat.tail_color = \"green\""
   ]
  },
  {
   "cell_type": "code",
   "execution_count": 9,
   "metadata": {},
   "outputs": [],
   "source": [
    "## black_cat is the prototype\n",
    "kitty = black_cat.clone()\n",
    "kitty.eye_color = \"white\"\n",
    "kitty.name = \"kitty\"\n",
    "\n",
    "nabi = black_cat.clone()\n",
    "nabi.eye_color = \"blue\"\n",
    "nabi.name = \"nabi\""
   ]
  },
  {
   "cell_type": "markdown",
   "metadata": {},
   "source": [
    "## Prototype Pattern: Refactoring Guru\n",
    "\n",
    "- https://refactoring.guru/ko/design-patterns/prototype\n",
    "- https://refactoring.guru/ko/design-patterns/prototype/python/example\n",
    "\n",
    "![prototype](../images/prototype.png)"
   ]
  },
  {
   "cell_type": "code",
   "execution_count": 1,
   "metadata": {},
   "outputs": [],
   "source": [
    "import copy\n",
    "\n",
    "class SelfReferencingEntity:\n",
    "    def __init__(self):\n",
    "        self.parent = None\n",
    "\n",
    "    def set_parent(self, parent):\n",
    "        self.parent = parent\n",
    "\n",
    "\n",
    "class SomeComponent:\n",
    "    def __init__(self, some_int, some_list_of_objects, some_circular_ref):\n",
    "        self.some_int = some_int\n",
    "        self.some_list_of_objects = some_list_of_objects\n",
    "        self.some_circular_ref = some_circular_ref\n",
    "\n",
    "    def __copy__(self):\n",
    "        some_list_of_objects = copy.copy(self.some_list_of_objects)\n",
    "        some_circular_ref = copy.copy(self.some_circular_ref)\n",
    "\n",
    "        new = self.__class__(self.some_int, some_list_of_objects, some_circular_ref)\n",
    "        new.__dict__.update(self.__dict__)\n",
    "        return new\n",
    "\n",
    "    def __deepcopy__(self, memo=None):\n",
    "        if memo is None:\n",
    "            memo = {}\n",
    "\n",
    "        some_list_of_objects = copy.deepcopy(self.some_list_of_objects, memo)\n",
    "        some_circular_ref = copy.deepcopy(self.some_circular_ref, memo)\n",
    "        new = self.__class__(self.some_int, some_list_of_objects, some_circular_ref)\n",
    "        new.__dict__ = copy.deepcopy(self.__dict__, memo)\n",
    "        return new"
   ]
  },
  {
   "cell_type": "code",
   "execution_count": 2,
   "metadata": {},
   "outputs": [
    {
     "name": "stdout",
     "output_type": "stream",
     "text": [
      "Adding elements to `shallow_copied_component`'s some_list_of_objects adds it to `component`'s some_list_of_objects.\n",
      "Changing objects in the `component`'s some_list_of_objects changes that object in `shallow_copied_component`'s some_list_of_objects.\n"
     ]
    }
   ],
   "source": [
    "list_of_objects = [1, {1, 2, 3}, [1, 2, 3]]\n",
    "circular_ref = SelfReferencingEntity()\n",
    "component = SomeComponent(23, list_of_objects, circular_ref)\n",
    "circular_ref.set_parent(component)\n",
    "\n",
    "shallow_copied_component = copy.copy(component)\n",
    "shallow_copied_component.some_list_of_objects.append(\"another object\")\n",
    "\n",
    "if component.some_list_of_objects[-1] == \"another object\":\n",
    "    print(\"Adding elements to `shallow_copied_component`'s \"\n",
    "          \"some_list_of_objects adds it to `component`'s \"\n",
    "          \"some_list_of_objects.\")\n",
    "else:\n",
    "    print(\"Adding elements to `shallow_copied_component`'s \"\n",
    "          \"some_list_of_objects doesn't add it to `component`'s \"\n",
    "          \"some_list_of_objects.\")\n",
    "    \n",
    "component.some_list_of_objects[1].add(4)\n",
    "\n",
    "if 4 in shallow_copied_component.some_list_of_objects[1]:\n",
    "    print(\"Changing objects in the `component`'s some_list_of_objects \"\n",
    "          \"changes that object in `shallow_copied_component`'s \"\n",
    "          \"some_list_of_objects.\")\n",
    "else:\n",
    "    print(\"Changing objects in the `component`'s some_list_of_objects \"\n",
    "          \"doesn't change that object in `shallow_copied_component`'s \"\n",
    "          \"some_list_of_objects.\")"
   ]
  },
  {
   "cell_type": "code",
   "execution_count": 3,
   "metadata": {},
   "outputs": [
    {
     "name": "stdout",
     "output_type": "stream",
     "text": [
      "Adding elements to `deep_copied_component`'s some_list_of_objects doesn't add it to `component`'s some_list_of_objects.\n",
      "Changing objects in the `component`'s some_list_of_objects doesn't change that object in `deep_copied_component`'s some_list_of_objects.\n",
      "id(deep_copied_component.some_circular_ref.parent): 2835670121360\n",
      "id(deep_copied_component.some_circular_ref.parent.some_circular_ref.parent): 2835670121360\n",
      "^^ This shows that deepcopied objects contain same reference, they are not cloned repeatedly.\n"
     ]
    }
   ],
   "source": [
    "deep_copied_component = copy.deepcopy(component)\n",
    "deep_copied_component.some_list_of_objects.append(\"one more object\")\n",
    "\n",
    "if component.some_list_of_objects[-1] == \"one more object\":\n",
    "    print(\"Adding elements to `deep_copied_component`'s \"\n",
    "          \"some_list_of_objects adds it to `component`'s \"\n",
    "          \"some_list_of_objects.\")\n",
    "else:\n",
    "    print(\"Adding elements to `deep_copied_component`'s \"\n",
    "          \"some_list_of_objects doesn't add it to `component`'s \"\n",
    "          \"some_list_of_objects.\")\n",
    "\n",
    "# Let's change the set in the list of objects.\n",
    "component.some_list_of_objects[1].add(10)\n",
    "\n",
    "if 10 in deep_copied_component.some_list_of_objects[1]:\n",
    "    print(\"Changing objects in the `component`'s some_list_of_objects \"\n",
    "          \"changes that object in `deep_copied_component`'s \"\n",
    "          \"some_list_of_objects.\")\n",
    "else:\n",
    "    print(\"Changing objects in the `component`'s some_list_of_objects \"\n",
    "          \"doesn't change that object in `deep_copied_component`'s \"\n",
    "          \"some_list_of_objects.\")\n",
    "\n",
    "print(f\"id(deep_copied_component.some_circular_ref.parent): \"\n",
    "      f\"{id(deep_copied_component.some_circular_ref.parent)}\")\n",
    "print(f\"id(deep_copied_component.some_circular_ref.parent.some_circular_ref.parent): \"\n",
    "      f\"{id(deep_copied_component.some_circular_ref.parent.some_circular_ref.parent)}\")\n",
    "print(\"^^ This shows that deepcopied objects contain same reference, they \"\n",
    "      \"are not cloned repeatedly.\")"
   ]
  },
  {
   "cell_type": "markdown",
   "metadata": {},
   "source": [
    "## Prototype Pattern: python101.tistory.com\n",
    "\n",
    "- [[디자인 패턴] 프로토타입 패턴 (Prototype Pattern) - python 예제 코드](https://python101.tistory.com/entry/%EB%94%94%EC%9E%90%EC%9D%B8-%ED%8C%A8%ED%84%B4-%ED%94%84%EB%A1%9C%ED%86%A0%ED%83%80%EC%9E%85-%ED%8C%A8%ED%84%B4-Prototype-Pattern-python-%EC%98%88%EC%A0%9C-%EC%BD%94%EB%93%9C)"
   ]
  },
  {
   "cell_type": "code",
   "execution_count": 18,
   "metadata": {},
   "outputs": [],
   "source": [
    "import copy\n",
    "\n",
    "class Person:\n",
    "    def __init__(self, name, age):\n",
    "        self.name = name\n",
    "        self.age = age\n",
    "\n",
    "    def __str__(self):\n",
    "        return f\"{self.name} ({self.age})\"\n",
    "\n",
    "\n",
    "class Prototype:\n",
    "    def __init__(self):\n",
    "        self.objects = {}\n",
    "\n",
    "    def register_object(self, key, obj):\n",
    "        self.objects[key] = obj\n",
    "\n",
    "    def unregister_object(self, key):\n",
    "        del self.objects[key]\n",
    "\n",
    "    def clone(self, key, **attr):\n",
    "        obj = copy.deepcopy(self.objects.get(key))\n",
    "        obj.__dict__.update(attr)\n",
    "        return obj"
   ]
  },
  {
   "cell_type": "code",
   "execution_count": 19,
   "metadata": {},
   "outputs": [
    {
     "name": "stdout",
     "output_type": "stream",
     "text": [
      "John (30)\n",
      "Mike (25)\n"
     ]
    }
   ],
   "source": [
    "person = Person(\"John\", 25)\n",
    "prototype = Prototype()\n",
    "prototype.register_object(\"person\", person)\n",
    "\n",
    "person1 = prototype.clone(\"person\", age=30)\n",
    "print(person1)\n",
    "\n",
    "person2 = prototype.clone(\"person\", name=\"Mike\")\n",
    "print(person2)"
   ]
  }
 ],
 "metadata": {
  "kernelspec": {
   "display_name": "Python 3",
   "language": "python",
   "name": "python3"
  },
  "language_info": {
   "codemirror_mode": {
    "name": "ipython",
    "version": 3
   },
   "file_extension": ".py",
   "mimetype": "text/x-python",
   "name": "python",
   "nbconvert_exporter": "python",
   "pygments_lexer": "ipython3",
   "version": "3.11.8"
  }
 },
 "nbformat": 4,
 "nbformat_minor": 2
}
