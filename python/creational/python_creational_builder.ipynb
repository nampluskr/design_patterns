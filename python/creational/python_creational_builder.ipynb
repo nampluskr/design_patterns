{
 "cells": [
  {
   "cell_type": "markdown",
   "metadata": {},
   "source": [
    "## Builder Pattern: NoCodeProgram\n",
    "\n",
    "- https://github.com/NoCodeProgram/DesignPatterns/blob/main/Creational/BuilderP.ipynb"
   ]
  },
  {
   "cell_type": "code",
   "execution_count": 7,
   "metadata": {},
   "outputs": [],
   "source": [
    "class Cat:\n",
    "    def __init__(self, height, weight, color):\n",
    "        self.height = height\n",
    "        self.weight = weight\n",
    "        self.color = color\n",
    "        \n",
    "    def print(self):\n",
    "        return print(f\"{self.height}cm, {self.weight}kg, {self.color}\")\n",
    "    \n",
    "class CatBuilder:\n",
    "    def __init__(self):\n",
    "        self.height = None\n",
    "        self.weight = None\n",
    "        self.color = None\n",
    "        \n",
    "    def set_height(self, height):\n",
    "        self.height = height\n",
    "        return self\n",
    "    \n",
    "    def set_weight(self, weight):\n",
    "        self.weight = weight\n",
    "        return self\n",
    "    \n",
    "    def set_color(self, color):\n",
    "        self.color = color\n",
    "        return self\n",
    "    \n",
    "    def build(self):\n",
    "        return Cat(self.height, self.weight, self.color)"
   ]
  },
  {
   "cell_type": "code",
   "execution_count": 8,
   "metadata": {},
   "outputs": [
    {
     "name": "stdout",
     "output_type": "stream",
     "text": [
      "30cm, 7kg, black\n"
     ]
    }
   ],
   "source": [
    "cat_builder = CatBuilder()\n",
    "cat_builder.set_height(30)\n",
    "cat_builder.set_weight(7)\n",
    "cat_builder.set_color(\"black\")\n",
    "cat = cat_builder.build()\n",
    "cat.print()"
   ]
  },
  {
   "cell_type": "code",
   "execution_count": 9,
   "metadata": {},
   "outputs": [
    {
     "name": "stdout",
     "output_type": "stream",
     "text": [
      "10cm, 10kg, white\n",
      "20cm, 20kg, black\n"
     ]
    }
   ],
   "source": [
    "class WhiteCatBuilder(CatBuilder):\n",
    "    def __init__(self):\n",
    "        super().__init__()\n",
    "        self.color = \"white\"\n",
    "\n",
    "class BlackCatBuilder(CatBuilder):\n",
    "    def __init__(self):\n",
    "        super().__init__()\n",
    "        self.color = \"black\"\n",
    "        \n",
    "white_cat = WhiteCatBuilder().set_height(10).set_weight(10).build()\n",
    "white_cat.print()\n",
    "\n",
    "black_cat = BlackCatBuilder().set_height(20).set_weight(20).build()\n",
    "black_cat.print()"
   ]
  },
  {
   "cell_type": "code",
   "execution_count": 10,
   "metadata": {},
   "outputs": [
    {
     "name": "stdout",
     "output_type": "stream",
     "text": [
      "100cm, 100kg, black\n"
     ]
    }
   ],
   "source": [
    "class Director:\n",
    "    def set_small_cat(self, builder):\n",
    "        builder.set_weight(5)\n",
    "        builder.set_height(5)\n",
    "        \n",
    "    def set_large_cat(self, builder):\n",
    "        builder.set_weight(100)\n",
    "        builder.set_height(100)\n",
    "        \n",
    "director = Director()\n",
    "black_cat_builder = BlackCatBuilder()\n",
    "director.set_large_cat(black_cat_builder)\n",
    "\n",
    "cat = black_cat_builder.build()\n",
    "cat.print()"
   ]
  },
  {
   "cell_type": "markdown",
   "metadata": {},
   "source": [
    "## Bulder Pattern: Refactoring Guru\n",
    "\n",
    "- https://refactoring.guru/ko/design-patterns/builder\n",
    "- https://refactoring.guru/ko/design-patterns/builder/python/example\n",
    "\n",
    "![builder](../images/builder.png)"
   ]
  },
  {
   "cell_type": "code",
   "execution_count": 26,
   "metadata": {},
   "outputs": [],
   "source": [
    "from __future__ import annotations\n",
    "from abc import ABC, abstractmethod\n",
    "from typing import Any\n",
    "\n",
    "\n",
    "class Product1():\n",
    "    def __init__(self):\n",
    "        self.parts = []\n",
    "\n",
    "    def add(self, part: Any):\n",
    "        self.parts.append(part)\n",
    "\n",
    "    def list_parts(self):\n",
    "        print(f\"Product parts: {', '.join(self.parts)}\", end=\"\")\n",
    "\n",
    "## Interface\n",
    "class Builder(ABC):\n",
    "    @property\n",
    "    @abstractmethod\n",
    "    def product(self):\n",
    "        pass\n",
    "\n",
    "    @abstractmethod\n",
    "    def produce_part_a(self):\n",
    "        pass\n",
    "\n",
    "    @abstractmethod\n",
    "    def produce_part_b(self):\n",
    "        pass\n",
    "\n",
    "    @abstractmethod\n",
    "    def produce_part_c(self):\n",
    "        pass\n",
    "\n",
    "\n",
    "class ConcreteBuilder1(Builder):\n",
    "    def __init__(self):\n",
    "        self.reset()\n",
    "\n",
    "    def reset(self):\n",
    "        self._product = Product1()\n",
    "\n",
    "    @property\n",
    "    def product(self) -> Product1:\n",
    "        product = self._product\n",
    "        self.reset()\n",
    "        return product\n",
    "\n",
    "    def produce_part_a(self):\n",
    "        self._product.add(\"PartA1\")\n",
    "\n",
    "    def produce_part_b(self):\n",
    "        self._product.add(\"PartB1\")\n",
    "\n",
    "    def produce_part_c(self):\n",
    "        self._product.add(\"PartC1\")"
   ]
  },
  {
   "cell_type": "code",
   "execution_count": 27,
   "metadata": {},
   "outputs": [
    {
     "name": "stdout",
     "output_type": "stream",
     "text": [
      "Standard basic product: \n",
      "Product parts: PartA1\n",
      "\n",
      "Standard full featured product: \n",
      "Product parts: PartA1, PartB1, PartC1\n",
      "\n",
      "Custom product: \n",
      "Product parts: PartA1, PartB1"
     ]
    }
   ],
   "source": [
    "class Director:\n",
    "    def __init__(self):\n",
    "        self._builder = None\n",
    "\n",
    "    @property\n",
    "    def builder(self) -> Builder:\n",
    "        return self._builder\n",
    "\n",
    "    @builder.setter\n",
    "    def builder(self, builder: Builder):\n",
    "        self._builder = builder\n",
    "\n",
    "    def build_minimal_viable_product(self):\n",
    "        self._builder.produce_part_a()\n",
    "\n",
    "    def build_full_featured_product(self):\n",
    "        self._builder.produce_part_a()\n",
    "        self._builder.produce_part_b()\n",
    "        self._builder.produce_part_c()\n",
    "\n",
    "\n",
    "director = Director()\n",
    "builder = ConcreteBuilder1()\n",
    "director.builder = builder\n",
    "\n",
    "print(\"Standard basic product: \")\n",
    "director.build_minimal_viable_product()\n",
    "builder.product.list_parts()\n",
    "\n",
    "print(\"\\n\")\n",
    "\n",
    "print(\"Standard full featured product: \")\n",
    "director.build_full_featured_product()\n",
    "builder.product.list_parts()\n",
    "\n",
    "print(\"\\n\")\n",
    "\n",
    "# Remember, the Builder pattern can be used without a Director class.\n",
    "print(\"Custom product: \")\n",
    "builder.produce_part_a()\n",
    "builder.produce_part_b()\n",
    "builder.product.list_parts()"
   ]
  },
  {
   "cell_type": "markdown",
   "metadata": {},
   "source": [
    "## Builder Pattern: python101.tistory.com\n",
    "\n",
    "- [[디자인 패턴] 빌더 패턴 (Builder Pattern) - python 예제 코드](https://python101.tistory.com/entry/%EB%94%94%EC%9E%90%EC%9D%B8-%ED%8C%A8%ED%84%B4-%EB%B9%8C%EB%8D%94-%ED%8C%A8%ED%84%B4-Builder-Pattern-python-%EC%98%88%EC%A0%9C-%EC%BD%94%EB%93%9C)"
   ]
  },
  {
   "cell_type": "code",
   "execution_count": 28,
   "metadata": {},
   "outputs": [],
   "source": [
    "class User:\n",
    "    def __init__(self):\n",
    "        self.username = None\n",
    "        self.password = None\n",
    "        self.email = None\n",
    "        self.first_name = None\n",
    "        self.last_name = None\n",
    "\n",
    "    def __str__(self):\n",
    "        return f\"username: {self.username}, password: {self.password}, email: {self.email}, first_name: {self.first_name}, last_name: {self.last_name}\"\n",
    "\n",
    "\n",
    "class UserBuilder:\n",
    "    def __init__(self):\n",
    "        self.user = User()\n",
    "        \n",
    "    def set_username(self, username):\n",
    "        self.user.username = username\n",
    "        return self\n",
    "        \n",
    "    def set_password(self, password):\n",
    "        self.user.password = password\n",
    "        return self\n",
    "        \n",
    "    def set_email(self, email):\n",
    "        self.user.email = email\n",
    "        return self\n",
    "        \n",
    "    def set_first_name(self, first_name):\n",
    "        self.user.first_name = first_name\n",
    "        return self\n",
    "        \n",
    "    def set_last_name(self, last_name):\n",
    "        self.user.last_name = last_name\n",
    "        return self\n",
    "    \n",
    "    def build(self):\n",
    "        return self.user"
   ]
  },
  {
   "cell_type": "code",
   "execution_count": 30,
   "metadata": {},
   "outputs": [
    {
     "name": "stdout",
     "output_type": "stream",
     "text": [
      "username: john, password: 1234, email: john@example.com, first_name: John, last_name: Doe\n"
     ]
    }
   ],
   "source": [
    "user = UserBuilder() \\\n",
    "    .set_username('john') \\\n",
    "    .set_password('1234') \\\n",
    "    .set_email('john@example.com') \\\n",
    "    .set_first_name('John') \\\n",
    "    .set_last_name('Doe') \\\n",
    "    .build()\n",
    "    \n",
    "print(user)"
   ]
  }
 ],
 "metadata": {
  "kernelspec": {
   "display_name": "Python 3",
   "language": "python",
   "name": "python3"
  },
  "language_info": {
   "codemirror_mode": {
    "name": "ipython",
    "version": 3
   },
   "file_extension": ".py",
   "mimetype": "text/x-python",
   "name": "python",
   "nbconvert_exporter": "python",
   "pygments_lexer": "ipython3",
   "version": "3.11.8"
  }
 },
 "nbformat": 4,
 "nbformat_minor": 2
}
