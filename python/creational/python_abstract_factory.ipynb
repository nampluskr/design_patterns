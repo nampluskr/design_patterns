{
 "cells": [
  {
   "cell_type": "markdown",
   "metadata": {},
   "source": [
    "## Abstract Factory Pattern: NoCodeProgram\n",
    "\n",
    "- https://github.com/NoCodeProgram/DesignPatterns/blob/main/Creational/AbstractFactoryP.ipynb"
   ]
  },
  {
   "cell_type": "code",
   "execution_count": 10,
   "metadata": {},
   "outputs": [],
   "source": [
    "## Interface (Buttons)\n",
    "class Button:\n",
    "    def click(self):\n",
    "        pass\n",
    "\n",
    "class DarkButton(Button):\n",
    "    def click(self):\n",
    "        print(\"dark click\")\n",
    "\n",
    "class LightButton(Button):\n",
    "    def click(self):\n",
    "        print(\"light click\")\n",
    "\n",
    "## Interface (CheckBoxes)\n",
    "class CheckBox:\n",
    "    def check(self):\n",
    "        pass\n",
    "\n",
    "class DarkCheckBox(CheckBox):\n",
    "    def check(self):\n",
    "        print(\"dark check\")\n",
    "\n",
    "class LightCheckBox(CheckBox):\n",
    "    def check(self):\n",
    "        print(\"light check\")\n",
    "\n",
    "## Interface (ScrollBars)\n",
    "class ScrollBar:\n",
    "    def scroll(self):\n",
    "        pass\n",
    "\n",
    "class DarkScrollBar(ScrollBar):\n",
    "    def scroll(self):\n",
    "        print(\"dark scroll\")\n",
    "\n",
    "class LightScrollBar(ScrollBar):\n",
    "    def scroll(self):\n",
    "        print(\"light scroll\")"
   ]
  },
  {
   "cell_type": "code",
   "execution_count": 11,
   "metadata": {},
   "outputs": [],
   "source": [
    "## Interface (Factories)\n",
    "class UIFactory:\n",
    "    def get_button(self):\n",
    "        pass\n",
    "\n",
    "    def get_checkbox(self):\n",
    "        pass\n",
    "\n",
    "    def get_scrollbar(self):\n",
    "        pass\n",
    "\n",
    "class DarkUIFactory(UIFactory):\n",
    "    def get_button(self):\n",
    "        return DarkButton()\n",
    "\n",
    "    def get_checkbox(self):\n",
    "        return DarkCheckBox()\n",
    "\n",
    "    def get_scrollbar(self):\n",
    "        return DarkScrollBar()\n",
    "\n",
    "class LightUIFactory(UIFactory):\n",
    "    def get_button(self):\n",
    "        return LightButton()\n",
    "\n",
    "    def get_checkbox(self):\n",
    "        return LightCheckBox()\n",
    "\n",
    "    def get_scrollbar(self):\n",
    "        return LightScrollBar()"
   ]
  },
  {
   "cell_type": "code",
   "execution_count": null,
   "metadata": {},
   "outputs": [],
   "source": [
    "dark_factory = DarkUIFactory()\n",
    "dark_button = dark_factory.get_button()\n",
    "dark_checkbox = dark_factory.get_checkbox()\n",
    "dark_scrollbar = dark_factory.get_scrollbar()\n",
    "\n",
    "dark_button.click()\n",
    "dark_checkbox.check()\n",
    "dark_scrollbar.scroll()"
   ]
  },
  {
   "cell_type": "code",
   "execution_count": null,
   "metadata": {},
   "outputs": [],
   "source": [
    "light_factory = LightUIFactory()\n",
    "light_button = light_factory.get_button()\n",
    "light_checkbox = light_factory.get_checkbox()\n",
    "light_scrollbar = light_factory.get_scrollbar()\n",
    "\n",
    "light_button.click()\n",
    "light_checkbox.check()\n",
    "light_scrollbar.scroll()"
   ]
  },
  {
   "cell_type": "markdown",
   "metadata": {},
   "source": [
    "## Abstract Factory Pattern: Refactoring Guru\n",
    "\n",
    "- https://refactoring.guru/ko/design-patterns/abstract-factory\n",
    "\n",
    "![abstract factory](../images/abstract_factory.png)"
   ]
  },
  {
   "cell_type": "code",
   "execution_count": 12,
   "metadata": {},
   "outputs": [],
   "source": [
    "from __future__ import annotations\n",
    "from abc import ABC, abstractmethod\n",
    "\n",
    "## ProductA\n",
    "class AbstractProductA(ABC):\n",
    "    @abstractmethod\n",
    "    def useful_function_a(self):\n",
    "        pass\n",
    "\n",
    "class ConcreteProductA1(AbstractProductA):\n",
    "    def useful_function_a(self):\n",
    "        return \"The result of the product A1.\"\n",
    "\n",
    "class ConcreteProductA2(AbstractProductA):\n",
    "    def useful_function_a(self):\n",
    "        return \"The result of the product A2.\"\n",
    "\n",
    "## ProductB\n",
    "class AbstractProductB(ABC):\n",
    "    @abstractmethod\n",
    "    def useful_function_b(self):\n",
    "        pass\n",
    "    \n",
    "    @abstractmethod\n",
    "    def another_useful_function_b(self, collaborator):\n",
    "        pass\n",
    "    \n",
    "class ConcreteProductB1(AbstractProductB):\n",
    "    def useful_function_b(self):\n",
    "        return \"The result of the product B1.\"\n",
    "    \n",
    "    def another_useful_function_b(self, collaborator: AbstractProductA):\n",
    "        result = collaborator.useful_function_a()\n",
    "        return f\"The result of the B1 collaborating with the ({result})\"\n",
    "    \n",
    "class ConcreteProductB2(AbstractProductB):\n",
    "    def useful_function_b(self):\n",
    "        return \"The result of the product B2.\"\n",
    "    \n",
    "    def another_useful_function_b(self, collaborator: AbstractProductA):\n",
    "        result = collaborator.useful_function_a()\n",
    "        return f\"The result of the B2 collaborating with the ({result})\""
   ]
  },
  {
   "cell_type": "code",
   "execution_count": 13,
   "metadata": {},
   "outputs": [],
   "source": [
    "## Factories\n",
    "class AbstractFactory(ABC):\n",
    "    @abstractmethod\n",
    "    def create_product_a(self):\n",
    "        pass\n",
    "    \n",
    "    @abstractmethod\n",
    "    def create_product_b(self):\n",
    "        pass\n",
    "    \n",
    "class ConcreteFactory1(AbstractFactory):\n",
    "    def create_product_a(self):\n",
    "        return ConcreteProductA1()\n",
    "    \n",
    "    def create_product_b(self):\n",
    "        return ConcreteProductB1()\n",
    "    \n",
    "class ConcreteFactory2(AbstractFactory):\n",
    "    def create_product_a(self):\n",
    "        return ConcreteProductA2()\n",
    "    \n",
    "    def create_product_b(self):\n",
    "        return ConcreteProductB2()"
   ]
  },
  {
   "cell_type": "code",
   "execution_count": 15,
   "metadata": {},
   "outputs": [
    {
     "name": "stdout",
     "output_type": "stream",
     "text": [
      "Client: Testing client code with the first factory type:\n",
      "The result of the product B1.\n",
      "The result of the B1 collaborating with the (The result of the product A1.)\n",
      "\n",
      "Client: Testing the same client code with the second factory type:\n",
      "The result of the product B2.\n",
      "The result of the B2 collaborating with the (The result of the product A2.)"
     ]
    }
   ],
   "source": [
    "def client_code(factory):\n",
    "    product_a = factory.create_product_a()\n",
    "    product_b = factory.create_product_b()\n",
    "    \n",
    "    print(f\"{product_b.useful_function_b()}\")\n",
    "    print(f\"{product_b.another_useful_function_b(product_a)}\", end=\"\")\n",
    "    \n",
    "print(\"Client: Testing client code with the first factory type:\")\n",
    "client_code(ConcreteFactory1())\n",
    "\n",
    "print(\"\\n\")\n",
    "print(\"Client: Testing the same client code with the second factory type:\")\n",
    "client_code(ConcreteFactory2())"
   ]
  },
  {
   "cell_type": "markdown",
   "metadata": {},
   "source": [
    "## Abstract Factory Pattern: python101.tistory.com\n",
    "\n",
    "- [[디자인 패턴] 추상 팩토리 패턴 (Abstract Factory Pattern) - python 예제 코드](https://python101.tistory.com/entry/%EB%94%94%EC%9E%90%EC%9D%B8-%ED%8C%A8%ED%84%B4-%EC%B6%94%EC%83%81-%ED%8C%A9%ED%86%A0%EB%A6%AC-%ED%8C%A8%ED%84%B4-Abstract-Factory-Pattern-python-%EC%98%88%EC%A0%9C-%EC%BD%94%EB%93%9C)"
   ]
  },
  {
   "cell_type": "code",
   "execution_count": 2,
   "metadata": {},
   "outputs": [],
   "source": [
    "from abc import ABC, abstractmethod\n",
    "\n",
    "# 추상 제품: 동물 클래스\n",
    "class Animal(ABC):\n",
    "    @abstractmethod\n",
    "    def speak(self):\n",
    "        pass\n",
    "\n",
    "# 구체적인 제품: 강아지 클래스\n",
    "class Dog(Animal):\n",
    "    def speak(self):\n",
    "        return \"멍멍\"\n",
    "\n",
    "# 구체적인 제품: 고양이 클래스\n",
    "class Cat(Animal):\n",
    "    def speak(self):\n",
    "        return \"야옹\""
   ]
  },
  {
   "cell_type": "code",
   "execution_count": 3,
   "metadata": {},
   "outputs": [],
   "source": [
    "# 추상 제품: 색상 클래스\n",
    "class Color(ABC):\n",
    "    @abstractmethod\n",
    "    def fill(self):\n",
    "        pass\n",
    "\n",
    "# 구체적인 제품: 검정색 클래스\n",
    "class Black(Color):\n",
    "    def fill(self):\n",
    "        return \"검정색\"\n",
    "\n",
    "# 구체적인 제품: 갈색 클래스\n",
    "class Brown(Color):\n",
    "    def fill(self):\n",
    "        return \"갈색\""
   ]
  },
  {
   "cell_type": "code",
   "execution_count": 4,
   "metadata": {},
   "outputs": [],
   "source": [
    "# 추상 팩토리: 동물과 색상을 생성하는 인터페이스\n",
    "class AbstractFactory(ABC):\n",
    "    @abstractmethod\n",
    "    def create_animal(self):\n",
    "        pass\n",
    "    \n",
    "    @abstractmethod\n",
    "    def create_color(self):\n",
    "        pass\n",
    "    \n",
    "# 구체적인 팩토리: 강아지와 검정색을 생성하는 팩토리\n",
    "class DogBlackFactory(AbstractFactory):\n",
    "    def create_animal(self):\n",
    "        return Dog()\n",
    "    \n",
    "    def create_color(self):\n",
    "        return Black()\n",
    "\n",
    "# 구체적인 팩토리: 고양이와 갈색을 생성하는 팩토리\n",
    "class CatBrownFactory(AbstractFactory):\n",
    "    def create_animal(self):\n",
    "        return Cat()\n",
    "    \n",
    "    def create_color(self):\n",
    "        return Brown()"
   ]
  },
  {
   "cell_type": "code",
   "execution_count": 5,
   "metadata": {},
   "outputs": [
    {
     "name": "stdout",
     "output_type": "stream",
     "text": [
      "멍멍 소리를 내며 검정색 색상을 가진 동물입니다.\n",
      "야옹 소리를 내며 갈색 색상을 가진 동물입니다.\n"
     ]
    }
   ],
   "source": [
    "# 클라이언트\n",
    "class Client:\n",
    "    def __init__(self, factory):\n",
    "        self.animal = factory.create_animal()\n",
    "        self.color = factory.create_color()\n",
    "        \n",
    "    def show(self):\n",
    "        animal_sound = self.animal.speak()\n",
    "        color_fill = self.color.fill()\n",
    "        print(f\"{animal_sound} 소리를 내며 {color_fill} 색상을 가진 동물입니다.\")\n",
    "        \n",
    "# 클라이언트 코드\n",
    "dog_black_factory = DogBlackFactory()\n",
    "cat_brown_factory = CatBrownFactory()\n",
    "\n",
    "dog_black_client = Client(dog_black_factory)\n",
    "dog_black_client.show()\n",
    "\n",
    "cat_brown_client = Client(cat_brown_factory)\n",
    "cat_brown_client.show()"
   ]
  }
 ],
 "metadata": {
  "kernelspec": {
   "display_name": "Python 3",
   "language": "python",
   "name": "python3"
  },
  "language_info": {
   "codemirror_mode": {
    "name": "ipython",
    "version": 3
   },
   "file_extension": ".py",
   "mimetype": "text/x-python",
   "name": "python",
   "nbconvert_exporter": "python",
   "pygments_lexer": "ipython3",
   "version": "3.11.8"
  }
 },
 "nbformat": 4,
 "nbformat_minor": 2
}
