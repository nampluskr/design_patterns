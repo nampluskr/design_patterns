{
 "cells": [
  {
   "cell_type": "markdown",
   "metadata": {},
   "source": [
    "## [Structural] Facade Method"
   ]
  },
  {
   "cell_type": "markdown",
   "metadata": {},
   "source": [
    "![Factory Method](https://www.planttext.com/plantuml/png/XPB1ReCm38RlaV8EFj9Le9RTTcf1chHp7o0or5AZDW75vj1DVVUn0e8AskKIvV_itxQS7Gi6QTn5ApvRNsD01-K5cVSYmHQDq5TP-OFz9jXeTIVmYIKU2NwqWlR4OBWf-Cf2RWiVS1WU-pbFfpoRy_SfptiUT_SQZB7UYZ6HHqTj94jOTIn9XfYgfe1YAsymMdKnSrICwARLCDRO-6IqiTJCPlkqGFhQFnlybysMKlBNAV_KxnVs5iSFsrcIisKv_xCvsLOcLyiL7Bc20ckr8tzilyyl)"
   ]
  },
  {
   "cell_type": "code",
   "execution_count": 1,
   "metadata": {},
   "outputs": [],
   "source": [
    "from __future__ import annotations\n",
    "from abc import ABC, abstractmethod\n",
    "from typing import Optional"
   ]
  },
  {
   "cell_type": "code",
   "execution_count": 1,
   "metadata": {},
   "outputs": [],
   "source": [
    "class SubsystemA:\n",
    "    \"\"\"서브시스템 1\"\"\"\n",
    "    def __init__(self, name: str):\n",
    "        self._name = name\n",
    "\n",
    "    def operation1(self) -> str:\n",
    "        return f\"SubsystemA ({self._name}) Operation 1\"\n",
    "\n",
    "    def operation2(self) -> str:\n",
    "        return f\"SubsystemA ({self._name}) Operation 2\"\n",
    "\n",
    "class SubsystemB:\n",
    "    \"\"\"서브시스템 2\"\"\"\n",
    "    def operation1(self) -> str:\n",
    "        return \"SubsystemB Operation 1\"\n",
    "\n",
    "class SubsystemC:\n",
    "    \"\"\"서브시스템 3\"\"\"\n",
    "    def operation1(self) -> str:\n",
    "        return \"SubsystemC Operation 1\"\n",
    "\n",
    "    def operation2(self) -> str:\n",
    "        return \"SubsystemC Operation 2\"\n",
    "\n",
    "class Facade:\n",
    "    \"\"\"퍼사드\"\"\"\n",
    "    def __init__(self, name: str):\n",
    "        self._subsystem1 = SubsystemA(name)\n",
    "        self._subsystem2 = SubsystemB()\n",
    "        self._subsystem3 = SubsystemC()\n",
    "\n",
    "    def operation_a(self) -> str:\n",
    "        result = \"Facade Operation A:\\n\"\n",
    "        result += self._subsystem1.operation1() + \"\\n\"\n",
    "        result += self._subsystem2.operation1() + \"\\n\"\n",
    "        return result\n",
    "\n",
    "    def operation_b(self) -> str:\n",
    "        result = \"Facade Operation B:\\n\"\n",
    "        result += self._subsystem1.operation2() + \"\\n\"\n",
    "        result += self._subsystem3.operation1() + \"\\n\"\n",
    "        result += self._subsystem3.operation2() + \"\\n\"\n",
    "        return result"
   ]
  },
  {
   "cell_type": "code",
   "execution_count": 2,
   "metadata": {},
   "outputs": [
    {
     "name": "stdout",
     "output_type": "stream",
     "text": [
      "Facade Operation A:\n",
      "SubsystemA (MySubsystem) Operation 1\n",
      "SubsystemB Operation 1\n",
      "\n",
      "Facade Operation B:\n",
      "SubsystemA (MySubsystem) Operation 2\n",
      "SubsystemC Operation 1\n",
      "SubsystemC Operation 2\n",
      "\n"
     ]
    }
   ],
   "source": [
    "\"\"\"클라이언트 코드\"\"\"\n",
    "facade = Facade(\"MySubsystem\")\n",
    "\n",
    "print(facade.operation_a())\n",
    "print(facade.operation_b())"
   ]
  },
  {
   "cell_type": "markdown",
   "metadata": {},
   "source": [
    "### Plant UML"
   ]
  },
  {
   "cell_type": "markdown",
   "metadata": {},
   "source": [
    "```plantuml\n",
    "@startuml\n",
    "skinparam classAttributeIconSize 0\n",
    "class Facade {\n",
    "    - _subsystem1 : SubsystemA\n",
    "    - _subsystem2 : SubsystemB\n",
    "    - _subsystem3 : SubsystemC\n",
    "    --\n",
    "    + __init__(name : str)\n",
    "    ..\n",
    "    + operation_a() : str\n",
    "    + operation_b() : str\n",
    "}\n",
    "\n",
    "class SubsystemA {\n",
    "    - _name : str\n",
    "    + operation1() : str\n",
    "    + operation2() : str\n",
    "}\n",
    "\n",
    "class SubsystemB {\n",
    "    + operation1() : str\n",
    "}\n",
    "\n",
    "class SubsystemC {\n",
    "    + operation1() : str\n",
    "    + operation2() : str\n",
    "}\n",
    "\n",
    "Facade *-- SubsystemA\n",
    "Facade *-- SubsystemB\n",
    "Facade *-- SubsystemC\n",
    "\n",
    "hide empty members\n",
    "@enduml\n",
    "```"
   ]
  }
 ],
 "metadata": {
  "kernelspec": {
   "display_name": "Python 3",
   "language": "python",
   "name": "python3"
  },
  "language_info": {
   "codemirror_mode": {
    "name": "ipython",
    "version": 3
   },
   "file_extension": ".py",
   "mimetype": "text/x-python",
   "name": "python",
   "nbconvert_exporter": "python",
   "pygments_lexer": "ipython3",
   "version": "3.12.4"
  }
 },
 "nbformat": 4,
 "nbformat_minor": 2
}
