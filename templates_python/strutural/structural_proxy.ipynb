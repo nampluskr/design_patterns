{
 "cells": [
  {
   "cell_type": "markdown",
   "metadata": {},
   "source": [
    "## [Structural] Proxy Method"
   ]
  },
  {
   "cell_type": "markdown",
   "metadata": {},
   "source": [
    "![Factory Method](https://www.planttext.com/plantuml/png/ZP4zQmCn38PtW_-3nfGGo7nJEdOB2MGzP4UbRlnnaMJ8vRZ_7bDQsj8sLAFG-po2ToEAh3L5Q-GKye2C2Nn4aKTL3gugFVcIz-5AiBOcP2L-Ha-mh-wLlC9a3RHPmeHEbD7h34pdIgAB1sjcQwnvuy6EC7waGXeY9SegFq6_fm-XlObno-KotecleEVcwULztNtLtZSqjBQZKF8_99_yR-mLUCmzUayDs84h9VubVGb70ag3Zf0eEMAnPaFvsBgu0G00)"
   ]
  },
  {
   "cell_type": "code",
   "execution_count": 1,
   "metadata": {},
   "outputs": [],
   "source": [
    "from __future__ import annotations\n",
    "from abc import ABC, abstractmethod\n",
    "from typing import Optional"
   ]
  },
  {
   "cell_type": "code",
   "execution_count": 2,
   "metadata": {},
   "outputs": [],
   "source": [
    "class Subject(ABC):\n",
    "    \"\"\"주체 인터페이스\"\"\"\n",
    "    @abstractmethod\n",
    "    def request(self) -> None:\n",
    "        \"\"\"요청\"\"\"\n",
    "        pass\n",
    "\n",
    "class RealSubject(Subject):\n",
    "    \"\"\"실제 주체\"\"\"\n",
    "    def __init__(self):\n",
    "        print(\"RealSubject 생성\")\n",
    "\n",
    "    def __del__(self):\n",
    "        print(\"RealSubject 소멸\")\n",
    "\n",
    "    def request(self) -> None:\n",
    "        print(\"RealSubject의 request() 호출\")\n",
    "\n",
    "class VirtualProxy(Subject):\n",
    "    \"\"\"가상 프록시\"\"\"\n",
    "    def __init__(self):\n",
    "        self._real_subject: Optional[RealSubject] = None\n",
    "\n",
    "    def request(self) -> None:\n",
    "        if self._real_subject is None:\n",
    "            self._real_subject = RealSubject()\n",
    "        self._real_subject.request()\n",
    "\n",
    "class ProtectionProxy(Subject):\n",
    "    \"\"\"보호 프록시\"\"\"\n",
    "    def __init__(self, subject: Subject, can_access: bool):\n",
    "        self._subject = subject\n",
    "        self.can_access = can_access\n",
    "\n",
    "    def request(self) -> None:\n",
    "        if self.can_access:\n",
    "            print(\"접근 권한 있음. 요청 전달\")\n",
    "            self._subject.request()\n",
    "        else:\n",
    "            print(\"접근 권한 없음.\")"
   ]
  },
  {
   "cell_type": "code",
   "execution_count": 3,
   "metadata": {},
   "outputs": [
    {
     "name": "stdout",
     "output_type": "stream",
     "text": [
      "가상 프록시 사용:\n",
      "RealSubject 생성\n",
      "RealSubject의 request() 호출\n",
      "RealSubject의 request() 호출\n"
     ]
    }
   ],
   "source": [
    "\"\"\"클라이언트 코드\"\"\"\n",
    "# 가상 프록시 사용 예시\n",
    "print(\"가상 프록시 사용:\")\n",
    "virtual_proxy = VirtualProxy()\n",
    "virtual_proxy.request()  # 이 시점에 RealSubject 객체 생성\n",
    "virtual_proxy.request()  # 이미 생성된 객체 사용"
   ]
  },
  {
   "cell_type": "code",
   "execution_count": 4,
   "metadata": {},
   "outputs": [
    {
     "name": "stdout",
     "output_type": "stream",
     "text": [
      "보호 프록시 사용:\n",
      "RealSubject 생성\n",
      "RealSubject 생성\n",
      "\n",
      "접근 권한 있음. 요청 전달\n",
      "RealSubject의 request() 호출\n",
      "접근 권한 없음.\n"
     ]
    }
   ],
   "source": [
    "# 보호 프록시 사용 예시\n",
    "print(\"보호 프록시 사용:\")\n",
    "real_subject_instance = RealSubject()\n",
    "protection_proxy1 = ProtectionProxy(real_subject_instance, True)  # 접근 권한 있음\n",
    "protection_proxy2 = ProtectionProxy(RealSubject(), False)    # 접근 권한 없음\n",
    "\n",
    "print()\n",
    "protection_proxy1.request()\n",
    "protection_proxy2.request()"
   ]
  },
  {
   "cell_type": "markdown",
   "metadata": {},
   "source": [
    "### Plant UML"
   ]
  },
  {
   "cell_type": "markdown",
   "metadata": {},
   "source": [
    "```plantuml\n",
    "@startuml\n",
    "skinparam classAttributeIconSize 0\n",
    "interface Subject {\n",
    "    + {abstract} request()\n",
    "}\n",
    "\n",
    "class RealSubject implements Subject {\n",
    "    + request()\n",
    "}\n",
    "\n",
    "class VirtualProxy implements Subject {\n",
    "    - _real_subject : RealSubject\n",
    "    + request()\n",
    "}\n",
    "\n",
    "class ProtectionProxy implements Subject {\n",
    "    - _subject : Subject\n",
    "    - can_access : bool\n",
    "    + request()\n",
    "}\n",
    "\n",
    "hide empty members\n",
    "@enduml\n",
    "```"
   ]
  }
 ],
 "metadata": {
  "kernelspec": {
   "display_name": "Python 3",
   "language": "python",
   "name": "python3"
  },
  "language_info": {
   "codemirror_mode": {
    "name": "ipython",
    "version": 3
   },
   "file_extension": ".py",
   "mimetype": "text/x-python",
   "name": "python",
   "nbconvert_exporter": "python",
   "pygments_lexer": "ipython3",
   "version": "3.12.4"
  }
 },
 "nbformat": 4,
 "nbformat_minor": 2
}
