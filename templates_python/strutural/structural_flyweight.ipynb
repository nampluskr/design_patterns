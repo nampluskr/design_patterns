{
 "cells": [
  {
   "cell_type": "markdown",
   "metadata": {},
   "source": [
    "## [Structural] Flyweight Method"
   ]
  },
  {
   "cell_type": "markdown",
   "metadata": {},
   "source": [
    "![Flyweight Method](https://www.planttext.com/plantuml/png/fP8zQyCm48PtWVx3ZUc78NEc54eWS-XKYZdBb_Y891lTXTO9-UyH9ROBdaArQD3xFiznQ2sAIK_1MoD7ZXqc3E0yYhof9gvEIblNnXsV2PRMS5HAUtG46zz_4nyQXOiraCyBNB0IJUZq2cr72PNRkA2VZ8d2himc9LX1pZnPSxN6cbyHx1fCL4z03fsdG55bRYcWp3FCYSCC3ua_eZoaHk__xHoncxoeDlKJVJ-yIEwzizFFN7wT2b-3xq1QZk75aVgx9rzZ-EwSsPwBuc_8cePh0WgTzX0eL9J4cZN5Ed-96m00)"
   ]
  },
  {
   "cell_type": "code",
   "execution_count": 1,
   "metadata": {},
   "outputs": [],
   "source": [
    "from __future__ import annotations\n",
    "from abc import ABC, abstractmethod\n",
    "from typing import Dict, Optional"
   ]
  },
  {
   "cell_type": "code",
   "execution_count": 2,
   "metadata": {},
   "outputs": [],
   "source": [
    "class Flyweight(ABC):\n",
    "    \"\"\"플라이웨이트 인터페이스\"\"\"\n",
    "    @abstractmethod\n",
    "    def operation(self, extrinsic_state: str) -> None:\n",
    "        \"\"\"연산\"\"\"\n",
    "        pass\n",
    "\n",
    "class SharedFlyweight(Flyweight):\n",
    "    \"\"\"공유 플라이웨이트 객체\"\"\"\n",
    "    def __init__(self, intrinsic_state: str):\n",
    "        self._intrinsic_state = intrinsic_state\n",
    "\n",
    "    def operation(self, extrinsic_state: str) -> None:\n",
    "        print(f\"SharedFlyweight: Intrinsic = {self._intrinsic_state}, Extrinsic = {extrinsic_state}\")\n",
    "\n",
    "class UnsharedFlyweight(Flyweight):\n",
    "    \"\"\"공유되지 않는 플라이웨이트 객체\"\"\"\n",
    "    def __init__(self, all_state: str):\n",
    "        self.all_state = all_state\n",
    "\n",
    "    def operation(self, extrinsic_state: str) -> None:\n",
    "        print(f\"UnsharedFlywieght: All State = {self.all_state}, Extrinsic = {extrinsic_state}\")\n",
    "\n",
    "class FlyweightFactory:\n",
    "    \"\"\"플라이웨이트 팩토리\"\"\"\n",
    "    def __init__(self):\n",
    "        self.flyweights: Dict[str, Flyweight] = {}\n",
    "\n",
    "    def get_flyweight(self, key: str) -> Flyweight:\n",
    "        if key not in self.flyweights:\n",
    "            print(f\"Creating new Flyweight: {key}\")\n",
    "            self.flyweights[key] = SharedFlyweight(key)\n",
    "        else:\n",
    "            print(f\"Reusing existing Flyweight: {key}\")\n",
    "        return self.flyweights[key]"
   ]
  },
  {
   "cell_type": "code",
   "execution_count": 3,
   "metadata": {},
   "outputs": [
    {
     "name": "stdout",
     "output_type": "stream",
     "text": [
      "Creating new Flyweight: A\n",
      "SharedFlyweight: Intrinsic = A, Extrinsic = Context 1\n",
      "Creating new Flyweight: B\n",
      "SharedFlyweight: Intrinsic = B, Extrinsic = Context 2\n",
      "Reusing existing Flyweight: A\n",
      "SharedFlyweight: Intrinsic = A, Extrinsic = Context 3\n",
      "UnsharedFlywieght: All State = Unshared Data, Extrinsic = Context 4\n"
     ]
    }
   ],
   "source": [
    "\"\"\"클라이언트 코드\"\"\"\n",
    "factory = FlyweightFactory()\n",
    "\n",
    "flyweight1 = factory.get_flyweight(\"A\")\n",
    "flyweight1.operation(\"Context 1\")\n",
    "\n",
    "flyweight2 = factory.get_flyweight(\"B\")\n",
    "flyweight2.operation(\"Context 2\")\n",
    "\n",
    "flyweight3 = factory.get_flyweight(\"A\")  # 기존 객체 재사용\n",
    "flyweight3.operation(\"Context 3\")\n",
    "\n",
    "# UnsharedFlyweight 사용 예시\n",
    "unshared_flyweight = UnsharedFlyweight(\"Unshared Data\")\n",
    "unshared_flyweight.operation(\"Context 4\")"
   ]
  },
  {
   "cell_type": "markdown",
   "metadata": {},
   "source": [
    "### Plant UML"
   ]
  },
  {
   "cell_type": "markdown",
   "metadata": {},
   "source": [
    "```plantuml\n",
    "@startuml\n",
    "skinparam classAttributeIconSize 0\n",
    "interface Flyweight {\n",
    "    + {abstract} operation(extrinsic_state : str)\n",
    "}\n",
    "\n",
    "class SharedFlyweight implements Flyweight {\n",
    "    - _intrinsic_state : str\n",
    "    + operation(extrinsic_state : str)\n",
    "}\n",
    "\n",
    "class UnsharedFlyweight implements Flyweight {\n",
    "    - all_state : str\n",
    "    + operation(extrinsic_state : str)\n",
    "}\n",
    "\n",
    "class FlyweightFactory {\n",
    "    - flyweights : Dict[str, Flyweight]\n",
    "    + get_flyweight(key : str) : Flyweight\n",
    "}\n",
    "\n",
    "FlyweightFactory *-- Flyweight\n",
    "\n",
    "hide empty members\n",
    "@enduml\n",
    "```"
   ]
  }
 ],
 "metadata": {
  "kernelspec": {
   "display_name": "Python 3",
   "language": "python",
   "name": "python3"
  },
  "language_info": {
   "codemirror_mode": {
    "name": "ipython",
    "version": 3
   },
   "file_extension": ".py",
   "mimetype": "text/x-python",
   "name": "python",
   "nbconvert_exporter": "python",
   "pygments_lexer": "ipython3",
   "version": "3.12.4"
  }
 },
 "nbformat": 4,
 "nbformat_minor": 2
}
