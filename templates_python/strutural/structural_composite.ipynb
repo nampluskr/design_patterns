{
 "cells": [
  {
   "cell_type": "markdown",
   "metadata": {},
   "source": [
    "## [Structural] Composite Method"
   ]
  },
  {
   "cell_type": "markdown",
   "metadata": {},
   "source": [
    "![Composite Method](https://www.planttext.com/plantuml/png/jL91JWCn3Bn7oXzyt89MuemgLCG9gJSUWBo9eHORPvMuI53wTy9kior2XHCvUiRZ6SUhh9Xq6tfhyWlBW0a3k1vplbLDt6sLxbsK1tudkB86kwm9dKuKk8jXY4AYiBC6ohk4NQNi8GwKK3bAiwWeUj-ukUdwA30p4eNuId-GdaaV1GCrYmANSTRihR5cChKcVAf-MXXvbNMkUwf_ytiYECxFh7IYwZRS-qHI5DQSTJbxlFbbyB-bF-V_-3_BZxOTD_EZEASx86FGYmeSJ9GJK6J9Nw8RzWGK1ds3GA6ZLAeh4b-Ew1C0)"
   ]
  },
  {
   "cell_type": "code",
   "execution_count": 4,
   "metadata": {},
   "outputs": [],
   "source": [
    "from __future__ import annotations\n",
    "from abc import ABC, abstractmethod\n",
    "from typing import List, Optional"
   ]
  },
  {
   "cell_type": "code",
   "execution_count": 5,
   "metadata": {},
   "outputs": [],
   "source": [
    "class Component(ABC):\n",
    "    \"\"\"컴포넌트 인터페이스\"\"\"\n",
    "    @abstractmethod\n",
    "    def operation(self) -> None:\n",
    "        \"\"\"연산\"\"\"\n",
    "        pass\n",
    "\n",
    "    def add(self, component: \"Component\") -> None:\n",
    "        \"\"\"자식 추가 (Leaf에서는 구현 없음)\"\"\"\n",
    "        pass\n",
    "\n",
    "    def remove(self, component: \"Component\") -> None:\n",
    "        \"\"\"자식 제거 (Leaf에서는 구현 없음)\"\"\"\n",
    "        pass\n",
    "\n",
    "    def get_name(self) -> str:\n",
    "        \"\"\"이름 반환\"\"\"\n",
    "        return \"\"\n",
    "\n",
    "class Leaf(Component):\n",
    "    \"\"\"잎 (더 이상 자식을 가질 수 없는 객체)\"\"\"\n",
    "    def __init__(self, name: str):\n",
    "        self._name = name\n",
    "\n",
    "    def get_name(self) -> str:\n",
    "        return self._name\n",
    "\n",
    "    def operation(self) -> None:\n",
    "        print(f\"Leaf {self._name} operation.\")\n",
    "\n",
    "class Composite(Component):\n",
    "    \"\"\"복합체 (자식을 가질 수 있는 객체)\"\"\"\n",
    "    def __init__(self, name: str):\n",
    "        self._name = name\n",
    "        self._children: List[Component] = []\n",
    "\n",
    "    def __del__(self):\n",
    "        # 파이썬은 가비지 컬렉션이 있어서 명시적 삭제는 필요없지만, 설명을 위해 남겨둡니다.\n",
    "        print(f\"~Composite {self._name}()\")\n",
    "        #for child in self._children:\n",
    "        #   del child\n",
    "        #self._children.clear()\n",
    "\n",
    "    def add(self, component: Component) -> None:\n",
    "        self._children.append(component)\n",
    "\n",
    "    def remove(self, component: Component) -> None:\n",
    "      try:\n",
    "        self._children.remove(component)\n",
    "      except ValueError:\n",
    "        print(f\"Component {component.get_name()} not found in {self._name}\")\n",
    "\n",
    "    def get_name(self) -> str:\n",
    "        return self._name\n",
    "\n",
    "    def operation(self) -> None:\n",
    "        print(f\"Composite {self._name} operation.\")\n",
    "        for child in self._children:\n",
    "            child.operation()"
   ]
  },
  {
   "cell_type": "code",
   "execution_count": 6,
   "metadata": {},
   "outputs": [
    {
     "name": "stdout",
     "output_type": "stream",
     "text": [
      "~Composite Root()\n",
      "~Composite Branch 1()\n",
      "~Composite Branch 2()\n",
      "Composite Root operation.\n",
      "Composite Branch 1 operation.\n",
      "Leaf Leaf 1 operation.\n",
      "Leaf Leaf 2 operation.\n",
      "Composite Branch 2 operation.\n",
      "Leaf Leaf 3 operation.\n"
     ]
    }
   ],
   "source": [
    "# 복합체 생성\n",
    "root = Composite(\"Root\")\n",
    "branch1 = Composite(\"Branch 1\")\n",
    "branch2 = Composite(\"Branch 2\")\n",
    "\n",
    "# 잎 생성\n",
    "leaf1 = Leaf(\"Leaf 1\")\n",
    "leaf2 = Leaf(\"Leaf 2\")\n",
    "leaf3 = Leaf(\"Leaf 3\")\n",
    "\n",
    "# 복합체에 잎 추가\n",
    "branch1.add(leaf1)\n",
    "branch1.add(leaf2)\n",
    "branch2.add(leaf3)\n",
    "\n",
    "# 복합체에 다른 복합체 추가\n",
    "root.add(branch1)\n",
    "root.add(branch2)\n",
    "\n",
    "# 전체 구조에 대한 연산 수행\n",
    "root.operation()"
   ]
  },
  {
   "cell_type": "markdown",
   "metadata": {},
   "source": [
    "### Plant UML"
   ]
  },
  {
   "cell_type": "markdown",
   "metadata": {},
   "source": [
    "```plantuml\n",
    "@startuml\n",
    "skinparam classAttributeIconSize 0\n",
    "abstract class Component {\n",
    "    + {abstract} operation()\n",
    "    + add(component : Component)\n",
    "    + remove(component : Component)\n",
    "    + get_name() : str\n",
    "}\n",
    "\n",
    "class Leaf {\n",
    "    - _name : str\n",
    "    + get_name() : str\n",
    "    + operation()\n",
    "}\n",
    "\n",
    "class Composite {\n",
    "    - _children : List<Component>\n",
    "    - _name : str\n",
    "    + add(component : Component)\n",
    "    + remove(component : Component)\n",
    "    + get_name() : str\n",
    "    + operation()\n",
    "}\n",
    "\n",
    "Component <|-- Leaf\n",
    "Component <|-- Composite\n",
    "Composite *-- Component : contains\n",
    "\n",
    "hide empty members\n",
    "@enduml\n",
    "```"
   ]
  }
 ],
 "metadata": {
  "kernelspec": {
   "display_name": "Python 3",
   "language": "python",
   "name": "python3"
  },
  "language_info": {
   "codemirror_mode": {
    "name": "ipython",
    "version": 3
   },
   "file_extension": ".py",
   "mimetype": "text/x-python",
   "name": "python",
   "nbconvert_exporter": "python",
   "pygments_lexer": "ipython3",
   "version": "3.12.4"
  }
 },
 "nbformat": 4,
 "nbformat_minor": 2
}
