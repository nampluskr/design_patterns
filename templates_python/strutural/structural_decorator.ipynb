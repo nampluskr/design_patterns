{
 "cells": [
  {
   "cell_type": "markdown",
   "metadata": {},
   "source": [
    "## [Structural] Decorator Method"
   ]
  },
  {
   "cell_type": "markdown",
   "metadata": {},
   "source": [
    "![Decorator Method](https://www.planttext.com/plantuml/png/dPB1QW9138Rl0_CEEMhBYcTFsdhnx0CCisF4q9tCaCc2Ldpt3bgx8hP2Smh9doz_8FEYNhIFdJNbWpXxyH52vqjPg0grlU8g95xJ9yBK6c95sVg0y9vYJeoiSBG6Qhp2qRT5nGSzGSeeNYdnQ0mpg5LhJjPOSoRNMGw2YWE3Okumrgmy0lz6k-wx68ObXbHrIVx4DU32JsqszB-xpNMfSyIapeqUgiSNsMJopEETjGNWNf4tjswVtdd7UFiFOv2-DCtjrTRiQ8E0CUi18iOMfLWph_pw5Ly0)"
   ]
  },
  {
   "cell_type": "code",
   "execution_count": 1,
   "metadata": {},
   "outputs": [],
   "source": [
    "from __future__ import annotations\n",
    "from abc import ABC, abstractmethod\n",
    "from typing import Optional"
   ]
  },
  {
   "cell_type": "code",
   "execution_count": 2,
   "metadata": {},
   "outputs": [],
   "source": [
    "class Component(ABC):\n",
    "    \"\"\"컴포넌트 인터페이스\"\"\"\n",
    "    @abstractmethod\n",
    "    def operation(self) -> str:\n",
    "        \"\"\"연산\"\"\"\n",
    "        pass\n",
    "\n",
    "class ConcreteComponent(Component):\n",
    "    \"\"\"구체적인 컴포넌트\"\"\"\n",
    "    def operation(self) -> str:\n",
    "        return \"ConcreteComponent\"\n",
    "\n",
    "class Decorator(Component):\n",
    "    \"\"\"데코레이터 인터페이스\"\"\"\n",
    "    def __init__(self, component: Optional[Component] = None):\n",
    "        self._component = component\n",
    "\n",
    "    def operation(self) -> str:\n",
    "        if self._component:\n",
    "            return self._component.operation()\n",
    "        return \"\"  # component가 None인 경우 빈 문자열 반환\n",
    "\n",
    "class DecoratorA(Decorator):\n",
    "    \"\"\"구체적인 데코레이터 A\"\"\"\n",
    "    def operation(self) -> str:\n",
    "        return \"DecoratorA(\" + super().operation() + \")\"\n",
    "\n",
    "class DecoratorB(Decorator):\n",
    "    \"\"\"구체적인 데코레이터 B\"\"\"\n",
    "    def operation(self) -> str:\n",
    "        return \"DecoratorB[\" + super().operation() + \"]\""
   ]
  },
  {
   "cell_type": "code",
   "execution_count": 3,
   "metadata": {},
   "outputs": [
    {
     "name": "stdout",
     "output_type": "stream",
     "text": [
      "ConcreteComponent\n",
      "DecoratorA(ConcreteComponent)\n",
      "DecoratorB[DecoratorA(ConcreteComponent)]\n"
     ]
    }
   ],
   "source": [
    "# 기본 컴포넌트 생성\n",
    "component = ConcreteComponent()\n",
    "print(component.operation())\n",
    "\n",
    "# DecoratorA로 장식\n",
    "decorator_a = DecoratorA(component)\n",
    "print(decorator_a.operation())\n",
    "\n",
    "# DecoratorB로 추가 장식 (DecoratorA 위에 덧씌움)\n",
    "decorator_b = DecoratorB(decorator_a)\n",
    "print(decorator_b.operation())"
   ]
  },
  {
   "cell_type": "code",
   "execution_count": 4,
   "metadata": {},
   "outputs": [
    {
     "name": "stdout",
     "output_type": "stream",
     "text": [
      "ConcreteComponent\n",
      "DecoratorB[ConcreteComponent]\n",
      "DecoratorA(DecoratorB[ConcreteComponent])\n"
     ]
    }
   ],
   "source": [
    "# 다른 순서로 장식\n",
    "component2 = ConcreteComponent()\n",
    "print(component2.operation())\n",
    "\n",
    "decorator_b2 = DecoratorB(component2)\n",
    "print(decorator_b2.operation())\n",
    "\n",
    "decorator_a2 = DecoratorA(decorator_b2)\n",
    "print(decorator_a2.operation())"
   ]
  },
  {
   "cell_type": "markdown",
   "metadata": {},
   "source": [
    "### Plant UML"
   ]
  },
  {
   "cell_type": "markdown",
   "metadata": {},
   "source": [
    "```plantuml\n",
    "@startuml\n",
    "skinparam classAttributeIconSize 0\n",
    "interface Component {\n",
    "    + {abstract} operation() : str\n",
    "}\n",
    "\n",
    "class ConcreteComponent implements Component {\n",
    "    + operation() : str\n",
    "}\n",
    "\n",
    "abstract class Decorator implements Component {\n",
    "    - _component : Component\n",
    "    --\n",
    "    + __init__(component : Component)\n",
    "    ..\n",
    "    + operation() : str\n",
    "}\n",
    "\n",
    "class DecoratorA extends Decorator {\n",
    "    + operation() : str\n",
    "}\n",
    "\n",
    "class DecoratorB extends Decorator {\n",
    "    + operation() : str\n",
    "}\n",
    "\n",
    "Decorator *-- Component\n",
    "\n",
    "hide empty members\n",
    "@enduml\n",
    "```"
   ]
  }
 ],
 "metadata": {
  "kernelspec": {
   "display_name": "Python 3",
   "language": "python",
   "name": "python3"
  },
  "language_info": {
   "codemirror_mode": {
    "name": "ipython",
    "version": 3
   },
   "file_extension": ".py",
   "mimetype": "text/x-python",
   "name": "python",
   "nbconvert_exporter": "python",
   "pygments_lexer": "ipython3",
   "version": "3.12.4"
  }
 },
 "nbformat": 4,
 "nbformat_minor": 2
}
