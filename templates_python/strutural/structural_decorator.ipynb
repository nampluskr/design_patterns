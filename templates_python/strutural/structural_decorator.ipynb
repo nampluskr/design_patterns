{
 "cells": [
  {
   "cell_type": "markdown",
   "metadata": {},
   "source": [
    "## [Structural] Decorator Method"
   ]
  },
  {
   "cell_type": "markdown",
   "metadata": {},
   "source": [
    "![Factory Method](https://www.planttext.com/plantuml/png/jL91JWCn3Bn7oXzyt89MuemgLCG9gJSUWBo9eHORPvMuI53wTy9kior2XHCvUiRZ6SUhh9Xq6tfhyWlBW0a3k1vplbLDt6sLxbsK1tudkB86kwm9dKuKk8jXY4AYiBC6ohk4NQNi8GwKK3bAiwWeUj-ukUdwA30p4eNuId-GdaaV1GCrYmANSTRihR5cChKcVAf-MXXvbNMkUwf_ytiYECxFh7IYwZRS-qHI5DQSTJbxlFbbyB-bF-V_-3_BZxOTD_EZEASx86FGYmeSJ9GJK6J9Nw8RzWGK1ds3GA6ZLAeh4b-Ew1C0)"
   ]
  },
  {
   "cell_type": "code",
   "execution_count": 1,
   "metadata": {},
   "outputs": [],
   "source": [
    "from __future__ import annotations\n",
    "from abc import ABC, abstractmethod\n",
    "from typing import Optional"
   ]
  },
  {
   "cell_type": "code",
   "execution_count": 2,
   "metadata": {},
   "outputs": [],
   "source": [
    "class Component(ABC):\n",
    "    \"\"\"컴포넌트 인터페이스\"\"\"\n",
    "    @abstractmethod\n",
    "    def operation(self) -> str:\n",
    "        \"\"\"연산\"\"\"\n",
    "        pass\n",
    "\n",
    "class ConcreteComponent(Component):\n",
    "    \"\"\"구체적인 컴포넌트\"\"\"\n",
    "    def operation(self) -> str:\n",
    "        return \"ConcreteComponent\"\n",
    "\n",
    "class Decorator(Component):\n",
    "    \"\"\"데코레이터 인터페이스\"\"\"\n",
    "    def __init__(self, component: Optional[Component] = None):\n",
    "        self._component = component\n",
    "\n",
    "    def operation(self) -> str:\n",
    "        if self._component:\n",
    "            return self._component.operation()\n",
    "        return \"\"  # component가 None인 경우 빈 문자열 반환\n",
    "\n",
    "class DecoratorA(Decorator):\n",
    "    \"\"\"구체적인 데코레이터 A\"\"\"\n",
    "    def operation(self) -> str:\n",
    "        return \"DecoratorA(\" + super().operation() + \")\"\n",
    "\n",
    "class DecoratorB(Decorator):\n",
    "    \"\"\"구체적인 데코레이터 B\"\"\"\n",
    "    def operation(self) -> str:\n",
    "        return \"DecoratorB[\" + super().operation() + \"]\""
   ]
  },
  {
   "cell_type": "code",
   "execution_count": 3,
   "metadata": {},
   "outputs": [
    {
     "name": "stdout",
     "output_type": "stream",
     "text": [
      "ConcreteComponent\n",
      "DecoratorA(ConcreteComponent)\n",
      "DecoratorB[DecoratorA(ConcreteComponent)]\n"
     ]
    }
   ],
   "source": [
    "# 기본 컴포넌트 생성\n",
    "component = ConcreteComponent()\n",
    "print(component.operation())\n",
    "\n",
    "# DecoratorA로 장식\n",
    "decorator_a = DecoratorA(component)\n",
    "print(decorator_a.operation())\n",
    "\n",
    "# DecoratorB로 추가 장식 (DecoratorA 위에 덧씌움)\n",
    "decorator_b = DecoratorB(decorator_a)\n",
    "print(decorator_b.operation())"
   ]
  },
  {
   "cell_type": "code",
   "execution_count": 4,
   "metadata": {},
   "outputs": [
    {
     "name": "stdout",
     "output_type": "stream",
     "text": [
      "ConcreteComponent\n",
      "DecoratorB[ConcreteComponent]\n",
      "DecoratorA(DecoratorB[ConcreteComponent])\n"
     ]
    }
   ],
   "source": [
    "# 다른 순서로 장식\n",
    "component2 = ConcreteComponent()\n",
    "print(component2.operation())\n",
    "\n",
    "decorator_b2 = DecoratorB(component2)\n",
    "print(decorator_b2.operation())\n",
    "\n",
    "decorator_a2 = DecoratorA(decorator_b2)\n",
    "print(decorator_a2.operation())"
   ]
  },
  {
   "cell_type": "markdown",
   "metadata": {},
   "source": [
    "### Plant UML"
   ]
  },
  {
   "cell_type": "markdown",
   "metadata": {},
   "source": [
    "```plantuml\n",
    "@startuml\n",
    "skinparam classAttributeIconSize 0\n",
    "abstract class Component {\n",
    "    + {abstract} operation()\n",
    "    + add(component : Component)\n",
    "    + remove(component : Component)\n",
    "    + get_name() : str\n",
    "}\n",
    "\n",
    "class Leaf {\n",
    "    - _name : str\n",
    "    + get_name() : str\n",
    "    + operation()\n",
    "}\n",
    "\n",
    "class Composite {\n",
    "    - _children : List<Component>\n",
    "    - _name : str\n",
    "    + add(component : Component)\n",
    "    + remove(component : Component)\n",
    "    + get_name() : str\n",
    "    + operation()\n",
    "}\n",
    "\n",
    "Component <|-- Leaf\n",
    "Component <|-- Composite\n",
    "Composite *-- Component : contains\n",
    "\n",
    "hide empty members\n",
    "@enduml\n",
    "```"
   ]
  }
 ],
 "metadata": {
  "kernelspec": {
   "display_name": "Python 3",
   "language": "python",
   "name": "python3"
  },
  "language_info": {
   "codemirror_mode": {
    "name": "ipython",
    "version": 3
   },
   "file_extension": ".py",
   "mimetype": "text/x-python",
   "name": "python",
   "nbconvert_exporter": "python",
   "pygments_lexer": "ipython3",
   "version": "3.12.4"
  }
 },
 "nbformat": 4,
 "nbformat_minor": 2
}
