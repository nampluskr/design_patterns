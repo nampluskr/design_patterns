{
 "cells": [
  {
   "cell_type": "markdown",
   "metadata": {},
   "source": [
    "## [Structural] Bridge Method"
   ]
  },
  {
   "cell_type": "markdown",
   "metadata": {},
   "source": [
    "![Bridge Method](https://www.planttext.com/plantuml/png/jPBD3e8m48JlJVeEUqGDnBCdySPL7w0fiCQDj91sIVo9xsv5ZOXSJBItTcPdlZPTUjQEMrD9uVTa6-sqWQBItgVCZlAMCIjgkw4JmbmAienkgmk4p3GL6hIicMeBPoaWh1cSTUxPwO8lK3VeEbLHC4SJM42GfBX88KNNCKX9WPxxeVGg-3frzQFKz76ntbmCdJsOttCVQlnCLueiiL8HlTSFvoRtWIJvm1ebMkEMB9PzC3mmsd8KzWyO_PPf70zVTm6jHtypxgX4GDFm4GoQ75quNGRGyF6k)"
   ]
  },
  {
   "cell_type": "code",
   "execution_count": 1,
   "metadata": {},
   "outputs": [],
   "source": [
    "from __future__ import annotations\n",
    "from abc import ABC, abstractmethod\n",
    "from typing import Optional"
   ]
  },
  {
   "cell_type": "code",
   "execution_count": 2,
   "metadata": {},
   "outputs": [],
   "source": [
    "class Implementation(ABC):\n",
    "    \"\"\"구현 인터페이스\"\"\"\n",
    "    @abstractmethod\n",
    "    def operation_impl(self) -> str:\n",
    "        \"\"\"구현 연산\"\"\"\n",
    "        pass\n",
    "\n",
    "class ImplementationA(Implementation):\n",
    "    \"\"\"구체적인 구현 A\"\"\"\n",
    "    def operation_impl(self) -> str:\n",
    "        return \"ImplementationA: Here's the result on the platform A.\\n\"\n",
    "\n",
    "class ImplementationB(Implementation):\n",
    "    \"\"\"구체적인 구현 B\"\"\"\n",
    "    def operation_impl(self) -> str:\n",
    "        return \"ImplementationB: Here's the result on the platform B.\\n\"\n",
    "\n",
    "class Abstraction:\n",
    "    \"\"\"추상화\"\"\"\n",
    "    def __init__(self, implementation: Optional[Implementation] = None):\n",
    "        self._impl = implementation\n",
    "\n",
    "    def operation(self) -> str:\n",
    "        if self._impl:\n",
    "            return \"Abstraction: Base operation with:\\n\" + self._impl.operation_impl()\n",
    "        return \"Abstraction: No implementation set.\"\n",
    "\n",
    "class RefinedAbstraction(Abstraction):\n",
    "    \"\"\"정제된 추상화\"\"\"\n",
    "    def __init__(self, implementation: Implementation):\n",
    "        super().__init__(implementation)\n",
    "\n",
    "    def operation(self) -> str:\n",
    "        if self._impl:\n",
    "            return \"RefinedAbstraction: Extended operation with:\\n\" + self._impl.operation_impl()\n",
    "        return \"RefinedAbstraction: No implementation set.\""
   ]
  },
  {
   "cell_type": "code",
   "execution_count": 6,
   "metadata": {},
   "outputs": [
    {
     "name": "stdout",
     "output_type": "stream",
     "text": [
      "Abstraction: Base operation with:\n",
      "ImplementationA: Here's the result on the platform A.\n",
      "\n",
      "RefinedAbstraction: Extended operation with:\n",
      "ImplementationB: Here's the result on the platform B.\n",
      "\n"
     ]
    }
   ],
   "source": [
    "def client_code(abstraction: Abstraction) -> None:\n",
    "    \"\"\"클라이언트 코드\"\"\"\n",
    "    print(abstraction.operation())\n",
    "\n",
    "implementation = ImplementationA()\n",
    "abstraction = Abstraction(implementation)\n",
    "client_code(abstraction)\n",
    "\n",
    "implementation = ImplementationB()\n",
    "abstraction = RefinedAbstraction(implementation)\n",
    "client_code(abstraction)"
   ]
  },
  {
   "cell_type": "markdown",
   "metadata": {},
   "source": [
    "### Plant UML"
   ]
  },
  {
   "cell_type": "markdown",
   "metadata": {},
   "source": [
    "```plantuml\n",
    "@startuml\n",
    "skinparam classAttributeIconSize 0\n",
    "interface Implementation {\n",
    "    + {abstract} operation_impl() : str\n",
    "}\n",
    "\n",
    "class ImplementationA implements Implementation {\n",
    "    + operation_impl() : str\n",
    "}\n",
    "\n",
    "class ImplementationB implements Implementation {\n",
    "    + operation_impl() : str\n",
    "}\n",
    "\n",
    "class Abstraction {\n",
    "    - _impl : Implementation\n",
    "    --\n",
    "    + __init__(implementation : Implementation)\n",
    "    ..\n",
    "    + operation() : str\n",
    "}\n",
    "\n",
    "class RefinedAbstraction extends Abstraction {\n",
    "    + __init__(implementation : Implementation)\n",
    "    ..\n",
    "    + operation() : str\n",
    "}\n",
    "\n",
    "Abstraction *-- Implementation : uses\n",
    "\n",
    "hide empty members\n",
    "@enduml\n",
    "```"
   ]
  }
 ],
 "metadata": {
  "kernelspec": {
   "display_name": "Python 3",
   "language": "python",
   "name": "python3"
  },
  "language_info": {
   "codemirror_mode": {
    "name": "ipython",
    "version": 3
   },
   "file_extension": ".py",
   "mimetype": "text/x-python",
   "name": "python",
   "nbconvert_exporter": "python",
   "pygments_lexer": "ipython3",
   "version": "3.12.4"
  }
 },
 "nbformat": 4,
 "nbformat_minor": 2
}
