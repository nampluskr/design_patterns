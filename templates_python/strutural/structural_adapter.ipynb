{
 "cells": [
  {
   "cell_type": "markdown",
   "metadata": {},
   "source": [
    "## [Structural] Adapter Method"
   ]
  },
  {
   "cell_type": "markdown",
   "metadata": {},
   "source": [
    "![Factory Method](https://www.planttext.com/plantuml/png/VP0_Zy8m3CNtIFaE7ejGA-Rg1XYPkJrAqyTXNHD2uWx7d-zEAIqCfpkFzi_l-NcTnIRfVQTL_kOGRRAUN6TpteWaRdh1rXt3Zi-WbLOS16bl7UZJfYy8NRIYePQKSEgHfLXeTTDAgr63DgsD0hon7E5upyxynwUPBydOIQ6UjQP9EIiQmu75cE8NkNWYLVNNZLE6ZsjLlPnhOXyxU0J9MitTyfMafj4dF_OFt8BWe_oGXs-GXkuQeHtUUGS0)"
   ]
  },
  {
   "cell_type": "code",
   "execution_count": 1,
   "metadata": {},
   "outputs": [],
   "source": [
    "from __future__ import annotations\n",
    "from abc import ABC, abstractmethod\n",
    "from typing import Any"
   ]
  },
  {
   "cell_type": "code",
   "execution_count": 2,
   "metadata": {},
   "outputs": [],
   "source": [
    "class Target(ABC):\n",
    "    \"\"\"클라이언트가 기대하는 인터페이스 (Target)\"\"\"\n",
    "    @abstractmethod\n",
    "    def request(self) -> None:\n",
    "        \"\"\"요청 메서드\"\"\"\n",
    "        pass\n",
    "\n",
    "class Adaptee:\n",
    "    \"\"\"기존 클래스, 호환되지 않는 인터페이스 (Adaptee)\"\"\"\n",
    "    def specific_request(self) -> None:\n",
    "        \"\"\"특정 요청 메서드\"\"\"\n",
    "        print(\"Adaptee's specific request.\")\n",
    "\n",
    "class Adapter(Target):\n",
    "    \"\"\"Target 인터페이스를 구현하고 Adaptee를 사용하는 어댑터\"\"\"\n",
    "    def __init__(self, adaptee: Adaptee):\n",
    "        \"\"\"어댑터 생성자\"\"\"\n",
    "        self._adaptee = adaptee\n",
    "\n",
    "    def request(self) -> None:\n",
    "        \"\"\"요청을 Adaptee의 specific_request로 변환\"\"\"\n",
    "        print(\"Adapter translates request to specific request.\")\n",
    "        self._adaptee.specific_request()"
   ]
  },
  {
   "cell_type": "code",
   "execution_count": 3,
   "metadata": {},
   "outputs": [
    {
     "name": "stdout",
     "output_type": "stream",
     "text": [
      "Target's request.\n"
     ]
    }
   ],
   "source": [
    "# Target 객체 사용\n",
    "# target = Target() # 추상 클래스는 직접 인스턴스화 할 수 없으므로, 이 부분을 수정해야 합니다.\n",
    "\n",
    "class ConcreteTarget(Target):\n",
    "    def request(self):\n",
    "        print(\"Target's request.\")\n",
    "target = ConcreteTarget()\n",
    "target.request()"
   ]
  },
  {
   "cell_type": "code",
   "execution_count": 4,
   "metadata": {},
   "outputs": [
    {
     "name": "stdout",
     "output_type": "stream",
     "text": [
      "Adapter translates request to specific request.\n",
      "Adaptee's specific request.\n"
     ]
    }
   ],
   "source": [
    "# Adapter를 통해 Adaptee 사용\n",
    "adaptee = Adaptee()\n",
    "adapter = Adapter(adaptee)\n",
    "adapter.request()"
   ]
  },
  {
   "cell_type": "markdown",
   "metadata": {},
   "source": [
    "### Plant UML"
   ]
  },
  {
   "cell_type": "markdown",
   "metadata": {},
   "source": [
    "```plantuml\n",
    "@startuml\n",
    "skinparam classAttributeIconSize 0\n",
    "interface Target {\n",
    "    + request()\n",
    "}\n",
    "\n",
    "class Adaptee {\n",
    "    + specific_request()\n",
    "}\n",
    "\n",
    "class Adapter {\n",
    "    - _adaptee : Adaptee\n",
    "    --\n",
    "    + __init__(adaptee : Adaptee)\n",
    "    ..\n",
    "    + request()\n",
    "}\n",
    "\n",
    "Target <|.. Adapter : implements\n",
    "Adapter - Adaptee : adapts\n",
    "\n",
    "hide empty members\n",
    "@enduml\n",
    "```"
   ]
  }
 ],
 "metadata": {
  "kernelspec": {
   "display_name": "Python 3",
   "language": "python",
   "name": "python3"
  },
  "language_info": {
   "codemirror_mode": {
    "name": "ipython",
    "version": 3
   },
   "file_extension": ".py",
   "mimetype": "text/x-python",
   "name": "python",
   "nbconvert_exporter": "python",
   "pygments_lexer": "ipython3",
   "version": "3.12.4"
  }
 },
 "nbformat": 4,
 "nbformat_minor": 2
}
