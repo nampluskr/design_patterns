{
 "cells": [
  {
   "cell_type": "markdown",
   "metadata": {},
   "source": [
    "## [Behavioral] Template Method"
   ]
  },
  {
   "cell_type": "markdown",
   "metadata": {},
   "source": [
    "![Template Method](https://www.planttext.com/plantuml/png/nPAx3e8m58Rt9ds7CqACYPVD2MHozW58WPFGI6dJ7enAU7UvHWSXR7OxxVydtzSsS2GiLQhWpDraQOGL2j92E1SIMPbKX9TKbrVvGjXnnfb875cHqX22S1oZVgevWtPjW52PGX362YdNcUTF1_NKRy1OgIJ9EyRQe1KaTRbV6poi3Hu_mLphc-V32HAjYs5p2wrRQf6-6bsXwKm7mMWCz88Xu8Emp6QzbvsMHURevs3E_u3vUPKzOIupXFRPwGaALOBMSHQqUFtVUWC0)"
   ]
  },
  {
   "cell_type": "code",
   "execution_count": 1,
   "metadata": {},
   "outputs": [],
   "source": [
    "from __future__ import annotations\n",
    "from abc import ABC, abstractmethod\n",
    "from typing import Optional"
   ]
  },
  {
   "cell_type": "code",
   "execution_count": 2,
   "metadata": {},
   "outputs": [],
   "source": [
    "class AbstractClass(ABC):\n",
    "    \"\"\"추상 클래스\"\"\"\n",
    "    def template_method(self) -> None:\n",
    "        \"\"\"템플릿 메서드: 알고리즘의 뼈대를 정의\"\"\"\n",
    "        self.primitive_operation1()\n",
    "        self.primitive_operation2()\n",
    "        if self.hook():  # Hook 메서드 (선택적 확장 지점)\n",
    "            self.concrete_operation()\n",
    "        self.primitive_operation3()\n",
    "\n",
    "    @abstractmethod\n",
    "    def primitive_operation1(self) -> None:\n",
    "        \"\"\"추상 메서드 1: 하위 클래스에서 구현\"\"\"\n",
    "        pass\n",
    "\n",
    "    @abstractmethod\n",
    "    def primitive_operation2(self) -> None:\n",
    "        \"\"\"추상 메서드 2: 하위 클래스에서 구현\"\"\"\n",
    "        pass\n",
    "\n",
    "    @abstractmethod\n",
    "    def primitive_operation3(self) -> None:\n",
    "        \"\"\"추상 메서드 3: 하위 클래스에서 구현\"\"\"\n",
    "        pass\n",
    "\n",
    "    def hook(self) -> bool:\n",
    "        \"\"\"Hook 메서드: 선택적 확장 지점. 기본적으로 아무 동작도 하지 않음\"\"\"\n",
    "        return False\n",
    "\n",
    "    def concrete_operation(self) -> None:\n",
    "        \"\"\"구체적인 연산 (추상 클래스 내부에서만 사용)\"\"\"\n",
    "        print(\"AbstractClass::concrete_operation\")\n",
    "\n",
    "class ConcreteClassA(AbstractClass):\n",
    "    \"\"\"구체 클래스 A\"\"\"\n",
    "    def primitive_operation1(self) -> None:\n",
    "        print(\"ConcreteClassA::primitive_operation1\")\n",
    "\n",
    "    def primitive_operation2(self) -> None:\n",
    "        print(\"ConcreteClassA::primitive_operation2\")\n",
    "\n",
    "    def primitive_operation3(self) -> None:\n",
    "        print(\"ConcreteClassA::primitive_operation3\")\n",
    "\n",
    "class ConcreteClassB(AbstractClass):\n",
    "    \"\"\"구체 클래스 B\"\"\"\n",
    "    def primitive_operation1(self) -> None:\n",
    "        print(\"ConcreteClassB::primitive_operation1\")\n",
    "\n",
    "    def primitive_operation2(self) -> None:\n",
    "        print(\"ConcreteClassB::primitive_operation2\")\n",
    "\n",
    "    def primitive_operation3(self) -> None:\n",
    "        print(\"ConcreteClassB::primitive_operation3\")\n",
    "\n",
    "    def hook(self) -> bool:\n",
    "        \"\"\"Hook 메서드 오버라이드\"\"\"\n",
    "        return True"
   ]
  },
  {
   "cell_type": "code",
   "execution_count": 3,
   "metadata": {},
   "outputs": [
    {
     "name": "stdout",
     "output_type": "stream",
     "text": [
      "ConcreteClassA::primitive_operation1\n",
      "ConcreteClassA::primitive_operation2\n",
      "ConcreteClassA::primitive_operation3\n",
      "\n",
      "ConcreteClassB::primitive_operation1\n",
      "ConcreteClassB::primitive_operation2\n",
      "AbstractClass::concrete_operation\n",
      "ConcreteClassB::primitive_operation3\n"
     ]
    }
   ],
   "source": [
    "\"\"\"클라이언트 코드\"\"\"\n",
    "class_a = ConcreteClassA()\n",
    "class_a.template_method()\n",
    "\n",
    "print()\n",
    "\n",
    "class_b = ConcreteClassB()\n",
    "class_b.template_method()"
   ]
  },
  {
   "cell_type": "markdown",
   "metadata": {},
   "source": [
    "### Plant UML"
   ]
  },
  {
   "cell_type": "markdown",
   "metadata": {},
   "source": [
    "```plantuml\n",
    "@startuml\n",
    "skinparam classAttributeIconSize 0\n",
    "\n",
    "abstract class AbstractClass {\n",
    "    + template_method()\n",
    "    + {abstract} primitive_operation1()\n",
    "    + {abstract} primitive_operation2()\n",
    "    + {abstract} primitive_operation3()\n",
    "    + hook() : bool\n",
    "    - concrete_operation()\n",
    "}\n",
    "\n",
    "class ConcreteClassA extends AbstractClass {\n",
    "    + primitive_operation1()\n",
    "    + primitive_operation2()\n",
    "    + primitive_operation3()\n",
    "}\n",
    "\n",
    "class ConcreteClassB extends AbstractClass {\n",
    "    + primitive_operation1()\n",
    "    + primitive_operation2()\n",
    "    + primitive_operation3()\n",
    "    + hook() : bool\n",
    "}\n",
    "\n",
    "hide empty members\n",
    "@enduml\n",
    "```"
   ]
  }
 ],
 "metadata": {
  "kernelspec": {
   "display_name": "Python 3",
   "language": "python",
   "name": "python3"
  },
  "language_info": {
   "codemirror_mode": {
    "name": "ipython",
    "version": 3
   },
   "file_extension": ".py",
   "mimetype": "text/x-python",
   "name": "python",
   "nbconvert_exporter": "python",
   "pygments_lexer": "ipython3",
   "version": "3.12.4"
  }
 },
 "nbformat": 4,
 "nbformat_minor": 2
}
