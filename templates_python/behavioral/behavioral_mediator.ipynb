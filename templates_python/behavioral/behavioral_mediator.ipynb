{
 "cells": [
  {
   "cell_type": "markdown",
   "metadata": {},
   "source": [
    "## [Behavioral] Mediator Method"
   ]
  },
  {
   "cell_type": "markdown",
   "metadata": {},
   "source": [
    "![Mediator Method](https://www.planttext.com/plantuml/png/fLFBJiCm4Bn7oZ-iUafLa3Ztr9PJ3vpuW6ZZ3Ar5x4JU3Q-g_uvJaJIYgK3WYwrzp8ndxPKe1srTbIRoR7t3WHsPYaNMgi4MhM9hQlzeFq1tQP8crYl24nlG0qhBMWSwf0d5jQ035wA1ZHv9uClSGOHtoBvsMb9Ctv2fgmgyQxl0VN-Ufycnmpznnx0t0Og1mxgcWeDNkU2zfNn0p7cCkPueACO5crwvGCSWsJN0-NH3aLqZ63NyqP3UqtDcT77NUx4SR9aOHe21VS4q_IyKVfzDxmRXJMEJN4fR_CWv1RZvD-3mDcQcTgxrrh12wDNgVXRzEiDsnNjRWk0QVIS7Lo185rr50QV_y0a0)"
   ]
  },
  {
   "cell_type": "code",
   "execution_count": 6,
   "metadata": {},
   "outputs": [],
   "source": [
    "from __future__ import annotations\n",
    "from abc import ABC, abstractmethod\n",
    "from typing import Optional"
   ]
  },
  {
   "cell_type": "code",
   "execution_count": 7,
   "metadata": {},
   "outputs": [],
   "source": [
    "class Colleague(ABC):\n",
    "    \"\"\"동료 추상 클래스\"\"\"\n",
    "    def __init__(self, mediator: Optional[\"Mediator\"] = None):\n",
    "        self._mediator = mediator\n",
    "\n",
    "    @abstractmethod\n",
    "    def receive_message(self, message: str) -> None:\n",
    "        \"\"\"메시지 수신\"\"\"\n",
    "        pass\n",
    "\n",
    "    def send_message(self, message: str) -> None:\n",
    "        \"\"\"메시지 전송\"\"\"\n",
    "        if self._mediator:\n",
    "          self._mediator.send_message(message, self)\n",
    "\n",
    "class ColleagueA(Colleague):\n",
    "    \"\"\"동료 A\"\"\"\n",
    "    def receive_message(self, message: str) -> None:\n",
    "        print(f\"ColleagueA received: {message}\")\n",
    "\n",
    "class ColleagueB(Colleague):\n",
    "    \"\"\"동료 B\"\"\"\n",
    "    def receive_message(self, message: str) -> None:\n",
    "        print(f\"ColleagueB received: {message}\")"
   ]
  },
  {
   "cell_type": "code",
   "execution_count": 8,
   "metadata": {},
   "outputs": [],
   "source": [
    "class Mediator(ABC):\n",
    "    \"\"\"중재자 인터페이스\"\"\"\n",
    "    @abstractmethod\n",
    "    def send_message(self, message: str, colleague: Colleague) -> None:\n",
    "        \"\"\"메시지 전송\"\"\"\n",
    "        pass\n",
    "\n",
    "class ConcreteMediator(Mediator):\n",
    "    \"\"\"구체적인 중재자\"\"\"\n",
    "    def __init__(self):\n",
    "        self._colleague_a: Optional[ColleagueA] = None\n",
    "        self._colleague_b: Optional[ColleagueB] = None\n",
    "\n",
    "    def set_colleague_a(self, colleague_a: ColleagueA) -> None:\n",
    "        self._colleague_a = colleague_a\n",
    "    \n",
    "    def set_colleague_b(self, colleague_b: ColleagueB) -> None:\n",
    "        self._colleague_b = colleague_b\n",
    "\n",
    "    def send_message(self, message: str, colleague: Colleague) -> None:\n",
    "        if colleague is self._colleague_a and self._colleague_b:\n",
    "            self._colleague_b.receive_message(message)\n",
    "        elif colleague is self._colleague_b and self._colleague_a:\n",
    "            self._colleague_a.receive_message(message)"
   ]
  },
  {
   "cell_type": "code",
   "execution_count": 9,
   "metadata": {},
   "outputs": [
    {
     "name": "stdout",
     "output_type": "stream",
     "text": [
      "ColleagueB received: Message from ColleagueA\n",
      "ColleagueA received: Message from ColleagueB\n"
     ]
    }
   ],
   "source": [
    "\"\"\"클라이언트 코드\"\"\"\n",
    "mediator = ConcreteMediator()\n",
    "colleague_a = ColleagueA(mediator)\n",
    "colleague_b = ColleagueB(mediator)\n",
    "\n",
    "mediator.set_colleague_a(colleague_a)\n",
    "mediator.set_colleague_b(colleague_b)\n",
    "\n",
    "colleague_a.send_message(\"Message from ColleagueA\")\n",
    "colleague_b.send_message(\"Message from ColleagueB\")"
   ]
  },
  {
   "cell_type": "markdown",
   "metadata": {},
   "source": [
    "### Plant UML"
   ]
  },
  {
   "cell_type": "markdown",
   "metadata": {},
   "source": [
    "```plantuml\n",
    "@startuml\n",
    "skinparam classAttributeIconSize 0\n",
    "\n",
    "interface Mediator {\n",
    "    + {abstract} send_message(message : str, colleague : Colleague)\n",
    "}\n",
    "\n",
    "class ConcreteMediator implements Mediator {\n",
    "    - _colleague_a : ColleagueA\n",
    "    - _colleague_b : ColleagueB\n",
    "    + set_colleague_a(colleague_a : ColleagueA)\n",
    "    + set_colleague_b(colleague_b : ColleagueB)\n",
    "    + send_message(message : str, colleague : Colleague)\n",
    "}\n",
    "\n",
    "abstract Colleague {\n",
    "    - _mediator : Mediator\n",
    "    + {abstract} receive_message(message : str)\n",
    "    + send_message(message : str)\n",
    "}\n",
    "\n",
    "class ColleagueA extends Colleague {\n",
    "    + receive_message(message : str)\n",
    "}\n",
    "\n",
    "class ColleagueB extends Colleague {\n",
    "    + receive_message(message : str)\n",
    "}\n",
    "\n",
    "Mediator \"communicates with\" - Colleague \n",
    "\n",
    "hide empty members\n",
    "\n",
    "@enduml\n",
    "\n",
    "```"
   ]
  }
 ],
 "metadata": {
  "kernelspec": {
   "display_name": "Python 3",
   "language": "python",
   "name": "python3"
  },
  "language_info": {
   "codemirror_mode": {
    "name": "ipython",
    "version": 3
   },
   "file_extension": ".py",
   "mimetype": "text/x-python",
   "name": "python",
   "nbconvert_exporter": "python",
   "pygments_lexer": "ipython3",
   "version": "3.12.4"
  }
 },
 "nbformat": 4,
 "nbformat_minor": 2
}
