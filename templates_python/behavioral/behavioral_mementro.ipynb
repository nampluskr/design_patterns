{
 "cells": [
  {
   "cell_type": "markdown",
   "metadata": {},
   "source": [
    "## [Behavioral] Memento Method"
   ]
  },
  {
   "cell_type": "markdown",
   "metadata": {},
   "source": [
    "![Memento Method](https://www.planttext.com/plantuml/png/ZLBBQiCm4BmR_0-BJtPBeETGIafEXPOU-W56iRQ9I2I5tJLzqN-l_92iGcdhYyJCQ7TsrXiMHTBRKrdmqRYp8cMXEodcMn4okrxmhlFkoRmZN9L5MOmSF9BP6wV44toK1OHl1Mqe9GXhOA49kmH6cU0w8vl8TeG1R2rQTEBh9j0Fqpqg23dqmFQPl4sw-LpKgI0V_ClSBs2VYzzP-BlPVJBRH28hiLM4eewOJpmxuI2_DopNSvkRAEXweW2qncby3IBZ93PJMlzZeC5IL6L5VaYgTzhNFgrbdQseMTByMpD6-CrtYZ9RUZMjZgimP38IGrvTG6MLK_k1Jx6LnP9WrVFqTYavD3WOZO3sB6yGXjuXyO1kqEdn1_q2)"
   ]
  },
  {
   "cell_type": "code",
   "execution_count": 1,
   "metadata": {},
   "outputs": [],
   "source": [
    "from __future__ import annotations\n",
    "from abc import ABC, abstractmethod\n",
    "from typing import List, Optional"
   ]
  },
  {
   "cell_type": "code",
   "execution_count": 2,
   "metadata": {},
   "outputs": [],
   "source": [
    "class Memento:\n",
    "    \"\"\"메멘토\"\"\"\n",
    "    def __init__(self, state: str):\n",
    "        self._state = state\n",
    "\n",
    "    def get_state(self) -> str:\n",
    "        return self._state\n",
    "\n",
    "class Originator:\n",
    "    \"\"\"원조자\"\"\"\n",
    "    def __init__(self):\n",
    "        self._state: str = \"\"\n",
    "\n",
    "    def set_state(self, state: str) -> None:\n",
    "        print(f\"Originator: Setting state to {state}\")\n",
    "        self._state = state\n",
    "\n",
    "    def create_memento(self) -> Memento:\n",
    "        print(\"Originator: Creating Memento of current State.\")\n",
    "        return Memento(self._state)\n",
    "\n",
    "    def restore_from_memento(self, memento: Optional[Memento]) -> None:\n",
    "        if memento:\n",
    "            self._state = memento.get_state()\n",
    "            print(f\"Originator: State after restoring from Memento: {self._state}\")\n",
    "        else:\n",
    "            print(\"Error: Null Memento pointer.\")\n",
    "\n",
    "    def show_state(self) -> None:\n",
    "        print(f\"Current State: {self._state}\")"
   ]
  },
  {
   "cell_type": "code",
   "execution_count": 3,
   "metadata": {},
   "outputs": [],
   "source": [
    "class Caretaker:\n",
    "    \"\"\"관리자\"\"\"\n",
    "    def __init__(self):\n",
    "        self._mementos: List[Memento] = []\n",
    "        self.current_index: int = -1\n",
    "\n",
    "    def add_memento(self, memento: Memento) -> None:\n",
    "        self._mementos.append(memento)\n",
    "        self.current_index += 1\n",
    "\n",
    "    def get_memento(self, index: int) -> Optional[Memento]:\n",
    "        if 0 <= index < len(self._mementos):\n",
    "            return self._mementos[index]\n",
    "        else:\n",
    "            print(\"Invalid Memento index.\")\n",
    "            return None\n",
    "\n",
    "    def undo(self, originator: Originator) -> None:\n",
    "        if self.current_index > 0:\n",
    "            self.current_index -= 1\n",
    "            memento = self._mementos[self.current_index]\n",
    "            originator.restore_from_memento(memento)\n",
    "        else:\n",
    "            print(\"No more states to undo.\")\n",
    "\n",
    "    def redo(self, originator: Originator) -> None:\n",
    "        if self.current_index < len(self._mementos) - 1:\n",
    "            self.current_index += 1\n",
    "            memento = self._mementos[self.current_index]\n",
    "            originator.restore_from_memento(memento)\n",
    "        else:\n",
    "            print(\"No more states to redo.\")\n",
    "\n",
    "    def show_current_index(self) -> None:\n",
    "        print(f\"Current index: {self.current_index}\")"
   ]
  },
  {
   "cell_type": "code",
   "execution_count": 4,
   "metadata": {},
   "outputs": [
    {
     "name": "stdout",
     "output_type": "stream",
     "text": [
      "Originator: Setting state to State #1\n",
      "Originator: Creating Memento of current State.\n",
      "Current index: 0\n",
      "Originator: Setting state to State #2\n",
      "Originator: Creating Memento of current State.\n",
      "Current index: 1\n",
      "Originator: Setting state to State #3\n",
      "Originator: Creating Memento of current State.\n",
      "Current index: 2\n"
     ]
    }
   ],
   "source": [
    "\"\"\"클라이언트 코드\"\"\"\n",
    "originator = Originator()\n",
    "caretaker = Caretaker()\n",
    "\n",
    "originator.set_state(\"State #1\")\n",
    "caretaker.add_memento(originator.create_memento())\n",
    "caretaker.show_current_index()\n",
    "\n",
    "originator.set_state(\"State #2\")\n",
    "caretaker.add_memento(originator.create_memento())\n",
    "caretaker.show_current_index()\n",
    "\n",
    "originator.set_state(\"State #3\")\n",
    "caretaker.add_memento(originator.create_memento())\n",
    "caretaker.show_current_index()"
   ]
  },
  {
   "cell_type": "code",
   "execution_count": 6,
   "metadata": {},
   "outputs": [
    {
     "name": "stdout",
     "output_type": "stream",
     "text": [
      "Now lets restore the state:\n",
      "No more states to undo.\n",
      "Current State: State #1\n",
      "Current index: 0\n",
      "No more states to undo.\n",
      "Current State: State #1\n",
      "Current index: 0\n",
      "No more states to undo.\n",
      "Current State: State #1\n",
      "Current index: 0\n"
     ]
    }
   ],
   "source": [
    "print(\"Now lets restore the state:\")\n",
    "caretaker.undo(originator)\n",
    "originator.show_state()\n",
    "caretaker.show_current_index()\n",
    "\n",
    "caretaker.undo(originator)\n",
    "originator.show_state()\n",
    "caretaker.show_current_index()\n",
    "\n",
    "caretaker.undo(originator)\n",
    "originator.show_state()\n",
    "caretaker.show_current_index()"
   ]
  },
  {
   "cell_type": "code",
   "execution_count": 7,
   "metadata": {},
   "outputs": [
    {
     "name": "stdout",
     "output_type": "stream",
     "text": [
      "Now lets redo the state:\n",
      "Originator: State after restoring from Memento: State #2\n",
      "Current State: State #2\n",
      "Current index: 1\n",
      "Originator: State after restoring from Memento: State #3\n",
      "Current State: State #3\n",
      "Current index: 2\n",
      "No more states to redo.\n",
      "Current State: State #3\n",
      "Current index: 2\n",
      "No more states to redo.\n",
      "Current State: State #3\n",
      "Current index: 2\n"
     ]
    }
   ],
   "source": [
    "print(\"Now lets redo the state:\")\n",
    "caretaker.redo(originator)\n",
    "originator.show_state()\n",
    "caretaker.show_current_index()\n",
    "caretaker.redo(originator)\n",
    "originator.show_state()\n",
    "caretaker.show_current_index()\n",
    "caretaker.redo(originator)\n",
    "originator.show_state()\n",
    "caretaker.show_current_index()\n",
    "caretaker.redo(originator)\n",
    "originator.show_state()\n",
    "caretaker.show_current_index()"
   ]
  },
  {
   "cell_type": "markdown",
   "metadata": {},
   "source": [
    "### Plant UML"
   ]
  },
  {
   "cell_type": "markdown",
   "metadata": {},
   "source": [
    "```plantuml\n",
    "@startuml\n",
    "skinparam classAttributeIconSize 0\n",
    "\n",
    "class Originator {\n",
    "    - _state : str\n",
    "    + set_state(state : str)\n",
    "    + create_memento() : Memento\n",
    "    + restore_from_memento(memento : Memento)\n",
    "    + show_state()\n",
    "}\n",
    "\n",
    "class Memento {\n",
    "    - _state : str\n",
    "    + get_state() : str\n",
    "}\n",
    "\n",
    "class Caretaker {\n",
    "    - _mementos : List<Memento>\n",
    "    - current_index : int\n",
    "    + add_memento(memento : Memento)\n",
    "    + get_memento(index : int) : Memento\n",
    "    + undo(originator: Originator)\n",
    "    + redo(originator: Originator)\n",
    "    + show_current_index()\n",
    "}\n",
    "\n",
    "Originator \"creates\" - Memento\n",
    "Memento -* \"manages\" Caretaker\n",
    "Caretaker \"uses\" - Originator\n",
    "\n",
    "hide empty members\n",
    "@enduml\n",
    "```"
   ]
  }
 ],
 "metadata": {
  "kernelspec": {
   "display_name": "Python 3",
   "language": "python",
   "name": "python3"
  },
  "language_info": {
   "codemirror_mode": {
    "name": "ipython",
    "version": 3
   },
   "file_extension": ".py",
   "mimetype": "text/x-python",
   "name": "python",
   "nbconvert_exporter": "python",
   "pygments_lexer": "ipython3",
   "version": "3.12.4"
  }
 },
 "nbformat": 4,
 "nbformat_minor": 2
}
