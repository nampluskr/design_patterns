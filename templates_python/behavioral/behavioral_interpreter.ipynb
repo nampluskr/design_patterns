{
 "cells": [
  {
   "cell_type": "markdown",
   "metadata": {},
   "source": [
    "## [Behavioral] Interpreter Method"
   ]
  },
  {
   "cell_type": "markdown",
   "metadata": {},
   "source": [
    "![Interpreter Method](https://www.planttext.com/plantuml/png/pLEzQiCm4Du5UeSRRKgWiwUKqg53Iw4F46JdceZOaj6T8At9krVoJweObmIwLAE-tpkaDR5ox9jQ2Zfeqogd6gXgHVJ0x7Jf6PyhQzxr5yAz55Bq63nQmtXawAI0S5Qm2LhFK02nEzzLtZaql6ajQTRM15WR7k0xs24FgYnFTGCmb_QSH4nBdCkSVCcFxG4JirCSIPKXN5KCJyVM8L5qw2PnDw6dg40N69nLu_Z5j8XPkqJKkd2VMSh7i65_hxufqILvmGFDbXOgX3sQddqPSNkPvGPljQTRyslyYFO_s1bnUhTVWlxUxqMR_rfmjZgxMgMj2eXjhhFwPbBCv_p5xIfjj9DYhxS8sBJy2Gt6TqDIhCFg-Z_-3G00)"
   ]
  },
  {
   "cell_type": "code",
   "execution_count": 8,
   "metadata": {},
   "outputs": [],
   "source": [
    "from __future__ import annotations\n",
    "from abc import ABC, abstractmethod\n",
    "from typing import Optional"
   ]
  },
  {
   "cell_type": "code",
   "execution_count": 9,
   "metadata": {},
   "outputs": [],
   "source": [
    "class Context:\n",
    "    \"\"\"문맥: 현재 환경 정보를 저장\"\"\"\n",
    "    def __init__(self, input_str: str):\n",
    "        self._input = input_str\n",
    "        self._current_position = 0\n",
    "\n",
    "    def get_input(self) -> str:\n",
    "        return self._input\n",
    "\n",
    "    def get_current_position(self) -> int:\n",
    "        return self._current_position\n",
    "\n",
    "    def set_current_position(self, position: int) -> None:\n",
    "        self._current_position = position\n",
    "\n",
    "    def get_current_token(self) -> int:\n",
    "        if self._current_position < len(self._input):\n",
    "            return int(self._input[self._current_position])\n",
    "        return -1\n",
    "\n",
    "class Expression(ABC):\n",
    "    \"\"\"표현식 인터페이스\"\"\"\n",
    "    @abstractmethod\n",
    "    def interpret(self, context: Context) -> int:\n",
    "        \"\"\"해석\"\"\"\n",
    "        pass\n",
    "\n",
    "    @abstractmethod\n",
    "    def print(self, os) -> None:\n",
    "        \"\"\"출력\"\"\"\n",
    "        pass\n",
    "\n",
    "class NumberExpression(Expression):\n",
    "    \"\"\"숫자 표현식\"\"\"\n",
    "    def __init__(self, number: int):\n",
    "        self._number = number\n",
    "\n",
    "    def interpret(self, context: Context) -> int:\n",
    "        return self._number\n",
    "\n",
    "    def print(self, os) -> None:\n",
    "        os.write(str(self._number))\n",
    "\n",
    "class PlusExpression(Expression):\n",
    "    \"\"\"덧셈 표현식\"\"\"\n",
    "    def __init__(self, left: Expression, right: Expression):\n",
    "        self._left = left\n",
    "        self._right = right\n",
    "\n",
    "    def interpret(self, context: Context) -> int:\n",
    "        return self._left.interpret(context) + self._right.interpret(context)\n",
    "\n",
    "    def print(self, os) -> None:\n",
    "        os.write(\"(\")\n",
    "        self._left.print(os)\n",
    "        os.write(\" + \")\n",
    "        self._right.print(os)\n",
    "        os.write(\")\")\n",
    "\n",
    "class MinusExpression(Expression):\n",
    "    \"\"\"뺄셈 표현식\"\"\"\n",
    "    def __init__(self, left: Expression, right: Expression):\n",
    "        self._left = left\n",
    "        self._right = right\n",
    "\n",
    "    def interpret(self, context: Context) -> int:\n",
    "        return self._left.interpret(context) - self._right.interpret(context)\n",
    "\n",
    "    def print(self, os) -> None:\n",
    "        os.write(\"(\")\n",
    "        self._left.print(os)\n",
    "        os.write(\" - \")\n",
    "        self._right.print(os)\n",
    "        os.write(\")\")"
   ]
  },
  {
   "cell_type": "code",
   "execution_count": 10,
   "metadata": {},
   "outputs": [],
   "source": [
    "def parse(context: Context) -> Expression:\n",
    "    \"\"\"구문 분석\"\"\"\n",
    "    current_token = context.get_current_token()\n",
    "    context.set_current_position(context.get_current_position() + 1)\n",
    "    left = NumberExpression(current_token)\n",
    "\n",
    "    if context.get_current_position() < len(context.get_input()):\n",
    "        op = context.get_input()[context.get_current_position()]\n",
    "        context.set_current_position(context.get_current_position() + 1)\n",
    "        right = parse(context)\n",
    "        if op == '+':\n",
    "            return PlusExpression(left, right)\n",
    "        elif op == '-':\n",
    "            return MinusExpression(left, right)\n",
    "        else:\n",
    "            raise ValueError(\"Invalid operator\")\n",
    "\n",
    "    return left"
   ]
  },
  {
   "cell_type": "code",
   "execution_count": 11,
   "metadata": {},
   "outputs": [
    {
     "name": "stdout",
     "output_type": "stream",
     "text": [
      "입력된 수식: (1 + (2 - (3 + 4)))\n",
      "결과: -4\n"
     ]
    }
   ],
   "source": [
    "\"\"\"클라이언트 코드\"\"\"\n",
    "import sys\n",
    "\n",
    "expression_str = \"1+2-3+4\"\n",
    "context = Context(expression_str)\n",
    "try:\n",
    "    expression = parse(context)\n",
    "\n",
    "    print(\"입력된 수식: \", end=\"\")\n",
    "    expression.print(sys.stdout)\n",
    "    print()\n",
    "\n",
    "    result = expression.interpret(context)\n",
    "    print(f\"결과: {result}\")\n",
    "except ValueError as e:\n",
    "    print(f\"Error: {e}\")"
   ]
  },
  {
   "cell_type": "markdown",
   "metadata": {},
   "source": [
    "### Plant UML"
   ]
  },
  {
   "cell_type": "markdown",
   "metadata": {},
   "source": [
    "```plantuml\n",
    "@startuml\n",
    "skinparam classAttributeIconSize 0\n",
    "\n",
    "class Context {\n",
    "    - _input : str\n",
    "    - _current_position : int\n",
    "    + get_input() : str\n",
    "    + get_current_position() : int\n",
    "    + set_current_position(position : int)\n",
    "    + get_current_token() : int\n",
    "}\n",
    "\n",
    "abstract Expression {\n",
    "    + {abstract} interpret(context : Context) : int\n",
    "    + {abstract} print(os)\n",
    "}\n",
    "\n",
    "class NumberExpression extends Expression {\n",
    "    - _number : int\n",
    "    + interpret(context : Context) : int\n",
    "    + print(os)\n",
    "}\n",
    "\n",
    "class PlusExpression extends Expression {\n",
    "    - _left : Expression\n",
    "    - _right : Expression\n",
    "    + interpret(context : Context) : int\n",
    "    + print(os)\n",
    "}\n",
    "\n",
    "class MinusExpression extends Expression {\n",
    "    - _left : Expression\n",
    "    - _right : Expression\n",
    "    + interpret(context : Context) : int\n",
    "    + print(os)\n",
    "}\n",
    "\n",
    "PlusExpression o-- Expression : left\n",
    "PlusExpression o-- Expression : right\n",
    "MinusExpression o-- Expression : left\n",
    "MinusExpression o-- Expression : right\n",
    "\n",
    "hide empty members\n",
    "@enduml\n",
    "```"
   ]
  }
 ],
 "metadata": {
  "kernelspec": {
   "display_name": "Python 3",
   "language": "python",
   "name": "python3"
  },
  "language_info": {
   "codemirror_mode": {
    "name": "ipython",
    "version": 3
   },
   "file_extension": ".py",
   "mimetype": "text/x-python",
   "name": "python",
   "nbconvert_exporter": "python",
   "pygments_lexer": "ipython3",
   "version": "3.12.4"
  }
 },
 "nbformat": 4,
 "nbformat_minor": 2
}
