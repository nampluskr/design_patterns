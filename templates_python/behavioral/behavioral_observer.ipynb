{
 "cells": [
  {
   "cell_type": "markdown",
   "metadata": {},
   "source": [
    "## [Behavioral] Observer Method"
   ]
  },
  {
   "cell_type": "markdown",
   "metadata": {},
   "source": [
    "![Observer Method](https://www.planttext.com/plantuml/png/fPB1QiCm38Rl1h-3o2dP2EnSncXt6mnsw0CCsL4Nhx4JB6MGbRxxt7JELXXiC9-4fV_x9Tbh5emo-auhthimO4GFjaFcZKXqPXHwi7tOkdU26wsqSa4exj0IF1cc-4OH3bf1EjTmGCCIqSeHng51eP97yqfMO0NRSrHfTJnXPejycGarFFUVK4wIHyTocrtkbfBKiL1AfqwoCOgWRSiiJiaigt99Gx-Ml92SuMLrYUSbySsxMXeAlRZTL5wEbkaRS7xeo5CG_c5bVzjJrjt_3vRNNRJ8u35C1TGr55V55si5ypIE-2HeNKD0Vf09F7cJdaMhDOLc_YyV)"
   ]
  },
  {
   "cell_type": "code",
   "execution_count": 1,
   "metadata": {},
   "outputs": [],
   "source": [
    "from __future__ import annotations\n",
    "from abc import ABC, abstractmethod\n",
    "from typing import List"
   ]
  },
  {
   "cell_type": "code",
   "execution_count": 2,
   "metadata": {},
   "outputs": [],
   "source": [
    "class Subject:\n",
    "    \"\"\"관찰 대상\"\"\"\n",
    "    def __init__(self):\n",
    "        self._observers: List[\"Observer\"] = []\n",
    "        self._state: int = 0\n",
    "\n",
    "    def attach(self, observer: \"Observer\") -> None:\n",
    "        self._observers.append(observer)\n",
    "\n",
    "    def detach(self, observer: \"Observer\") -> None:\n",
    "        try:\n",
    "            self._observers.remove(observer)\n",
    "        except ValueError:\n",
    "            print(\"Observer not found.\")\n",
    "\n",
    "    def get_state(self) -> int:\n",
    "        return self._state\n",
    "\n",
    "    def set_state(self, state: int) -> None:\n",
    "        self._state = state\n",
    "        self._notify()\n",
    "\n",
    "    def _notify(self) -> None:\n",
    "        for observer in self._observers:\n",
    "            observer.update(self)"
   ]
  },
  {
   "cell_type": "code",
   "execution_count": 3,
   "metadata": {},
   "outputs": [],
   "source": [
    "class Observer(ABC):\n",
    "    \"\"\"관찰자 인터페이스\"\"\"\n",
    "    @abstractmethod\n",
    "    def update(self, subject: Subject) -> None:\n",
    "        \"\"\"업데이트 메서드\"\"\"\n",
    "        pass\n",
    "\n",
    "class ObserverA(Observer):\n",
    "    \"\"\"구체적인 관찰자 A\"\"\"\n",
    "    def update(self, subject: Subject) -> None:\n",
    "        print(f\"ObserverA: Subject's state is now {subject.get_state()}\")\n",
    "\n",
    "class ObserverB(Observer):\n",
    "    \"\"\"구체적인 관찰자 B\"\"\"\n",
    "    def update(self, subject: Subject) -> None:\n",
    "        print(f\"ObserverB: Subject's state is now {subject.get_state() * 2}\")"
   ]
  },
  {
   "cell_type": "code",
   "execution_count": 3,
   "metadata": {},
   "outputs": [],
   "source": [
    "class Caretaker:\n",
    "    \"\"\"관리자\"\"\"\n",
    "    def __init__(self):\n",
    "        self._mementos: List[Memento] = []\n",
    "        self.current_index: int = -1\n",
    "\n",
    "    def add_memento(self, memento: Memento) -> None:\n",
    "        self._mementos.append(memento)\n",
    "        self.current_index += 1\n",
    "\n",
    "    def get_memento(self, index: int) -> Optional[Memento]:\n",
    "        if 0 <= index < len(self._mementos):\n",
    "            return self._mementos[index]\n",
    "        else:\n",
    "            print(\"Invalid Memento index.\")\n",
    "            return None\n",
    "\n",
    "    def undo(self, originator: Originator) -> None:\n",
    "        if self.current_index > 0:\n",
    "            self.current_index -= 1\n",
    "            memento = self._mementos[self.current_index]\n",
    "            originator.restore_from_memento(memento)\n",
    "        else:\n",
    "            print(\"No more states to undo.\")\n",
    "\n",
    "    def redo(self, originator: Originator) -> None:\n",
    "        if self.current_index < len(self._mementos) - 1:\n",
    "            self.current_index += 1\n",
    "            memento = self._mementos[self.current_index]\n",
    "            originator.restore_from_memento(memento)\n",
    "        else:\n",
    "            print(\"No more states to redo.\")\n",
    "\n",
    "    def show_current_index(self) -> None:\n",
    "        print(f\"Current index: {self.current_index}\")"
   ]
  },
  {
   "cell_type": "code",
   "execution_count": 5,
   "metadata": {},
   "outputs": [
    {
     "name": "stdout",
     "output_type": "stream",
     "text": [
      "ObserverA: Subject's state is now 5\n",
      "ObserverB: Subject's state is now 10\n",
      "\n",
      "ObserverA: Subject's state is now 10\n",
      "ObserverB: Subject's state is now 20\n",
      "\n",
      "ObserverB: Subject's state is now 30\n"
     ]
    }
   ],
   "source": [
    "\"\"\"클라이언트 코드\"\"\"\n",
    "subject = Subject()\n",
    "observer_a = ObserverA()\n",
    "observer_b = ObserverB()\n",
    "\n",
    "subject.attach(observer_a)\n",
    "subject.attach(observer_b)\n",
    "\n",
    "subject.set_state(5)\n",
    "print()\n",
    "\n",
    "subject.set_state(10)\n",
    "print()\n",
    "\n",
    "subject.detach(observer_a)\n",
    "\n",
    "subject.set_state(15)"
   ]
  },
  {
   "cell_type": "markdown",
   "metadata": {},
   "source": [
    "### Plant UML"
   ]
  },
  {
   "cell_type": "markdown",
   "metadata": {},
   "source": [
    "```plantuml\n",
    "@startuml\n",
    "skinparam classAttributeIconSize 0\n",
    "\n",
    "interface Observer {\n",
    "    + {abstract} update(subject : Subject)\n",
    "}\n",
    "\n",
    "class Subject {\n",
    "    - _observers : List<Observer>\n",
    "    - _state : int\n",
    "    + attach(observer : Observer)\n",
    "    + detach(observer : Observer)\n",
    "    + get_state() : int\n",
    "    + set_state(state : int)\n",
    "    - _notify()\n",
    "}\n",
    "\n",
    "class ObserverA implements Observer {\n",
    "    + update(subject : Subject)\n",
    "}\n",
    "\n",
    "class ObserverB implements Observer {\n",
    "    + update(subject : Subject)\n",
    "}\n",
    "\n",
    "Subject \"has many\" -- \"*\" Observer : notifies\n",
    "\n",
    "hide empty members\n",
    "@enduml\n",
    "```"
   ]
  }
 ],
 "metadata": {
  "kernelspec": {
   "display_name": "Python 3",
   "language": "python",
   "name": "python3"
  },
  "language_info": {
   "codemirror_mode": {
    "name": "ipython",
    "version": 3
   },
   "file_extension": ".py",
   "mimetype": "text/x-python",
   "name": "python",
   "nbconvert_exporter": "python",
   "pygments_lexer": "ipython3",
   "version": "3.12.4"
  }
 },
 "nbformat": 4,
 "nbformat_minor": 2
}
