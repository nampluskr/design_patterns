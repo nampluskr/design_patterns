{
 "cells": [
  {
   "cell_type": "markdown",
   "metadata": {},
   "source": [
    "## [Behavioral] Visitor Method"
   ]
  },
  {
   "cell_type": "markdown",
   "metadata": {},
   "source": [
    "![Visitor Method](https://www.planttext.com/plantuml/png/jP9BYm8n48Jl0_CV6a_ZYh1wzAI2XpqlU1qwcLR3JkAGj88h_dSpZ_WQHJsOKqXLwgiq6Jj6onkTnv7xKwP0YnfaZivDcAqI6wOVkJQ_wf_WEuxYI1ackq19C5TEyTh2Fex0hnxiKJYsAFa0sr9BCQ6SD1c64SpgtQJxq2tQxgbt7qfgrIWG1w1qKHjSkyKBw3Tvmy_ppbDjbBjJHIcfu6JRL1Y5CjUj0_wozKrg7z8C6LFq6HuTK4lYvZpfNYjlaQSla8NFyCzgaKL5lb2UaKD-vwlZm-SdMttFbPQLoWX85xm3JLgGzQTZCbdrwuy0)"
   ]
  },
  {
   "cell_type": "code",
   "execution_count": 6,
   "metadata": {},
   "outputs": [],
   "source": [
    "from __future__ import annotations\n",
    "from abc import ABC, abstractmethod\n",
    "from typing import List"
   ]
  },
  {
   "cell_type": "code",
   "execution_count": 2,
   "metadata": {},
   "outputs": [],
   "source": [
    "class Element(ABC):\n",
    "    \"\"\"요소 인터페이스\"\"\"\n",
    "    @abstractmethod\n",
    "    def accept(self, visitor: \"Visitor\") -> None:\n",
    "        \"\"\"방문자 수락\"\"\"\n",
    "        pass\n",
    "\n",
    "class ElementA(Element):\n",
    "    \"\"\"구체적인 요소 A\"\"\"\n",
    "    def __init__(self, data: int):\n",
    "        self._data_a = data\n",
    "\n",
    "    def get_data_a(self) -> int:\n",
    "        return self._data_a\n",
    "\n",
    "    def accept(self, visitor: \"Visitor\") -> None:\n",
    "        visitor.visit_a(self)\n",
    "\n",
    "class ElementB(Element):\n",
    "    \"\"\"구체적인 요소 B\"\"\"\n",
    "    def __init__(self, data: str):\n",
    "        self._data_b = data\n",
    "\n",
    "    def get_data_b(self) -> str:\n",
    "        return self._data_b\n",
    "\n",
    "    def accept(self, visitor: \"Visitor\") -> None:\n",
    "        visitor.visit_b(self)"
   ]
  },
  {
   "cell_type": "code",
   "execution_count": 3,
   "metadata": {},
   "outputs": [],
   "source": [
    "class Visitor(ABC):\n",
    "    \"\"\"방문자 인터페이스\"\"\"\n",
    "    @abstractmethod\n",
    "    def visit_a(self, element: ElementA) -> None:\n",
    "        \"\"\"요소 A 방문\"\"\"\n",
    "        pass\n",
    "\n",
    "    @abstractmethod\n",
    "    def visit_b(self, element: ElementB) -> None:\n",
    "        \"\"\"요소 B 방문\"\"\"\n",
    "        pass\n",
    "\n",
    "class Visitor1(Visitor):\n",
    "    \"\"\"구체적인 방문자 1\"\"\"\n",
    "    def visit_a(self, element: ElementA) -> None:\n",
    "        print(f\"Visitor1 visiting ElementA: {element.get_data_a()}\")\n",
    "\n",
    "    def visit_b(self, element: ElementB) -> None:\n",
    "        print(f\"Visitor1 visiting ElementB: {element.get_data_b()}\")\n",
    "\n",
    "class Visitor2(Visitor):\n",
    "    \"\"\"구체적인 방문자 2\"\"\"\n",
    "    def visit_a(self, element: ElementA) -> None:\n",
    "        print(f\"Visitor2 visiting ElementA: {element.get_data_a() * 2}\")\n",
    "\n",
    "    def visit_b(self, element: ElementB) -> None:\n",
    "        print(f\"Visitor2 visiting ElementB: {element.get_data_b()} (visited)\")"
   ]
  },
  {
   "cell_type": "code",
   "execution_count": 5,
   "metadata": {},
   "outputs": [
    {
     "name": "stdout",
     "output_type": "stream",
     "text": [
      "Visitor1 visiting ElementA: 10\n",
      "Visitor2 visiting ElementA: 20\n",
      "Visitor1 visiting ElementB: Hello\n",
      "Visitor2 visiting ElementB: Hello (visited)\n"
     ]
    }
   ],
   "source": [
    "\"\"\"클라이언트 코드\"\"\"\n",
    "elements: List[Element] = [\n",
    "    ElementA(10),\n",
    "    ElementB(\"Hello\")\n",
    "]\n",
    "\n",
    "visitor1 = Visitor1()\n",
    "visitor2 = Visitor2()\n",
    "\n",
    "for element in elements:\n",
    "    element.accept(visitor1)\n",
    "    element.accept(visitor2)"
   ]
  },
  {
   "cell_type": "markdown",
   "metadata": {},
   "source": [
    "### Plant UML"
   ]
  },
  {
   "cell_type": "markdown",
   "metadata": {},
   "source": [
    "```plantuml\n",
    "@startuml\n",
    "skinparam classAttributeIconSize 0\n",
    "\n",
    "interface Visitor {\n",
    "    + {abstract} visit_a(element : ElementA)\n",
    "    + {abstract} visit_b(element : ElementB)\n",
    "}\n",
    "\n",
    "class Visitor1 implements Visitor {\n",
    "    + visit_a(element : ElementA)\n",
    "    + visit_b(element : ElementB)\n",
    "}\n",
    "\n",
    "class Visitor2 implements Visitor {\n",
    "    + visit_a(element : ElementA)\n",
    "    + visit_b(element : ElementB)\n",
    "}\n",
    "\n",
    "interface Element {\n",
    "    + {abstract} accept(visitor : Visitor)\n",
    "}\n",
    "\n",
    "class ElementA implements Element {\n",
    "    - _data_a : int\n",
    "    + get_data_a() : int\n",
    "    + accept(visitor : Visitor)\n",
    "}\n",
    "\n",
    "class ElementB implements Element {\n",
    "    - _data_b : str\n",
    "    + get_data_b() : str\n",
    "    + accept(visitor : Visitor)\n",
    "}\n",
    "\n",
    "Element \"*\" - Visitor : accepts\n",
    "\n",
    "hide empty members\n",
    "@enduml\n",
    "```"
   ]
  }
 ],
 "metadata": {
  "kernelspec": {
   "display_name": "Python 3",
   "language": "python",
   "name": "python3"
  },
  "language_info": {
   "codemirror_mode": {
    "name": "ipython",
    "version": 3
   },
   "file_extension": ".py",
   "mimetype": "text/x-python",
   "name": "python",
   "nbconvert_exporter": "python",
   "pygments_lexer": "ipython3",
   "version": "3.12.4"
  }
 },
 "nbformat": 4,
 "nbformat_minor": 2
}
