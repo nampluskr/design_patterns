{
 "cells": [
  {
   "cell_type": "markdown",
   "metadata": {},
   "source": [
    "## [Behavioral] Chain of Responsibility Method"
   ]
  },
  {
   "cell_type": "markdown",
   "metadata": {},
   "source": [
    "![Factory Method](https://www.planttext.com/plantuml/png/lPBF2i8m3CRlXRv3q8io1fuz-UUYPnzWT5t0ujhD9WDrxDrjdHD43thG7bh8zoM_X6P1h3mtjfI23iRLoYiBkbH4IsPlyePngoktCnU4cHGg9_PASs-1ZN95YHvQAI2S53A79uRv8FJX10ZvfapYbUtlMG_RTF3roiJZiK6ATOpZkpY6Te1te9NBtdh3arTL-IQbzfL6efVQdHHIF4spXD0akk9blEH3Rl85RFLFsFh7iA7gA7xp2DBqmPd75Q3esPi20MtDPx1eS_GXkWWzXHMy0W00)"
   ]
  },
  {
   "cell_type": "code",
   "execution_count": 1,
   "metadata": {},
   "outputs": [],
   "source": [
    "from __future__ import annotations\n",
    "from abc import ABC, abstractmethod\n",
    "from typing import Optional"
   ]
  },
  {
   "cell_type": "code",
   "execution_count": 2,
   "metadata": {},
   "outputs": [],
   "source": [
    "class Handler(ABC):\n",
    "    \"\"\"추상 핸들러 인터페이스\"\"\"\n",
    "    def __init__(self):\n",
    "        self._next: Optional[Handler] = None\n",
    "\n",
    "    def set_next(self, next_handler: \"Handler\") -> None:\n",
    "        \"\"\"다음 핸들러 설정\"\"\"\n",
    "        self._next = next_handler\n",
    "\n",
    "    def handle(self, request: int) -> None:\n",
    "        \"\"\"요청 처리\"\"\"\n",
    "        if self.can_handle(request):\n",
    "            self.process(request)\n",
    "        elif self._next:\n",
    "            self._next.handle(request)\n",
    "        else:\n",
    "            print(f\"Request {request} reached the end of the chain.\")\n",
    "\n",
    "    @abstractmethod\n",
    "    def can_handle(self, request: int) -> bool:\n",
    "        \"\"\"요청을 처리할 수 있는지 확인하는 추상 메서드\"\"\"\n",
    "        pass\n",
    "\n",
    "    @abstractmethod\n",
    "    def process(self, request: int) -> None:\n",
    "        \"\"\"요청을 처리하는 추상 메서드\"\"\"\n",
    "        pass\n",
    "\n",
    "class HandlerA(Handler):\n",
    "    \"\"\"구체적인 핸들러 A\"\"\"\n",
    "    def can_handle(self, request: int) -> bool:\n",
    "        return 0 <= request < 10\n",
    "\n",
    "    def process(self, request: int) -> None:\n",
    "        print(f\"HandlerA handled request: {request}\")\n",
    "\n",
    "class HandlerB(Handler):\n",
    "    \"\"\"구체적인 핸들러 B\"\"\"\n",
    "    def can_handle(self, request: int) -> bool:\n",
    "        return 10 <= request < 20\n",
    "\n",
    "    def process(self, request: int) -> None:\n",
    "        print(f\"HandlerB handled request: {request}\")\n",
    "\n",
    "class HandlerC(Handler):\n",
    "    \"\"\"구체적인 핸들러 C\"\"\"\n",
    "    def can_handle(self, request: int) -> bool:\n",
    "        return 20 <= request < 30\n",
    "\n",
    "    def process(self, request: int) -> None:\n",
    "        print(f\"HandlerC handled request: {request}\")"
   ]
  },
  {
   "cell_type": "code",
   "execution_count": 3,
   "metadata": {},
   "outputs": [
    {
     "name": "stdout",
     "output_type": "stream",
     "text": [
      "HandlerA handled request: 5\n",
      "HandlerB handled request: 15\n",
      "HandlerC handled request: 25\n",
      "Request 35 reached the end of the chain.\n"
     ]
    }
   ],
   "source": [
    "handler_a = HandlerA()\n",
    "handler_b = HandlerB()\n",
    "handler_c = HandlerC()\n",
    "\n",
    "handler_a.set_next(handler_b)\n",
    "handler_b.set_next(handler_c)\n",
    "\n",
    "handler_a.handle(5)\n",
    "handler_a.handle(15)\n",
    "handler_a.handle(25)\n",
    "handler_a.handle(35)"
   ]
  },
  {
   "cell_type": "markdown",
   "metadata": {},
   "source": [
    "### Plant UML"
   ]
  },
  {
   "cell_type": "markdown",
   "metadata": {},
   "source": [
    "```plantuml\n",
    "@startuml\n",
    "skinparam classAttributeIconSize 0\n",
    "abstract class Handler {\n",
    "    - _next : Handler\n",
    "    + set_next(next_handler : Handler)\n",
    "    + handle(request : int)\n",
    "    # {abstract} can_handle(request : int) : bool\n",
    "    # {abstract} process(request : int)\n",
    "}\n",
    "\n",
    "class HandlerA extends Handler {\n",
    "    + can_handle(request : int) : bool\n",
    "    + process(request : int)\n",
    "}\n",
    "\n",
    "class HandlerB extends Handler {\n",
    "    + can_handle(request : int) : bool\n",
    "    + process(request : int)\n",
    "}\n",
    "\n",
    "class HandlerC extends Handler {\n",
    "    + can_handle(request : int) : bool\n",
    "    + process(request : int)\n",
    "}\n",
    "\n",
    "Handler \"next\" -- Handler : sets\n",
    "\n",
    "hide empty members\n",
    "@enduml\n",
    "```"
   ]
  }
 ],
 "metadata": {
  "kernelspec": {
   "display_name": "Python 3",
   "language": "python",
   "name": "python3"
  },
  "language_info": {
   "codemirror_mode": {
    "name": "ipython",
    "version": 3
   },
   "file_extension": ".py",
   "mimetype": "text/x-python",
   "name": "python",
   "nbconvert_exporter": "python",
   "pygments_lexer": "ipython3",
   "version": "3.12.4"
  }
 },
 "nbformat": 4,
 "nbformat_minor": 2
}
