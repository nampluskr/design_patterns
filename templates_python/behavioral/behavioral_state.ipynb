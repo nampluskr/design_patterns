{
 "cells": [
  {
   "cell_type": "markdown",
   "metadata": {},
   "source": [
    "## [Behavioral] State Method"
   ]
  },
  {
   "cell_type": "markdown",
   "metadata": {},
   "source": [
    "![State Method](https://www.planttext.com/plantuml/png/dP7D2i8m48JlWRp37gj5yDoJrPFdFe2awOB59gtPBVY3xsxQccAj5ms4G6PdlY7P42l7hQcae5Df6-MK0LqfefJPbNdBkDUrpSeRmbeAALHEx9JcOGXsjMMyCDob0BzMSF21Z910rft3RGo4F0ZHH5u4_HvY7-3mt29nvBL71nmvsY5ZuFcDjfZnuvdzes-FVMkhN_ua97rfT5Isg32QZKuRzidfM6m2Yd_9sFwR4TvYkNev4syXK9rsB0i4D0rVmQ39qP4K6m_fV_u9)"
   ]
  },
  {
   "cell_type": "code",
   "execution_count": 1,
   "metadata": {},
   "outputs": [],
   "source": [
    "from __future__ import annotations\n",
    "from abc import ABC, abstractmethod\n",
    "from typing import Optional"
   ]
  },
  {
   "cell_type": "code",
   "execution_count": 3,
   "metadata": {},
   "outputs": [],
   "source": [
    "class Context:\n",
    "    \"\"\"컨텍스트 추상 클래스\"\"\"\n",
    "    def __init__(self):\n",
    "        self._state: Optional[\"State\"] = None\n",
    "\n",
    "    def set_state(self, state: \"State\") -> None:\n",
    "        self._state = state\n",
    "\n",
    "    @abstractmethod\n",
    "    def request(self) -> None:\n",
    "        pass\n",
    "\n",
    "class ConcreteContext(Context):\n",
    "    \"\"\"구체적인 컨텍스트\"\"\"\n",
    "    def __init__(self):\n",
    "        super().__init__()\n",
    "        self._state = StateA(self)  # 초기 상태\n",
    "\n",
    "    def request(self) -> None:\n",
    "        if self._state:\n",
    "            self._state.handle(self)"
   ]
  },
  {
   "cell_type": "code",
   "execution_count": 4,
   "metadata": {},
   "outputs": [],
   "source": [
    "class State(ABC):\n",
    "    \"\"\"상태 추상 클래스\"\"\"\n",
    "    def __init__(self, context: Context):\n",
    "        self._context = context\n",
    "\n",
    "    @abstractmethod\n",
    "    def handle(self, context: Context) -> None:\n",
    "        \"\"\"상태 처리\"\"\"\n",
    "        pass\n",
    "    \n",
    "class StateA(State):\n",
    "    \"\"\"구체적인 상태 A\"\"\"\n",
    "    def handle(self, context: Context) -> None:\n",
    "        print(\"Handling in StateA. Switching to StateB.\")\n",
    "        context.set_state(StateB(context))\n",
    "\n",
    "class StateB(State):\n",
    "    \"\"\"구체적인 상태 B\"\"\"\n",
    "    def handle(self, context: Context) -> None:\n",
    "        print(\"Handling in StateB. Switching to StateA.\")\n",
    "        context.set_state(StateA(context))"
   ]
  },
  {
   "cell_type": "code",
   "execution_count": 5,
   "metadata": {},
   "outputs": [
    {
     "name": "stdout",
     "output_type": "stream",
     "text": [
      "Handling in StateA. Switching to StateB.\n",
      "Handling in StateB. Switching to StateA.\n",
      "Handling in StateA. Switching to StateB.\n"
     ]
    }
   ],
   "source": [
    "\"\"\"클라이언트 코드\"\"\"\n",
    "context = ConcreteContext()\n",
    "\n",
    "context.request()  # A -> B\n",
    "context.request()  # B -> A\n",
    "context.request()  # A -> B"
   ]
  },
  {
   "cell_type": "markdown",
   "metadata": {},
   "source": [
    "### Plant UML"
   ]
  },
  {
   "cell_type": "markdown",
   "metadata": {},
   "source": [
    "```plantuml\n",
    "@startuml\n",
    "skinparam classAttributeIconSize 0\n",
    "\n",
    "abstract class Context {\n",
    "    - _state : State\n",
    "    + set_state(state : State)\n",
    "    + {abstract} request()\n",
    "}\n",
    "\n",
    "class ConcreteContext extends Context {\n",
    "    + request()\n",
    "}\n",
    "\n",
    "abstract class State {\n",
    "    - _context : Context\n",
    "    + {abstract} handle(context : Context)\n",
    "}\n",
    "\n",
    "class StateA extends State {\n",
    "    + handle(context : Context)\n",
    "}\n",
    "\n",
    "class StateB extends State {\n",
    "    + handle(context : Context)\n",
    "}\n",
    "\n",
    "Context *- State : has a\n",
    "\n",
    "hide empty members\n",
    "@enduml\n",
    "```"
   ]
  }
 ],
 "metadata": {
  "kernelspec": {
   "display_name": "Python 3",
   "language": "python",
   "name": "python3"
  },
  "language_info": {
   "codemirror_mode": {
    "name": "ipython",
    "version": 3
   },
   "file_extension": ".py",
   "mimetype": "text/x-python",
   "name": "python",
   "nbconvert_exporter": "python",
   "pygments_lexer": "ipython3",
   "version": "3.12.4"
  }
 },
 "nbformat": 4,
 "nbformat_minor": 2
}
