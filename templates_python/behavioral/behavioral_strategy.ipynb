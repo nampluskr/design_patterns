{
 "cells": [
  {
   "cell_type": "markdown",
   "metadata": {},
   "source": [
    "## [Behavioral] Strategy Method"
   ]
  },
  {
   "cell_type": "markdown",
   "metadata": {},
   "source": [
    "![Strategy Method](https://www.planttext.com/plantuml/png/fP7DZi8m38JlaV8EFiAY8iuzmNBYp0D4RkfTectIAdQb5iIx4tvI3g3LIklZUERJM5wpO9JUDrhnZmiTHlHW6sJUY4HNzK8xsuQzEnAijDBA1Q7uXPPWBn65laSuQGLf5d32YfDevGmqa4tPMOs2K4AIvrgThu0RV0flmFck8Kz1-0tnhvZF_s6sRRfga1mem71cb1FkiIior1WNd1WpU-ETtqtBPJOpoSJy9J1LVPfVE-Us7yNpr19w9hvk3wuc8D_929vyHJ6fQmhrxSSN)"
   ]
  },
  {
   "cell_type": "code",
   "execution_count": 1,
   "metadata": {},
   "outputs": [],
   "source": [
    "from __future__ import annotations\n",
    "from abc import ABC, abstractmethod\n",
    "from typing import Optional"
   ]
  },
  {
   "cell_type": "code",
   "execution_count": 2,
   "metadata": {},
   "outputs": [],
   "source": [
    "class Strategy(ABC):\n",
    "    \"\"\"전략 인터페이스\"\"\"\n",
    "    @abstractmethod\n",
    "    def execute(self, data: str) -> None:\n",
    "        \"\"\"실행 메서드\"\"\"\n",
    "        pass\n",
    "\n",
    "class StrategyA(Strategy):\n",
    "    \"\"\"구체적인 전략 A\"\"\"\n",
    "    def execute(self, data: str) -> None:\n",
    "        print(f\"Executing Concrete Strategy A for {data}\")\n",
    "\n",
    "class StrategyB(Strategy):\n",
    "    \"\"\"구체적인 전략 B\"\"\"\n",
    "    def execute(self, data: str) -> None:\n",
    "        print(f\"Executing Concrete Strategy B for {data}\")"
   ]
  },
  {
   "cell_type": "code",
   "execution_count": 3,
   "metadata": {},
   "outputs": [],
   "source": [
    "class Context:\n",
    "    \"\"\"컨텍스트\"\"\"\n",
    "    def __init__(self, strategy: Strategy):\n",
    "        self._strategy: Strategy = strategy\n",
    "\n",
    "    def set_strategy(self, strategy: Strategy) -> None:\n",
    "        # 기존 전략 삭제 (파이썬은 가비지 컬렉션이 처리)\n",
    "        self._strategy = strategy\n",
    "\n",
    "    def execute_strategy(self, data: str) -> None:\n",
    "        self._strategy.execute(data)"
   ]
  },
  {
   "cell_type": "code",
   "execution_count": 4,
   "metadata": {},
   "outputs": [
    {
     "name": "stdout",
     "output_type": "stream",
     "text": [
      "Executing Concrete Strategy A for data\n",
      "Executing Concrete Strategy B for data\n",
      "Executing Concrete Strategy A for data\n"
     ]
    }
   ],
   "source": [
    "\"\"\"클라이언트 코드\"\"\"\n",
    "data = \"data\"\n",
    "\n",
    "# 전략 A 사용\n",
    "context = Context(StrategyA())\n",
    "context.execute_strategy(data)\n",
    "\n",
    "# 전략 변경 (전략 B로 변경)\n",
    "context.set_strategy(StrategyB())\n",
    "context.execute_strategy(data)\n",
    "\n",
    "# 전략 A 다시 사용\n",
    "context.set_strategy(StrategyA())\n",
    "context.execute_strategy(data)"
   ]
  },
  {
   "cell_type": "markdown",
   "metadata": {},
   "source": [
    "### Plant UML"
   ]
  },
  {
   "cell_type": "markdown",
   "metadata": {},
   "source": [
    "```plantuml\n",
    "@startuml\n",
    "skinparam classAttributeIconSize 0\n",
    "\n",
    "interface Strategy {\n",
    "    + {abstract} execute(data : str)\n",
    "}\n",
    "\n",
    "class StrategyA implements Strategy {\n",
    "    + execute(data : str)\n",
    "}\n",
    "\n",
    "class StrategyB implements Strategy {\n",
    "    + execute(data : str)\n",
    "}\n",
    "\n",
    "class Context {\n",
    "    - _strategy : Strategy\n",
    "    --\n",
    "    + __init__(strategy : Strategy)\n",
    "    ..\n",
    "    + set_strategy(strategy : Strategy)\n",
    "    + execute_strategy(data : str)\n",
    "}\n",
    "\n",
    "Context *- Strategy : uses\n",
    "\n",
    "hide empty members\n",
    "@enduml\n",
    "```"
   ]
  }
 ],
 "metadata": {
  "kernelspec": {
   "display_name": "Python 3",
   "language": "python",
   "name": "python3"
  },
  "language_info": {
   "codemirror_mode": {
    "name": "ipython",
    "version": 3
   },
   "file_extension": ".py",
   "mimetype": "text/x-python",
   "name": "python",
   "nbconvert_exporter": "python",
   "pygments_lexer": "ipython3",
   "version": "3.12.4"
  }
 },
 "nbformat": 4,
 "nbformat_minor": 2
}
