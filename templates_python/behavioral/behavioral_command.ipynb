{
 "cells": [
  {
   "cell_type": "markdown",
   "metadata": {},
   "source": [
    "## [Behavioral] Command Method"
   ]
  },
  {
   "cell_type": "markdown",
   "metadata": {},
   "source": [
    "![Factory Method](https://www.planttext.com/plantuml/png/pP91JiCm44Ntbdo7KLOfA1MmHAXgOLM95HmWSfn1Z1exaJsfWAftnwHsGqCEW3UnFDzldaTPUrQEUzD8uNTaE-MK0TqexpVCZggUSQjR-qfV23TIa6LqRqeZFBN6A5l3GGe8wneEglBibEOZu0VgS35VpDHwMxS_XQCKKWoDu0KrqXxTo0f9Qktj23WTt4qkHeSDaEaQD6ZPJxqAA5t2tvyxnLgHy6L9bhWiyvbiT5WkK_ZFwsQU52qU_v_PrkxRtJZhOA5FNZwGdydpG_HS9OX7JfayVaCqfXQJtcVQfSJ5yM2JF38QDZw3go91fKYpoYBMGsipA5Q_vYJ5EzK8Q3h-18EcGkUbMAEjmz_y3G00)"
   ]
  },
  {
   "cell_type": "code",
   "execution_count": 1,
   "metadata": {},
   "outputs": [],
   "source": [
    "from __future__ import annotations\n",
    "from abc import ABC, abstractmethod\n",
    "from typing import List"
   ]
  },
  {
   "cell_type": "code",
   "execution_count": 2,
   "metadata": {},
   "outputs": [],
   "source": [
    "class Command(ABC):\n",
    "    \"\"\"명령 인터페이스\"\"\"\n",
    "    @abstractmethod\n",
    "    def execute(self) -> None:\n",
    "        \"\"\"명령 실행\"\"\"\n",
    "        pass\n",
    "\n",
    "    @abstractmethod\n",
    "    def undo(self) -> None:\n",
    "        \"\"\"명령 취소\"\"\"\n",
    "        pass\n",
    "\n",
    "class Receiver:\n",
    "    \"\"\"실제 작업을 수행하는 수신자\"\"\"\n",
    "    def action1(self) -> None:\n",
    "        print(\"Receiver: Action 1 수행\")\n",
    "\n",
    "    def action2(self) -> None:\n",
    "        print(\"Receiver: Action 2 수행\")\n",
    "\n",
    "class CommandA(Command):\n",
    "    \"\"\"구체적인 명령 A\"\"\"\n",
    "    def __init__(self, receiver: Receiver):\n",
    "        self._receiver = receiver\n",
    "\n",
    "    def execute(self) -> None:\n",
    "        self._receiver.action1()\n",
    "\n",
    "    def undo(self) -> None:\n",
    "        print(\"CommandA: undo 수행 (Action 1 취소)\")\n",
    "\n",
    "class CommandB(Command):\n",
    "    \"\"\"구체적인 명령 B\"\"\"\n",
    "    def __init__(self, receiver: Receiver):\n",
    "        self._receiver = receiver\n",
    "\n",
    "    def execute(self) -> None:\n",
    "        self._receiver.action2()\n",
    "\n",
    "    def undo(self) -> None:\n",
    "        print(\"CommandB: undo 수행 (Action 2 취소)\")"
   ]
  },
  {
   "cell_type": "code",
   "execution_count": 3,
   "metadata": {},
   "outputs": [],
   "source": [
    "class Invoker:\n",
    "    \"\"\"명령을 실행하는 호출자\"\"\"\n",
    "    def __init__(self):\n",
    "        self._commands: List[Command] = []\n",
    "\n",
    "    def set_command(self, command: Command) -> None:\n",
    "        self._commands.append(command)\n",
    "\n",
    "    def execute_commands(self) -> None:\n",
    "        for command in self._commands:\n",
    "            command.execute()\n",
    "\n",
    "    def undo_commands(self) -> None:\n",
    "        for command in reversed(self._commands): # reversed를 사용하여 역순으로 undo\n",
    "            command.undo()"
   ]
  },
  {
   "cell_type": "code",
   "execution_count": 4,
   "metadata": {},
   "outputs": [
    {
     "name": "stdout",
     "output_type": "stream",
     "text": [
      "Receiver: Action 1 수행\n",
      "Receiver: Action 2 수행\n",
      "\n",
      "CommandB: undo 수행 (Action 2 취소)\n",
      "CommandA: undo 수행 (Action 1 취소)\n"
     ]
    }
   ],
   "source": [
    "receiver = Receiver()\n",
    "invoker = Invoker()\n",
    "\n",
    "command1 = CommandA(receiver)\n",
    "command2 = CommandB(receiver)\n",
    "\n",
    "invoker.set_command(command1)\n",
    "invoker.set_command(command2)\n",
    "\n",
    "invoker.execute_commands()\n",
    "print()\n",
    "invoker.undo_commands()"
   ]
  },
  {
   "cell_type": "markdown",
   "metadata": {},
   "source": [
    "### Plant UML"
   ]
  },
  {
   "cell_type": "markdown",
   "metadata": {},
   "source": [
    "```plantuml\n",
    "@startuml\n",
    "skinparam classAttributeIconSize 0\n",
    "interface Command {\n",
    "    + {abstract} execute()\n",
    "    + {abstract} undo()\n",
    "}\n",
    "\n",
    "class Receiver {\n",
    "    + action1()\n",
    "    + action2()\n",
    "}\n",
    "\n",
    "class CommandA implements Command {\n",
    "    - _receiver : Receiver\n",
    "    --\n",
    "    + __init__(receiver : Receiver)\n",
    "    ..\n",
    "    + execute()\n",
    "    + undo()\n",
    "}\n",
    "class CommandB implements Command {\n",
    "    - _receiver : Receiver\n",
    "    --\n",
    "    + __init__(receiver : Receiver)\n",
    "    ..\n",
    "    + execute()\n",
    "    + undo()\n",
    "}\n",
    "\n",
    "class Invoker {\n",
    "    - _commands : List<Command>\n",
    "    + set_command(command : Command)\n",
    "    + execute_commands()\n",
    "    + undo_commands()\n",
    "}\n",
    "\n",
    "Invoker \"invokes\" *- Command\n",
    "Command \"executes on\" -> Receiver\n",
    "\n",
    "hide empty members\n",
    "@enduml\n",
    "```"
   ]
  }
 ],
 "metadata": {
  "kernelspec": {
   "display_name": "Python 3",
   "language": "python",
   "name": "python3"
  },
  "language_info": {
   "codemirror_mode": {
    "name": "ipython",
    "version": 3
   },
   "file_extension": ".py",
   "mimetype": "text/x-python",
   "name": "python",
   "nbconvert_exporter": "python",
   "pygments_lexer": "ipython3",
   "version": "3.12.4"
  }
 },
 "nbformat": 4,
 "nbformat_minor": 2
}
