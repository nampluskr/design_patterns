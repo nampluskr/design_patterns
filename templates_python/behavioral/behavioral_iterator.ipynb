{
 "cells": [
  {
   "cell_type": "markdown",
   "metadata": {},
   "source": [
    "## [Behavioral] Iterator Method"
   ]
  },
  {
   "cell_type": "markdown",
   "metadata": {},
   "source": [
    "![Mediator Method](https://www.planttext.com/plantuml/png/ZPBDQiCm48Jl0h_3abD2QEWvb92GKw2tF81Porj7L3z6ku6s8UzU-IyksANLGGZDCjyCqfu5eroTpHI_6rzZH0VQ8lD199hYAdJImP_D5y5pfZ9bl51yGqrmIWUK4E6MAKXh3JSiM29gkSC5EVVq8SiLRA48mSxCFFJacQbxuzwIuHYyZfJ80y6usf8ZBpoXFa6kWxManGIVl5uDoqiot3taEh3fnHRKvVWru4ogiVEXgY9LA3HREeLEKcxwYAtBa7Usu6Zte-64yKV5DM1PDb2tRBOk-MhG_f5f12wwQLuavZWqJRlPJTzeswEuiRoOae1SBP_Wo1KKsziz-RBzQjy0)"
   ]
  },
  {
   "cell_type": "code",
   "execution_count": 10,
   "metadata": {},
   "outputs": [],
   "source": [
    "from __future__ import annotations\n",
    "from abc import ABC, abstractmethod\n",
    "from typing import Optional"
   ]
  },
  {
   "cell_type": "code",
   "execution_count": 11,
   "metadata": {},
   "outputs": [],
   "source": [
    "class Iterator(ABC):\n",
    "    \"\"\"이터레이터 인터페이스\"\"\"\n",
    "    @abstractmethod\n",
    "    def has_next(self) -> bool:\n",
    "        \"\"\"다음 요소가 있는지 확인\"\"\"\n",
    "        pass\n",
    "\n",
    "    @abstractmethod\n",
    "    def next(self) -> int:\n",
    "        \"\"\"다음 요소 반환\"\"\"\n",
    "        pass\n",
    "\n",
    "class ConcreteIterator(Iterator):\n",
    "    \"\"\"구체적인 이터레이터\"\"\"\n",
    "    def __init__(self, collection: List[int]):\n",
    "        self._collection = collection\n",
    "        self._position = 0\n",
    "\n",
    "    def has_next(self) -> bool:\n",
    "        return self._position < len(self._collection)\n",
    "\n",
    "    def next(self) -> int:\n",
    "        if self.has_next():\n",
    "            item = self._collection[self._position]\n",
    "            self._position += 1\n",
    "            return item\n",
    "        return -1  # 또는 StopIteration 예외 발생"
   ]
  },
  {
   "cell_type": "code",
   "execution_count": 12,
   "metadata": {},
   "outputs": [],
   "source": [
    "class Aggregate(ABC):\n",
    "    \"\"\"집합 인터페이스\"\"\"\n",
    "    @abstractmethod\n",
    "    def create_iterator(self) -> Iterator:\n",
    "        \"\"\"이터레이터 생성\"\"\"\n",
    "        pass\n",
    "\n",
    "class ConcreteAggregate(Aggregate):\n",
    "    \"\"\"구체적인 집합\"\"\"\n",
    "    def __init__(self):\n",
    "        self._collection: List[int] = []\n",
    "\n",
    "    def add_item(self, item: int) -> None:\n",
    "        self._collection.append(item)\n",
    "\n",
    "    def create_iterator(self) -> Iterator:\n",
    "        return ConcreteIterator(self._collection)"
   ]
  },
  {
   "cell_type": "code",
   "execution_count": 14,
   "metadata": {},
   "outputs": [
    {
     "name": "stdout",
     "output_type": "stream",
     "text": [
      "1 2 3 \n"
     ]
    }
   ],
   "source": [
    "\"\"\"클라이언트 코드\"\"\"\n",
    "aggregate = ConcreteAggregate()\n",
    "aggregate.add_item(1)\n",
    "aggregate.add_item(2)\n",
    "aggregate.add_item(3)\n",
    "\n",
    "iterator = aggregate.create_iterator()\n",
    "while iterator.has_next():\n",
    "    print(iterator.next(), end=\" \")\n",
    "print()"
   ]
  },
  {
   "cell_type": "markdown",
   "metadata": {},
   "source": [
    "### Plant UML"
   ]
  },
  {
   "cell_type": "markdown",
   "metadata": {},
   "source": [
    "```plantuml\n",
    "@startuml\n",
    "skinparam classAttributeIconSize 0\n",
    "\n",
    "interface Iterator {\n",
    "    + {abstract} has_next() : bool\n",
    "    + {abstract} next() : int\n",
    "}\n",
    "\n",
    "class ConcreteIterator implements Iterator {\n",
    "    - _collection : List<int>\n",
    "    - _position : int\n",
    "    + has_next() : bool\n",
    "    + next() : int\n",
    "}\n",
    "\n",
    "interface Aggregate {\n",
    "    + {abstract} create_iterator() : Iterator\n",
    "}\n",
    "\n",
    "class ConcreteAggregate implements Aggregate {\n",
    "    - _collection : List<int>\n",
    "    + add_item(item : int)\n",
    "    + create_iterator() : Iterator\n",
    "}\n",
    "\n",
    "Aggregate \"creates\" - Iterator\n",
    "ConcreteAggregate .> ConcreteIterator : creates\n",
    "\n",
    "hide empty members\n",
    "\n",
    "@enduml\n",
    "```"
   ]
  }
 ],
 "metadata": {
  "kernelspec": {
   "display_name": "Python 3",
   "language": "python",
   "name": "python3"
  },
  "language_info": {
   "codemirror_mode": {
    "name": "ipython",
    "version": 3
   },
   "file_extension": ".py",
   "mimetype": "text/x-python",
   "name": "python",
   "nbconvert_exporter": "python",
   "pygments_lexer": "ipython3",
   "version": "3.12.4"
  }
 },
 "nbformat": 4,
 "nbformat_minor": 2
}
