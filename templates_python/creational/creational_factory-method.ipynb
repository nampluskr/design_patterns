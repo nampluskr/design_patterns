{
 "cells": [
  {
   "cell_type": "markdown",
   "metadata": {},
   "source": [
    "## [Creational] Factory Method"
   ]
  },
  {
   "cell_type": "markdown",
   "metadata": {},
   "source": [
    "![Factory Method](https://www.planttext.com/plantuml/png/ZPB1Yi8m48RlWRp3q9Ek53oB1rjFtXRs0MIQZXZM96KoFRYkxsuKOmNhiZc5cV__vnkILHHawTr1g_XjVOUC3im1Own4s3QzqCO4_sL_2EPQMI_4EpG4dnpQtWYSj89qPd329WgZaJE4ZXZ51Z-PQdNMwfQN7TLW-LDNlzTfbMV1cWaby2X6uaojuzQHx4CxcS8YPsTn38wsunJtu2VQzt7Lgw_-Zw--RvENACprGh60Zt90pTtbRra-iCRBAJ2_owqyy8sLw-lilMq9o7Lo14Uk8OvQhSYtwKjS0000)"
   ]
  },
  {
   "cell_type": "code",
   "execution_count": 10,
   "metadata": {},
   "outputs": [],
   "source": [
    "from __future__ import annotations\n",
    "from abc import ABC, abstractmethod\n",
    "from typing import Protocol"
   ]
  },
  {
   "cell_type": "code",
   "execution_count": 11,
   "metadata": {},
   "outputs": [],
   "source": [
    "# 추상 제품 인터페이스\n",
    "class Product(ABC):\n",
    "    @abstractmethod\n",
    "    def operation(self) -> None:\n",
    "        \"\"\"제품의 기능을 수행하는 추상 메서드\"\"\"\n",
    "        pass\n",
    "\n",
    "# 구체적인 제품 A 클래스\n",
    "class ProductA(Product):\n",
    "    def operation(self) -> None:\n",
    "        \"\"\"Product A의 operation 메서드 구현\"\"\"\n",
    "        print(\"Using Product A\")\n",
    "\n",
    "# 구체적인 제품 B 클래스\n",
    "class ProductB(Product):\n",
    "    def operation(self) -> None:\n",
    "        \"\"\"Product B의 operation 메서드 구현\"\"\"\n",
    "        print(\"Using Product B\")"
   ]
  },
  {
   "cell_type": "code",
   "execution_count": 12,
   "metadata": {},
   "outputs": [],
   "source": [
    "# 추상 생성자 인터페이스\n",
    "class Creator(ABC):\n",
    "    @abstractmethod\n",
    "    def factory_method(self) -> Product:\n",
    "        \"\"\"제품 객체를 생성하는 추상 팩토리 메서드\"\"\"\n",
    "        pass\n",
    "\n",
    "    def some_operation(self) -> None:\n",
    "        \"\"\"팩토리 메서드를 사용하여 제품을 생성하고 사용하는 메서드\"\"\"\n",
    "        product = self.factory_method()\n",
    "        product.operation()\n",
    "        # 파이썬은 가비지 컬렉션이므로 명시적인 삭제가 필요 없음\n",
    "\n",
    "# 구체적인 생성자 A 클래스\n",
    "class CreatorA(Creator):\n",
    "    def factory_method(self) -> ProductA:\n",
    "        \"\"\"Product A 객체를 생성하는 팩토리 메서드 구현\"\"\"\n",
    "        print(\"CreatorA creates ProductA\")\n",
    "        return ProductA()\n",
    "\n",
    "# 구체적인 생성자 B 클래스\n",
    "class CreatorB(Creator):\n",
    "    def factory_method(self) -> ProductB:\n",
    "        \"\"\"Product B 객체를 생성하는 팩토리 메서드 구현\"\"\"\n",
    "        print(\"CreatorB creates ProductB\")\n",
    "        return ProductB()"
   ]
  },
  {
   "cell_type": "code",
   "execution_count": 13,
   "metadata": {},
   "outputs": [
    {
     "name": "stdout",
     "output_type": "stream",
     "text": [
      "CreatorA creates ProductA\n",
      "Using Product A\n",
      "CreatorB creates ProductB\n",
      "Using Product B\n"
     ]
    }
   ],
   "source": [
    "## Usage-1\n",
    "creator_a = CreatorA()\n",
    "product_a = creator_a.factory_method()\n",
    "product_a.operation()\n",
    "\n",
    "creator_b = CreatorB()\n",
    "product_b = creator_b.factory_method()\n",
    "product_b.operation()"
   ]
  },
  {
   "cell_type": "code",
   "execution_count": 14,
   "metadata": {},
   "outputs": [
    {
     "name": "stdout",
     "output_type": "stream",
     "text": [
      "CreatorA creates ProductA\n",
      "Using Product A\n",
      "CreatorB creates ProductB\n",
      "Using Product B\n"
     ]
    }
   ],
   "source": [
    "## Usage-2\n",
    "creator_a = CreatorA()\n",
    "creator_a.some_operation()\n",
    "\n",
    "creator_b = CreatorB()\n",
    "creator_b.some_operation()"
   ]
  },
  {
   "cell_type": "markdown",
   "metadata": {},
   "source": [
    "### Plant UML"
   ]
  },
  {
   "cell_type": "markdown",
   "metadata": {},
   "source": [
    "```plantuml\n",
    "@startuml\n",
    "skinparam classAttributeIconSize 0\n",
    "interface Product {\n",
    "    + {abstract} operation()\n",
    "}\n",
    "class ProductA {\n",
    "    + operation()\n",
    "}\n",
    "class ProductB {\n",
    "    + operation()\n",
    "}\n",
    "\n",
    "abstract Creator {\n",
    "    + {abstract} factory_method() : Product\n",
    "    + some_operation()\n",
    "}\n",
    "class CreatorA {\n",
    "    + factory_method() : ProductA\n",
    "}\n",
    "class CreatorB {\n",
    "    + factory_method() : ProductB\n",
    "}\n",
    "\n",
    "Creator \"creates\" *- Product\n",
    "Creator <|-- CreatorA\n",
    "Creator <|-- CreatorB\n",
    "Product <|-- ProductA\n",
    "Product <|-- ProductB\n",
    "\n",
    "hide empty members\n",
    "@enduml\n",
    "```"
   ]
  }
 ],
 "metadata": {
  "kernelspec": {
   "display_name": "Python 3",
   "language": "python",
   "name": "python3"
  },
  "language_info": {
   "codemirror_mode": {
    "name": "ipython",
    "version": 3
   },
   "file_extension": ".py",
   "mimetype": "text/x-python",
   "name": "python",
   "nbconvert_exporter": "python",
   "pygments_lexer": "ipython3",
   "version": "3.12.4"
  }
 },
 "nbformat": 4,
 "nbformat_minor": 2
}
