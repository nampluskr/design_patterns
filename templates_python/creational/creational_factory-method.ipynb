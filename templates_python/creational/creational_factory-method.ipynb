{
 "cells": [
  {
   "cell_type": "markdown",
   "metadata": {},
   "source": [
    "## [Creational] Factory Method"
   ]
  },
  {
   "cell_type": "markdown",
   "metadata": {},
   "source": [
    "![Factory Method](https://www.planttext.com/plantuml/png/XP5D3eCW48Nt9DnXuge_yGPTM7k1ti0WJAk9Y85nOQnthzHI-sCgApBptfiF9d4aBBMwugoi2Ur5I8IpDQgL13rdC9uzz29tP8Ma0PJ9dD58HLbVDrlE1iva9PmBfkFiMfEcVwMSXQ4mkKuM1HcxI3LYZwqkyn56-OH9uaCpqw0LL9hw0-8PzyRx6_8jJbV4d0N8IFeBkWXsSNZlt3tSulW5i5nEEGjhU9J3zowNKp-xA1K2weOwqAXpj8wp16irRlSE)"
   ]
  },
  {
   "cell_type": "code",
   "execution_count": 21,
   "metadata": {},
   "outputs": [],
   "source": [
    "from __future__ import annotations\n",
    "from abc import ABC, abstractmethod"
   ]
  },
  {
   "cell_type": "code",
   "execution_count": 22,
   "metadata": {},
   "outputs": [],
   "source": [
    "class Product(ABC):\n",
    "    @abstractmethod\n",
    "    def do_something(self):\n",
    "        pass\n",
    "\n",
    "class ProductA(Product):\n",
    "    def do_something(self):\n",
    "        print(\"Using Product A\")\n",
    "\n",
    "class ProductB(Product):\n",
    "    def do_something(self):\n",
    "        print(\"Using Product B\")"
   ]
  },
  {
   "cell_type": "code",
   "execution_count": 23,
   "metadata": {},
   "outputs": [],
   "source": [
    "class Creator(ABC):\n",
    "    @abstractmethod\n",
    "    def factory_method(self):\n",
    "        pass\n",
    "\n",
    "    def some_operation(self):\n",
    "        product = self.factory_method()\n",
    "        product.do_something()\n",
    "\n",
    "class CreatorA(Creator):\n",
    "    def factory_method(self):\n",
    "        print(\"CreatorA creates ProductA\")\n",
    "        return ProductA()\n",
    "\n",
    "class CreatorB(Creator):\n",
    "    def factory_method(self):\n",
    "        print(\"CreatorB creates ProductB\")\n",
    "        return ProductB()"
   ]
  },
  {
   "cell_type": "code",
   "execution_count": 24,
   "metadata": {},
   "outputs": [
    {
     "name": "stdout",
     "output_type": "stream",
     "text": [
      "CreatorA creates ProductA\n",
      "Using Product A\n",
      "CreatorB creates ProductB\n",
      "Using Product B\n"
     ]
    }
   ],
   "source": [
    "## Usage-1\n",
    "creator_a = CreatorA()\n",
    "product_a = creator_a.factory_method()\n",
    "product_a.do_something()\n",
    "\n",
    "creator_b = CreatorB()\n",
    "product_b = creator_b.factory_method()\n",
    "product_b.do_something()"
   ]
  },
  {
   "cell_type": "code",
   "execution_count": 25,
   "metadata": {},
   "outputs": [
    {
     "name": "stdout",
     "output_type": "stream",
     "text": [
      "CreatorA creates ProductA\n",
      "Using Product A\n",
      "CreatorB creates ProductB\n",
      "Using Product B\n"
     ]
    }
   ],
   "source": [
    "## Usage-2\n",
    "creator_a2 = CreatorA()\n",
    "creator_a2.some_operation()\n",
    "\n",
    "creator_b2 = CreatorB()\n",
    "creator_b2.some_operation()"
   ]
  },
  {
   "cell_type": "markdown",
   "metadata": {},
   "source": [
    "### Plant UML"
   ]
  },
  {
   "cell_type": "markdown",
   "metadata": {},
   "source": [
    "```plantuml\n",
    "@startuml\n",
    "interface Product {\n",
    "    + {abstract} do_something()\n",
    "}\n",
    "class ProductA {\n",
    "    + do_something()\n",
    "}\n",
    "class ProductB {\n",
    "    + do_something()\n",
    "}\n",
    "\n",
    "abstract class Creator {\n",
    "    + {abstract} factory_method()\n",
    "    + some_operation()\n",
    "}\n",
    "class CreatorA {\n",
    "    + factory_method()\n",
    "}\n",
    "class CreatorB {\n",
    "    + factory_method()\n",
    "}\n",
    "\n",
    "Creator \"creates\" *- Product\n",
    "Creator <|-- CreatorA\n",
    "Creator <|-- CreatorB\n",
    "Product <|-- ProductA\n",
    "Product <|-- ProductB\n",
    "\n",
    "hide empty members\n",
    "@enduml\n",
    "```"
   ]
  }
 ],
 "metadata": {
  "kernelspec": {
   "display_name": "Python 3",
   "language": "python",
   "name": "python3"
  },
  "language_info": {
   "codemirror_mode": {
    "name": "ipython",
    "version": 3
   },
   "file_extension": ".py",
   "mimetype": "text/x-python",
   "name": "python",
   "nbconvert_exporter": "python",
   "pygments_lexer": "ipython3",
   "version": "3.12.4"
  }
 },
 "nbformat": 4,
 "nbformat_minor": 2
}
