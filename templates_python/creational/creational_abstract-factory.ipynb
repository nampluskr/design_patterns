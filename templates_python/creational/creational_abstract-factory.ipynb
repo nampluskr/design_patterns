{
 "cells": [
  {
   "cell_type": "markdown",
   "metadata": {},
   "source": [
    "## [Creational] Abstract Factory"
   ]
  },
  {
   "cell_type": "markdown",
   "metadata": {},
   "source": [
    "![Factory Method](https://www.planttext.com/plantuml/png/hLFDIyCm5By7yZ-ycnCXk1v5P8qWU961Hv6HjcyORDEIl1xctFzkqwrfgvsRu2Mql_T-7oyV2qVAKbtadBbtRIfbLG5fhfoBYQnEQiB7j3JF-WFXcZFIb2Eyt5jKf4kZybU84qTMfGGFpLBQ3ImL4Lh36MSNfYG4vU1ftlm88PeLJGOUzdLjciwrIX6Mjipgb6BOSWPm1LjraDr1MQ5jtLPgTidPZhCsNw3CEywfnkXuuqGK-MkKn1E_LLk9vclM6Kw4a1DfWzPP0XDJd18OJjUTqi_XKd-ekAhsLByrS1FsxaXt5shOAmUX3svXw3Cy_YGS_QCmP-4ItdwAMlGNR5p9-ahaMTsExadTn2Cy2tWqy95Z7paVLteVEV8HkRWR90-mxU7Ozx_f306BYZPGO96WTHvTDE-lVUvV)"
   ]
  },
  {
   "cell_type": "code",
   "execution_count": 1,
   "metadata": {},
   "outputs": [],
   "source": [
    "from __future__ import annotations\n",
    "from abc import ABC, abstractmethod\n",
    "from typing import Protocol"
   ]
  },
  {
   "cell_type": "code",
   "execution_count": 2,
   "metadata": {},
   "outputs": [],
   "source": [
    "# ProductA 추상 인터페이스\n",
    "class ProductA(ABC):\n",
    "    @abstractmethod\n",
    "    def operation_a(self) -> None:\n",
    "        \"\"\"ProductA의 기능을 수행하는 추상 메서드\"\"\"\n",
    "        pass\n",
    "\n",
    "# ProductA1 구체 클래스\n",
    "class ProductA1(ProductA):\n",
    "    def operation_a(self) -> None:\n",
    "        \"\"\"ProductA1의 operation_a 구현\"\"\"\n",
    "        print(\"ProductA1 operationA\")\n",
    "\n",
    "# ProductA2 구체 클래스\n",
    "class ProductA2(ProductA):\n",
    "    def operation_a(self) -> None:\n",
    "        \"\"\"ProductA2의 operation_a 구현\"\"\"\n",
    "        print(\"ProductA2 operationA\")"
   ]
  },
  {
   "cell_type": "code",
   "execution_count": 3,
   "metadata": {},
   "outputs": [],
   "source": [
    "# ProductB 추상 인터페이스\n",
    "class ProductB(ABC):\n",
    "    @abstractmethod\n",
    "    def operation_b(self) -> None:\n",
    "        \"\"\"ProductB의 기능을 수행하는 추상 메서드\"\"\"\n",
    "        pass\n",
    "\n",
    "    @abstractmethod\n",
    "    def interact(self, product_a: ProductA) -> None:\n",
    "        \"\"\"ProductA와 상호작용하는 추상 메서드\"\"\"\n",
    "        pass\n",
    "\n",
    "# ProductB1 구체 클래스\n",
    "class ProductB1(ProductB):\n",
    "    def operation_b(self) -> None:\n",
    "        \"\"\"ProductB1의 operation_b 구현\"\"\"\n",
    "        print(\"ProductB1 operationB\")\n",
    "\n",
    "    def interact(self, product_a: ProductA) -> None:\n",
    "        \"\"\"ProductB1이 ProductA와 상호작용하는 구현\"\"\"\n",
    "        print(\"ProductB1 interacts with \", end=\"\")\n",
    "        product_a.operation_a()\n",
    "\n",
    "# ProductB2 구체 클래스\n",
    "class ProductB2(ProductB):\n",
    "    def operation_b(self) -> None:\n",
    "        \"\"\"ProductB2의 operation_b 구현\"\"\"\n",
    "        print(\"ProductB2 operationB\")\n",
    "\n",
    "    def interact(self, product_a: ProductA) -> None:\n",
    "        \"\"\"ProductB2가 ProductA와 상호작용하는 구현\"\"\"\n",
    "        print(\"ProductB2 interacts with \", end=\"\")\n",
    "        product_a.operation_a()"
   ]
  },
  {
   "cell_type": "code",
   "execution_count": 4,
   "metadata": {},
   "outputs": [],
   "source": [
    "# Factory 추상 인터페이스\n",
    "class Factory(ABC):\n",
    "    @abstractmethod\n",
    "    def create_product_a(self) -> ProductA:\n",
    "        \"\"\"ProductA 객체를 생성하는 추상 메서드\"\"\"\n",
    "        pass\n",
    "\n",
    "    @abstractmethod\n",
    "    def create_product_b(self) -> ProductB:\n",
    "        \"\"\"ProductB 객체를 생성하는 추상 메서드\"\"\"\n",
    "        pass\n",
    "\n",
    "# Factory1 구체 클래스\n",
    "class Factory1(Factory):\n",
    "    def create_product_a(self) -> ProductA:\n",
    "        \"\"\"Factory1에서 ProductA1 객체 생성\"\"\"\n",
    "        print(\"Factory1 creates ProductA1\")\n",
    "        return ProductA1()\n",
    "\n",
    "    def create_product_b(self) -> ProductB:\n",
    "        \"\"\"Factory1에서 ProductB1 객체 생성\"\"\"\n",
    "        print(\"Factory1 creates ProductB1\")\n",
    "        return ProductB1()\n",
    "    \n",
    "# Factory2 구체 클래스\n",
    "class Factory2(Factory):\n",
    "    def create_product_a(self) -> ProductA:\n",
    "        \"\"\"Factory2에서 ProductA2 객체 생성\"\"\"\n",
    "        print(\"Factory2 creates ProductA2\")\n",
    "        return ProductA2()\n",
    "\n",
    "    def create_product_b(self) -> ProductB:\n",
    "        \"\"\"Factory2에서 ProductB2 객체 생성\"\"\"\n",
    "        print(\"Factory2 creates ProductB2\")\n",
    "        return ProductB2()"
   ]
  },
  {
   "cell_type": "code",
   "execution_count": 5,
   "metadata": {},
   "outputs": [
    {
     "name": "stdout",
     "output_type": "stream",
     "text": [
      "Factory1 creates ProductA1\n",
      "Factory1 creates ProductB1\n",
      "ProductA1 operationA\n",
      "ProductB1 operationB\n",
      "ProductB1 interacts with ProductA1 operationA\n"
     ]
    }
   ],
   "source": [
    "factory1 = Factory1()\n",
    "product_a1 = factory1.create_product_a()\n",
    "product_b1 = factory1.create_product_b()\n",
    "\n",
    "product_a1.operation_a()\n",
    "product_b1.operation_b()\n",
    "product_b1.interact(product_a1)"
   ]
  },
  {
   "cell_type": "code",
   "execution_count": 6,
   "metadata": {},
   "outputs": [
    {
     "name": "stdout",
     "output_type": "stream",
     "text": [
      "Factory2 creates ProductA2\n",
      "Factory2 creates ProductB2\n",
      "ProductA2 operationA\n",
      "ProductB2 operationB\n",
      "ProductB2 interacts with ProductA2 operationA\n"
     ]
    }
   ],
   "source": [
    "factory2 = Factory2()\n",
    "product_a2 = factory2.create_product_a()\n",
    "product_b2 = factory2.create_product_b()\n",
    "\n",
    "product_a2.operation_a()\n",
    "product_b2.operation_b()\n",
    "product_b2.interact(product_a2)"
   ]
  },
  {
   "cell_type": "markdown",
   "metadata": {},
   "source": [
    "### Plant UML"
   ]
  },
  {
   "cell_type": "markdown",
   "metadata": {},
   "source": [
    "```plantuml\n",
    "@startuml\n",
    "skinparam classAttributeIconSize 0\n",
    "\n",
    "interface ProductA {\n",
    "  + {abstract} operation_a()\n",
    "}\n",
    "class ProductA1 {\n",
    "  + operation_a()\n",
    "}\n",
    "class ProductA2 {\n",
    "  + operation_a()\n",
    "}\n",
    "\n",
    "interface ProductB {\n",
    "  + {abstract} operation_b()\n",
    "  + {abstract} interact(ProductA)\n",
    "}\n",
    "class ProductB1 {\n",
    "  + operation_b()\n",
    "  + interact(ProductA)\n",
    "}\n",
    "class ProductB2 {\n",
    "  + operation_b()\n",
    "  + interact(ProductA)\n",
    "}\n",
    "\n",
    "interface Factory {\n",
    "  + {abstract} create_product_a() : ProductA\n",
    "  + {abstract} createProductB() : ProductB\n",
    "}\n",
    "class Factory1 {\n",
    "  + create_product_a() : ProductA\n",
    "  + createProductB() : ProductB\n",
    "}\n",
    "class Factory2 {\n",
    "  + create_product_a() : ProductA\n",
    "  + createProductB() : ProductB\n",
    "}\n",
    "\n",
    "ProductA <|.u. ProductA1\n",
    "ProductA <|.d. ProductA2\n",
    "\n",
    "Factory <|.u. Factory1\n",
    "Factory <|.d. Factory2\n",
    "\n",
    "ProductB <|.u. ProductB1\n",
    "ProductB <|.d. ProductB2\n",
    "\n",
    "Factory .l.> ProductB\n",
    "Factory .r.> ProductA\n",
    "\n",
    "hide empty members\n",
    "@enduml\n",
    "```"
   ]
  }
 ],
 "metadata": {
  "kernelspec": {
   "display_name": "Python 3",
   "language": "python",
   "name": "python3"
  },
  "language_info": {
   "codemirror_mode": {
    "name": "ipython",
    "version": 3
   },
   "file_extension": ".py",
   "mimetype": "text/x-python",
   "name": "python",
   "nbconvert_exporter": "python",
   "pygments_lexer": "ipython3",
   "version": "3.12.4"
  }
 },
 "nbformat": 4,
 "nbformat_minor": 2
}
