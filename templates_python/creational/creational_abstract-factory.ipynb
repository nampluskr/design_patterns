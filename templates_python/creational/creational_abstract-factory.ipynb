{
 "cells": [
  {
   "cell_type": "markdown",
   "metadata": {},
   "source": [
    "## [Creational] Abstract Factory"
   ]
  },
  {
   "cell_type": "markdown",
   "metadata": {},
   "source": [
    "![Factory Method](https://www.planttext.com/plantuml/png/XP5D3eCW48Nt9DnXuge_yGPTM7k1ti0WJAk9Y85nOQnthzHI-sCgApBptfiF9d4aBBMwugoi2Ur5I8IpDQgL13rdC9uzz29tP8Ma0PJ9dD58HLbVDrlE1iva9PmBfkFiMfEcVwMSXQ4mkKuM1HcxI3LYZwqkyn56-OH9uaCpqw0LL9hw0-8PzyRx6_8jJbV4d0N8IFeBkWXsSNZlt3tSulW5i5nEEGjhU9J3zowNKp-xA1K2weOwqAXpj8wp16irRlSE)"
   ]
  },
  {
   "cell_type": "code",
   "execution_count": 21,
   "metadata": {},
   "outputs": [],
   "source": [
    "from __future__ import annotations\n",
    "from abc import ABC, abstractmethod"
   ]
  },
  {
   "cell_type": "code",
   "execution_count": 22,
   "metadata": {},
   "outputs": [],
   "source": []
  },
  {
   "cell_type": "markdown",
   "metadata": {},
   "source": [
    "### Plant UML"
   ]
  },
  {
   "cell_type": "markdown",
   "metadata": {},
   "source": [
    "```plantuml\n",
    "@startuml\n",
    "interface Product {\n",
    "    + {abstract} do_something()\n",
    "}\n",
    "class ProductA {\n",
    "    + do_something()\n",
    "}\n",
    "class ProductB {\n",
    "    + do_something()\n",
    "}\n",
    "\n",
    "abstract class Creator {\n",
    "    + {abstract} factory_method()\n",
    "    + some_operation()\n",
    "}\n",
    "class CreatorA {\n",
    "    + factory_method()\n",
    "}\n",
    "class CreatorB {\n",
    "    + factory_method()\n",
    "}\n",
    "\n",
    "Creator \"creates\" *- Product\n",
    "Creator <|-- CreatorA\n",
    "Creator <|-- CreatorB\n",
    "Product <|-- ProductA\n",
    "Product <|-- ProductB\n",
    "\n",
    "hide empty members\n",
    "@enduml\n",
    "```"
   ]
  }
 ],
 "metadata": {
  "kernelspec": {
   "display_name": "Python 3",
   "language": "python",
   "name": "python3"
  },
  "language_info": {
   "codemirror_mode": {
    "name": "ipython",
    "version": 3
   },
   "file_extension": ".py",
   "mimetype": "text/x-python",
   "name": "python",
   "nbconvert_exporter": "python",
   "pygments_lexer": "ipython3",
   "version": "3.12.4"
  }
 },
 "nbformat": 4,
 "nbformat_minor": 2
}
