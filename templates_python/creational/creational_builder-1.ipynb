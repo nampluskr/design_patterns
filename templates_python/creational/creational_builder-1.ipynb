{
 "cells": [
  {
   "cell_type": "markdown",
   "metadata": {},
   "source": [
    "## [Creational] Builder Method"
   ]
  },
  {
   "cell_type": "markdown",
   "metadata": {},
   "source": [
    "![Factory Method](https://www.planttext.com/plantuml/png/ZPBBRiCW44NtIFp3A2kdaQMkiqeVc-ugzGCim9C65R0r3EeZohyN9tRYk5PRbdDdk6SkR28hukIT5F7DXbQHyc2SYl6EcQnEZ4-c2I_s2-5MYgC2pzJKoJ3ifO1yIiXZN2bOGsIwgkcPcXdNLX1tpNknbE8WXHGsCD9M6OJxP5sDD7YiOAzqdbA63w0xhJgPTgE_DUY_6inimojoHHYJusAPUVkDUyfJ2WzDC8IC0ob-C8OwJibBgDe-hz4z9yFvHURfvv7_mVbe2GqtOo3T8wu7sFDZvEjwiVZHD47nDbYltB3Tb7IRt9Ls93gpt9GNwo6mHOvJCSO5bELb4obsjaP0t_8dUFGQANRLJGux_zjl)"
   ]
  },
  {
   "cell_type": "code",
   "execution_count": 1,
   "metadata": {},
   "outputs": [],
   "source": [
    "from __future__ import annotations\n",
    "from abc import ABC, abstractmethod\n",
    "from typing import Any"
   ]
  },
  {
   "cell_type": "code",
   "execution_count": 2,
   "metadata": {},
   "outputs": [],
   "source": [
    "class Product:\n",
    "    \"\"\"빌더 패턴으로 생성될 복합 객체\"\"\"\n",
    "    def __init__(self):\n",
    "        self.part_a: str = \"\"\n",
    "        self.part_b: str = \"\"\n",
    "        self.part_c: str = \"\"\n",
    "\n",
    "    def __del__(self):\n",
    "        print(\"~Product()\")\n",
    "\n",
    "    def show(self) -> None:\n",
    "        print(f\"Product parts: {self.part_a}, {self.part_b}, {self.part_c}\")"
   ]
  },
  {
   "cell_type": "code",
   "execution_count": 3,
   "metadata": {},
   "outputs": [],
   "source": [
    "class Builder(ABC):\n",
    "    \"\"\"제품의 각 부분을 생성하는 메서드를 정의하는 추상 빌더\"\"\"\n",
    "    @abstractmethod\n",
    "    def build_part_a(self) -> None:\n",
    "        pass\n",
    "\n",
    "    @abstractmethod\n",
    "    def build_part_b(self) -> None:\n",
    "        pass\n",
    "\n",
    "    @abstractmethod\n",
    "    def build_part_c(self) -> None:\n",
    "        pass\n",
    "\n",
    "    @abstractmethod\n",
    "    def get_result(self) -> Product:\n",
    "        pass\n",
    "\n",
    "class ConcreteBuilder(Builder):\n",
    "    \"\"\"추상 빌더 인터페이스를 구현하여 실제 제품을 생성하는 구체적인 빌더\"\"\"\n",
    "    def __init__(self):\n",
    "        self._product = Product()\n",
    "\n",
    "    def __del__(self):\n",
    "        print(\"~ConcreteBuilder()\")\n",
    "\n",
    "    def build_part_a(self) -> None:\n",
    "        self._product.part_a = \"Part A\"\n",
    "        print(\"Building part A\")\n",
    "\n",
    "    def build_part_b(self) -> None:\n",
    "        self._product.part_b = \"Part B\"\n",
    "        print(\"Building part B\")\n",
    "\n",
    "    def build_part_c(self) -> None:\n",
    "        self._product.part_c = \"Part C\"\n",
    "        print(\"Building part C\")\n",
    "\n",
    "    def get_result(self) -> Product:\n",
    "        result = self._product\n",
    "        self._product = Product()  # 새로운 Product 객체 생성\n",
    "        return result"
   ]
  },
  {
   "cell_type": "code",
   "execution_count": 4,
   "metadata": {},
   "outputs": [],
   "source": [
    "class Director:\n",
    "    \"\"\"빌더를 사용하여 객체 생성 과정을 관리하는 디렉터\"\"\"\n",
    "    def __init__(self):\n",
    "        self._builder: Builder | None = None\n",
    "\n",
    "    def __del__(self):\n",
    "        print(\"~Director()\")\n",
    "\n",
    "    def set_builder(self, builder: Builder) -> None:\n",
    "        self._builder = builder\n",
    "\n",
    "    def build_minimal_product(self) -> None:\n",
    "        if self._builder:\n",
    "            self._builder.build_part_a()\n",
    "\n",
    "    def build_full_product(self) -> None:\n",
    "        if self._builder:\n",
    "            self._builder.build_part_a()\n",
    "            self._builder.build_part_b()\n",
    "            self._builder.build_part_c()"
   ]
  },
  {
   "cell_type": "code",
   "execution_count": 5,
   "metadata": {},
   "outputs": [],
   "source": [
    "# Director 사용\n",
    "director = Director()\n",
    "builder = ConcreteBuilder()\n",
    "director.set_builder(builder)"
   ]
  },
  {
   "cell_type": "code",
   "execution_count": 6,
   "metadata": {},
   "outputs": [
    {
     "name": "stdout",
     "output_type": "stream",
     "text": [
      "Building minimal product:\n",
      "Building part A\n",
      "Product parts: Part A, , \n"
     ]
    }
   ],
   "source": [
    "print(\"Building minimal product:\")\n",
    "director.build_minimal_product()\n",
    "product1 = builder.get_result()\n",
    "product1.show()"
   ]
  },
  {
   "cell_type": "code",
   "execution_count": 7,
   "metadata": {},
   "outputs": [
    {
     "name": "stdout",
     "output_type": "stream",
     "text": [
      "\n",
      "Building full product:\n",
      "Building part A\n",
      "Building part B\n",
      "Building part C\n",
      "Product parts: Part A, Part B, Part C\n"
     ]
    }
   ],
   "source": [
    "print(\"\\nBuilding full product:\")\n",
    "director.build_full_product()\n",
    "product2 = builder.get_result()\n",
    "product2.show()"
   ]
  },
  {
   "cell_type": "markdown",
   "metadata": {},
   "source": [
    "### Plant UML"
   ]
  },
  {
   "cell_type": "markdown",
   "metadata": {},
   "source": [
    "```plantuml\n",
    "@startuml\n",
    "skinparam classAttributeIconSize 0\n",
    "class Product {\n",
    "    - part_a : str\n",
    "    - part_b : str\n",
    "    - part_c : str\n",
    "    + show()\n",
    "}\n",
    "interface Builder {\n",
    "    + {abstract} build_part_a()\n",
    "    + {abstract} build_part_b()\n",
    "    + {abstract} build_part_c()\n",
    "    + {abstract} get_result() : Product\n",
    "}\n",
    "class ConcreteBuilder extends Builder {\n",
    "    - _product : Product\n",
    "    + build_part_a()\n",
    "    + build_part_b()\n",
    "    + build_part_c()\n",
    "    + get_result() : Product\n",
    "}\n",
    "class Director {\n",
    "    - _builder : Builder\n",
    "    + set_builder(builder : Builder)\n",
    "    + build_minimal_product()\n",
    "    + build_full_product()\n",
    "}\n",
    "\n",
    "Director *- Builder\n",
    "Builder \"creates\" -- Product\n",
    "\n",
    "hide empty members\n",
    "\n",
    "@enduml\n",
    "```"
   ]
  }
 ],
 "metadata": {
  "kernelspec": {
   "display_name": "Python 3",
   "language": "python",
   "name": "python3"
  },
  "language_info": {
   "codemirror_mode": {
    "name": "ipython",
    "version": 3
   },
   "file_extension": ".py",
   "mimetype": "text/x-python",
   "name": "python",
   "nbconvert_exporter": "python",
   "pygments_lexer": "ipython3",
   "version": "3.12.4"
  }
 },
 "nbformat": 4,
 "nbformat_minor": 2
}
