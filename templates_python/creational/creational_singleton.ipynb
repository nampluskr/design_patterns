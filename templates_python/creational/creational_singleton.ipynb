{
 "cells": [
  {
   "cell_type": "markdown",
   "metadata": {},
   "source": [
    "## [Creational] Singleton Factory"
   ]
  },
  {
   "cell_type": "markdown",
   "metadata": {},
   "source": [
    "![Singleton Method](https://www.planttext.com/plantuml/png/POyz3eCm34RtIBc3Hn02TUv4nyuS80fWKQl4eCGCBUBk3ON-gLui-NrwjiiWrilaUgt2bNYqtZfeUXl2ISHJFGcUcu4hkYCSjDBgoQ0YxdgKWM7M2cBbO0nnb763SFpmdURVAH9ZajQAZK5YIJTM55lFO8uQeMQ13kKjJT9_RGQZZmApkfBqDGkuJtvMBEln5seHq8ro0uUkHX-qAf7R-Fy3)"
   ]
  },
  {
   "cell_type": "code",
   "execution_count": 1,
   "metadata": {},
   "outputs": [],
   "source": [
    "from typing import Any\n",
    "\n",
    "class Singleton:\n",
    "    \"\"\"싱글톤 클래스. 단 하나의 인스턴스만 생성됨을 보장.\"\"\"\n",
    "    _instance = None  # 싱글톤 인스턴스를 저장하는 클래스 변수 (None으로 초기화)\n",
    "\n",
    "    def __init__(self, data: int):\n",
    "        \"\"\"싱글톤 생성자. 외부에서 직접 호출할 수 없도록 설계됨.\"\"\"\n",
    "        if Singleton._instance is not None:\n",
    "            # 싱글톤 인스턴스가 이미 존재하는 경우 예외 발생\n",
    "            raise Exception(\"Singleton cannot be instantiated more than once!\")\n",
    "        self._data = data  # 싱글톤 인스턴스의 데이터 저장\n",
    "        print(\"Singleton constructor called\")\n",
    "\n",
    "    @staticmethod\n",
    "    def get_instance() -> \"Singleton\":\n",
    "        \"\"\"싱글톤 인스턴스를 반환하는 정적 메서드.\n",
    "        인스턴스가 존재하지 않으면 생성 후 반환, 존재하면 기존 인스턴스 반환.\n",
    "        \"\"\"\n",
    "        if Singleton._instance is None:\n",
    "            # 싱글톤 인스턴스가 아직 생성되지 않은 경우 생성\n",
    "            Singleton._instance = Singleton(42)  # 최초 생성 시 데이터 42로 초기화\n",
    "        return Singleton._instance  # 기존 인스턴스 반환\n",
    "\n",
    "    def print_data(self) -> None:\n",
    "        \"\"\"싱글톤 인스턴스의 데이터를 출력하는 메서드.\"\"\"\n",
    "        print(f\"Singleton Data: {self._data}\")\n",
    "\n",
    "    def set_data(self, data: int) -> None:\n",
    "        \"\"\"싱글톤 인스턴스의 데이터를 설정하는 메서드.\"\"\"\n",
    "        self._data = data"
   ]
  },
  {
   "cell_type": "code",
   "execution_count": 2,
   "metadata": {},
   "outputs": [
    {
     "name": "stdout",
     "output_type": "stream",
     "text": [
      "Singleton constructor called\n",
      "Singleton Data: 42\n",
      "Singleton Data: 100\n"
     ]
    }
   ],
   "source": [
    "# 싱글톤 인스턴스 가져오기 (최초 호출 시 생성됨)\n",
    "singleton = Singleton.get_instance()\n",
    "singleton.print_data()  # 초기 데이터 출력 (42)\n",
    "singleton.set_data(100)  # 데이터 변경\n",
    "singleton.print_data()  # 변경된 데이터 출력 (100)"
   ]
  },
  {
   "cell_type": "code",
   "execution_count": 3,
   "metadata": {},
   "outputs": [
    {
     "name": "stdout",
     "output_type": "stream",
     "text": [
      "Singleton Data: 100\n"
     ]
    }
   ],
   "source": [
    "# 다시 싱글톤 인스턴스 가져오기 (기존 인스턴스 반환)\n",
    "singleton2 = Singleton.get_instance()\n",
    "singleton2.print_data()  # 동일한 인스턴스이므로 변경된 데이터 출력 (100)"
   ]
  },
  {
   "cell_type": "code",
   "execution_count": null,
   "metadata": {},
   "outputs": [],
   "source": [
    "# 추가 설명:\n",
    "# 파이썬의 싱글톤 구현은 기본적으로 스레드 안전하지 않습니다.\n",
    "# 멀티 스레드 환경에서 엄격한 싱글톤을 보장하려면 threading.Lock 등을 사용하여\n",
    "# get_instance() 메서드를 동기화해야 합니다.\n",
    "# 이 예제는 기본적인 싱글톤 구현을 보여주는 데 초점을 맞추고 있습니다.\n",
    "\n",
    "# del Singleton._instance # 싱글톤 인스턴스 삭제 (일반적인 사용법은 아님)\n",
    "# singleton3 = Singleton.get_instance() # 다시 생성 가능\n",
    "# singleton3.print_data() # 초기 데이터 출력 (42)"
   ]
  },
  {
   "cell_type": "markdown",
   "metadata": {},
   "source": [
    "### Plant UML"
   ]
  },
  {
   "cell_type": "markdown",
   "metadata": {},
   "source": [
    "```plantuml\n",
    "@startuml\n",
    "skinparam classAttributeIconSize 0\n",
    "\n",
    "class Singleton {\n",
    "    - __instance : Singleton\n",
    "    --\n",
    "    - __init__(data : int)\n",
    "    ..\n",
    "    + {static} get_instance() : Singleton\n",
    "    + print_data()\n",
    "    + set_data(data : int)\n",
    "}\n",
    "\n",
    "hide empty members\n",
    "@enduml\n",
    "```"
   ]
  }
 ],
 "metadata": {
  "kernelspec": {
   "display_name": "Python 3",
   "language": "python",
   "name": "python3"
  },
  "language_info": {
   "codemirror_mode": {
    "name": "ipython",
    "version": 3
   },
   "file_extension": ".py",
   "mimetype": "text/x-python",
   "name": "python",
   "nbconvert_exporter": "python",
   "pygments_lexer": "ipython3",
   "version": "3.12.4"
  }
 },
 "nbformat": 4,
 "nbformat_minor": 2
}
