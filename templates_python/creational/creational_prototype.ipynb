{
 "cells": [
  {
   "cell_type": "markdown",
   "metadata": {},
   "source": [
    "## [Creational] Prototype Factory"
   ]
  },
  {
   "cell_type": "markdown",
   "metadata": {},
   "source": [
    "![Prototype Method](https://www.planttext.com/plantuml/png/XPB1IWCn48RlWRp3W9TTfCMpf-xYnPlW0uJPPCHWDnkIgLXBtzsnxHgBIymny-VxFvXiCcFYtRZLAh_v437X27QBENVCoGyxfaSxXMV_IN2dbLO-CAKNj0HFQUA9zv7We1N8kOK33faJMZuAOmhKj71VSWkfc8JNj5eTlzcdtfBlW3wOWij_grPW738Q5BwmBfUhkS4O7pmRq_mEjUVfUZsd5XIxULOLw_yN6uGgX6kn6p1H7f1bSWknOdRjVmcr5U--vlr0oR-Jg-dtPOUrxc9uwZ7kJFxfU_MEWCR8UnXf72XbhJRI9F_h2m00)"
   ]
  },
  {
   "cell_type": "code",
   "execution_count": 1,
   "metadata": {},
   "outputs": [],
   "source": [
    "from __future__ import annotations\n",
    "from abc import ABC, abstractmethod\n",
    "from typing import Any"
   ]
  },
  {
   "cell_type": "code",
   "execution_count": 2,
   "metadata": {},
   "outputs": [],
   "source": [
    "# 프로토타입 인터페이스\n",
    "class Prototype(ABC):\n",
    "    @abstractmethod\n",
    "    def clone(self) -> \"Prototype\":  # 순환 참조 해결을 위해 문자열로 타입 힌트\n",
    "        \"\"\"객체를 복제하는 추상 메서드\"\"\"\n",
    "        pass\n",
    "\n",
    "    @abstractmethod\n",
    "    def print(self) -> None:\n",
    "        \"\"\"객체의 데이터를 출력하는 추상 메서드\"\"\"\n",
    "        pass\n",
    "\n",
    "# 구체적인 프로토타입 A 클래스\n",
    "class PrototypeA(Prototype):\n",
    "    def __init__(self, data_a: str):\n",
    "        self._data_a = data_a\n",
    "\n",
    "    def __copy__(self) -> \"PrototypeA\":  # copy 모듈 사용을 위한 __copy__ 구현\n",
    "        print(\"PrototypeA copy constructor\")\n",
    "        return PrototypeA(self._data_a)\n",
    "\n",
    "    def clone(self) -> \"PrototypeA\":\n",
    "        print(\"Cloning PrototypeA\")\n",
    "        return self.__copy__()\n",
    "\n",
    "    def print(self) -> None:\n",
    "        print(f\"PrototypeA Data: {self._data_a}\")\n",
    "\n",
    "# 구체적인 프로토타입 B 클래스\n",
    "class PrototypeB(Prototype):\n",
    "    def __init__(self, data_b: int):\n",
    "        self._data_b = data_b\n",
    "        self._protected_data_b = 0  # 초기화 추가\n",
    "\n",
    "    def __copy__(self) -> \"PrototypeB\":\n",
    "        print(\"PrototypeB copy constructor\")\n",
    "        new_prototype = PrototypeB(self._data_b)\n",
    "        new_prototype._protected_data_b = self._protected_data_b  # protected 멤버 복사\n",
    "        return new_prototype\n",
    "\n",
    "    def clone(self) -> \"PrototypeB\":\n",
    "        print(\"Cloning PrototypeB\")\n",
    "        return self.__copy__()\n",
    "\n",
    "    def print(self) -> None:\n",
    "        print(f\"PrototypeB Data: {self._data_b}, Protected Data: {self._protected_data_b}\")\n",
    "\n",
    "# PrototypeB를 상속받는 자식 클래스 예시\n",
    "class DerivedPrototypeB(PrototypeB):\n",
    "    def __init__(self, data_b: int):\n",
    "        super().__init__(data_b)\n",
    "        self._protected_data_b = data_b * 2\n",
    "\n",
    "    def print_derived(self) -> None:\n",
    "        print(f\"Derived Data: {self._protected_data_b}\")"
   ]
  },
  {
   "cell_type": "code",
   "execution_count": 3,
   "metadata": {},
   "outputs": [
    {
     "name": "stdout",
     "output_type": "stream",
     "text": [
      "PrototypeA Data: Initial Data A\n",
      "Cloning PrototypeA\n",
      "PrototypeA copy constructor\n",
      "PrototypeA Data: Initial Data A\n"
     ]
    }
   ],
   "source": [
    "# PrototypeA 사용\n",
    "prototype_a = PrototypeA(\"Initial Data A\")\n",
    "prototype_a.print()\n",
    "clone_a1 = prototype_a.clone()\n",
    "clone_a1.print()"
   ]
  },
  {
   "cell_type": "code",
   "execution_count": 5,
   "metadata": {},
   "outputs": [
    {
     "name": "stdout",
     "output_type": "stream",
     "text": [
      "PrototypeB Data: 123, Protected Data: 0\n",
      "Cloning PrototypeB\n",
      "PrototypeB copy constructor\n",
      "PrototypeB Data: 123, Protected Data: 0\n"
     ]
    }
   ],
   "source": [
    "# PrototypeB 사용\n",
    "prototype_b = PrototypeB(123)\n",
    "prototype_b.print()\n",
    "clone_b1 = prototype_b.clone()\n",
    "clone_b1.print()"
   ]
  },
  {
   "cell_type": "code",
   "execution_count": 6,
   "metadata": {},
   "outputs": [
    {
     "name": "stdout",
     "output_type": "stream",
     "text": [
      "PrototypeB Data: 10, Protected Data: 20\n",
      "Derived Data: 20\n"
     ]
    }
   ],
   "source": [
    "# DerivedPrototypeB 사용\n",
    "derived_b = DerivedPrototypeB(10)\n",
    "derived_b.print()\n",
    "derived_b.print_derived()"
   ]
  },
  {
   "cell_type": "markdown",
   "metadata": {},
   "source": [
    "### Plant UML"
   ]
  },
  {
   "cell_type": "markdown",
   "metadata": {},
   "source": [
    "```plantuml\n",
    "@startuml\n",
    "skinparam classAttributeIconSize 0\n",
    "\n",
    "interface Prototype {\n",
    "    + {abstract} clone() : Prototype\n",
    "    + {abstract} print()\n",
    "}\n",
    "class PrototypeA extends Prototype {\n",
    "    - _data_a : str\n",
    "    --\n",
    "    + __init__(data_a : str)\n",
    "    ..\n",
    "    + clone() : PrototypeA\n",
    "    + print()\n",
    "}\n",
    "class PrototypeB extends Prototype {\n",
    "    - _data_b : int\n",
    "    --\n",
    "    # _protected_data_b : int\n",
    "    ..\n",
    "    + __init__(data_b : int)\n",
    "    + clone() : PrototypeB\n",
    "    + print()\n",
    "}\n",
    "class DerivedPrototypeB extends PrototypeB {\n",
    "    + __init__(data_b : int)\n",
    "    ..\n",
    "    + print_derived()\n",
    "}\n",
    "\n",
    "hide empty members\n",
    "@enduml\n",
    "```"
   ]
  }
 ],
 "metadata": {
  "kernelspec": {
   "display_name": "Python 3",
   "language": "python",
   "name": "python3"
  },
  "language_info": {
   "codemirror_mode": {
    "name": "ipython",
    "version": 3
   },
   "file_extension": ".py",
   "mimetype": "text/x-python",
   "name": "python",
   "nbconvert_exporter": "python",
   "pygments_lexer": "ipython3",
   "version": "3.12.4"
  }
 },
 "nbformat": 4,
 "nbformat_minor": 2
}
