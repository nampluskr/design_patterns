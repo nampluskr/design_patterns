{
 "cells": [
  {
   "cell_type": "markdown",
   "metadata": {},
   "source": [
    "## [Creational] Builder Method"
   ]
  },
  {
   "cell_type": "markdown",
   "metadata": {},
   "source": [
    "![Factory Method](https://www.planttext.com/plantuml/png/dPB1QiCm44Jl0lt3afD3CEJSKzgUUYlq0ynANX9HoJRIAaaRyk-L8vkcTUgM-cBOtJV33De4Hi_HMId2gsawzEX0MmpXdjaR5PcUTDkyc7U2jHIN3JpxjewQuIG5fA-4X765S0U1_PUPkZ7JrxCLX5rxA9PIdAMG0bNQO9BEHW_Hs9hyQBI2qtXm1jNlgknSxD56ohhBz1kuUKhzYz9_fxR4bQSGBHVzuT3Qa3G7V6mRxObf34f7fgQU12-XweREhtIouLmFt-Hl89CIVaSc3Vo0pCOV0ouIYKnX0MNvUIB5pjG4v3f-0qTEaG_zT9FAIM_r0m00)"
   ]
  },
  {
   "cell_type": "code",
   "execution_count": 3,
   "metadata": {},
   "outputs": [],
   "source": [
    "from __future__ import annotations\n",
    "from abc import ABC, abstractmethod\n",
    "from typing import Self"
   ]
  },
  {
   "cell_type": "code",
   "execution_count": 4,
   "metadata": {},
   "outputs": [],
   "source": [
    "class Product:\n",
    "    \"\"\"빌더 패턴으로 생성될 복합 객체\"\"\"\n",
    "    def __init__(self):\n",
    "        self.part_a: str = \"\"\n",
    "        self.part_b: str = \"\"\n",
    "        self.part_c: str = \"\"\n",
    "\n",
    "    def __del__(self):\n",
    "        print(\"~Product()\")\n",
    "\n",
    "    def show(self) -> None:\n",
    "        print(f\"Product parts: {self.part_a}, {self.part_b}, {self.part_c}\")"
   ]
  },
  {
   "cell_type": "code",
   "execution_count": 5,
   "metadata": {},
   "outputs": [],
   "source": [
    "class Builder(ABC):\n",
    "    \"\"\"제품의 각 부분을 생성하는 메서드를 정의하는 추상 빌더\"\"\"\n",
    "    @abstractmethod\n",
    "    def build_part_a(self, value: str) -> Self:\n",
    "        pass\n",
    "\n",
    "    @abstractmethod\n",
    "    def build_part_b(self, value: str) -> Self:\n",
    "        pass\n",
    "\n",
    "    @abstractmethod\n",
    "    def build_part_c(self, value: str) -> Self:\n",
    "        pass\n",
    "\n",
    "    @abstractmethod\n",
    "    def get_result(self) -> Product:\n",
    "        pass\n",
    "\n",
    "class ConcreteBuilder(Builder):\n",
    "    \"\"\"추상 빌더 인터페이스를 구현하여 실제 제품을 생성하는 구체적인 빌더\"\"\"\n",
    "    def __init__(self):\n",
    "        self._product = Product()\n",
    "\n",
    "    def __del__(self):\n",
    "        print(\"~ConcreteBuilder()\")\n",
    "\n",
    "    def build_part_a(self, value: str) -> Self:\n",
    "        self._product.part_a = value\n",
    "        print(f\"Building part A: {value}\")\n",
    "        return self\n",
    "\n",
    "    def build_part_b(self, value: str) -> Self:\n",
    "        self._product.part_b = value\n",
    "        print(f\"Building part B: {value}\")\n",
    "        return self\n",
    "\n",
    "    def build_part_c(self, value: str) -> Self:\n",
    "        self._product.part_c = value\n",
    "        print(f\"Building part C: {value}\")\n",
    "        return self\n",
    "\n",
    "    def get_result(self) -> Product:\n",
    "        result = self._product\n",
    "        self._product = Product()  # 새로운 Product 객체 생성 (빌더 재사용을 위해)\n",
    "        return result"
   ]
  },
  {
   "cell_type": "code",
   "execution_count": 6,
   "metadata": {},
   "outputs": [
    {
     "name": "stdout",
     "output_type": "stream",
     "text": [
      "Building part A: Part A1\n",
      "Building part B: Part B1\n",
      "Building part C: Part C1\n",
      "Product parts: Part A1, Part B1, Part C1\n"
     ]
    }
   ],
   "source": [
    "builder = ConcreteBuilder()\n",
    "\n",
    "product1 = (builder\n",
    "            .build_part_a(\"Part A1\")\n",
    "            .build_part_b(\"Part B1\")\n",
    "            .build_part_c(\"Part C1\")\n",
    "            .get_result())\n",
    "product1.show()"
   ]
  },
  {
   "cell_type": "code",
   "execution_count": 7,
   "metadata": {},
   "outputs": [
    {
     "name": "stdout",
     "output_type": "stream",
     "text": [
      "Building part A: Part A2\n",
      "Building part B: Part B2\n",
      "Product parts: Part A2, Part B2, \n"
     ]
    }
   ],
   "source": [
    "product2 = (builder\n",
    "            .build_part_a(\"Part A2\")\n",
    "            .build_part_b(\"Part B2\")\n",
    "            .get_result())\n",
    "product2.show()"
   ]
  },
  {
   "cell_type": "markdown",
   "metadata": {},
   "source": [
    "### Plant UML"
   ]
  },
  {
   "cell_type": "markdown",
   "metadata": {},
   "source": [
    "```plantuml\n",
    "@startuml\n",
    "skinparam classAttributeIconSize 0\n",
    "class Product {\n",
    "    - part_a : str\n",
    "    - part_b : str\n",
    "    - part_c : str\n",
    "    + show()\n",
    "}\n",
    "\n",
    "abstract class Builder {\n",
    "    + {abstract} build_part_a(value : str) : Builder\n",
    "    + {abstract} build_part_b(value : str) : Builder\n",
    "    + {abstract} build_part_c(value : str) : Builder\n",
    "    + {abstract} get_result() : Product\n",
    "}\n",
    "\n",
    "class ConcreteBuilder extends Builder {\n",
    "    - _product : Product\n",
    "    + build_part_a(value : str) : ConcreteBuilder\n",
    "    + build_part_b(value : str) : ConcreteBuilder\n",
    "    + build_part_c(value : str) : ConcreteBuilder\n",
    "    + get_result() : Product\n",
    "}\n",
    "\n",
    "Builder \"creates\" -- Product\n",
    "\n",
    "hide empty members\n",
    "@enduml\n",
    "```"
   ]
  }
 ],
 "metadata": {
  "kernelspec": {
   "display_name": "Python 3",
   "language": "python",
   "name": "python3"
  },
  "language_info": {
   "codemirror_mode": {
    "name": "ipython",
    "version": 3
   },
   "file_extension": ".py",
   "mimetype": "text/x-python",
   "name": "python",
   "nbconvert_exporter": "python",
   "pygments_lexer": "ipython3",
   "version": "3.12.4"
  }
 },
 "nbformat": 4,
 "nbformat_minor": 2
}
